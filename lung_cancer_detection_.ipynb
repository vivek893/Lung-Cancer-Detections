{
  "cells": [
    {
      "cell_type": "code",
      "execution_count": null,
      "id": "23af2c45",
      "metadata": {
        "id": "23af2c45",
        "colab": {
          "base_uri": "https://localhost:8080/"
        },
        "outputId": "9b03076e-82d5-49e2-e43a-a72a1ef62887"
      },
      "outputs": [
        {
          "output_type": "stream",
          "name": "stdout",
          "text": [
            "Requirement already satisfied: transformers in /usr/local/lib/python3.10/dist-packages (4.37.2)\n",
            "Requirement already satisfied: filelock in /usr/local/lib/python3.10/dist-packages (from transformers) (3.13.1)\n",
            "Requirement already satisfied: huggingface-hub<1.0,>=0.19.3 in /usr/local/lib/python3.10/dist-packages (from transformers) (0.20.3)\n",
            "Requirement already satisfied: numpy>=1.17 in /usr/local/lib/python3.10/dist-packages (from transformers) (1.23.5)\n",
            "Requirement already satisfied: packaging>=20.0 in /usr/local/lib/python3.10/dist-packages (from transformers) (23.2)\n",
            "Requirement already satisfied: pyyaml>=5.1 in /usr/local/lib/python3.10/dist-packages (from transformers) (6.0.1)\n",
            "Requirement already satisfied: regex!=2019.12.17 in /usr/local/lib/python3.10/dist-packages (from transformers) (2023.6.3)\n",
            "Requirement already satisfied: requests in /usr/local/lib/python3.10/dist-packages (from transformers) (2.31.0)\n",
            "Requirement already satisfied: tokenizers<0.19,>=0.14 in /usr/local/lib/python3.10/dist-packages (from transformers) (0.15.1)\n",
            "Requirement already satisfied: safetensors>=0.4.1 in /usr/local/lib/python3.10/dist-packages (from transformers) (0.4.2)\n",
            "Requirement already satisfied: tqdm>=4.27 in /usr/local/lib/python3.10/dist-packages (from transformers) (4.66.1)\n",
            "Requirement already satisfied: fsspec>=2023.5.0 in /usr/local/lib/python3.10/dist-packages (from huggingface-hub<1.0,>=0.19.3->transformers) (2023.6.0)\n",
            "Requirement already satisfied: typing-extensions>=3.7.4.3 in /usr/local/lib/python3.10/dist-packages (from huggingface-hub<1.0,>=0.19.3->transformers) (4.5.0)\n",
            "Requirement already satisfied: charset-normalizer<4,>=2 in /usr/local/lib/python3.10/dist-packages (from requests->transformers) (3.3.2)\n",
            "Requirement already satisfied: idna<4,>=2.5 in /usr/local/lib/python3.10/dist-packages (from requests->transformers) (3.6)\n",
            "Requirement already satisfied: urllib3<3,>=1.21.1 in /usr/local/lib/python3.10/dist-packages (from requests->transformers) (1.25.10)\n",
            "Requirement already satisfied: certifi>=2017.4.17 in /usr/local/lib/python3.10/dist-packages (from requests->transformers) (2023.11.17)\n"
          ]
        }
      ],
      "source": [
        "# Install necessary libraries\n",
        "!pip install transformers\n"
      ]
    },
    {
      "cell_type": "code",
      "execution_count": null,
      "id": "ccab7402",
      "metadata": {
        "id": "ccab7402",
        "colab": {
          "base_uri": "https://localhost:8080/"
        },
        "outputId": "d51327d4-76ff-4612-e2e0-b94b34f8c0f0"
      },
      "outputs": [
        {
          "output_type": "stream",
          "name": "stdout",
          "text": [
            "Requirement already satisfied: urllib3[secure] in /usr/local/lib/python3.10/dist-packages (1.25.10)\n",
            "Collecting urllib3[secure]\n",
            "  Using cached urllib3-2.2.0-py3-none-any.whl (120 kB)\n",
            "Requirement already satisfied: cryptography in /usr/local/lib/python3.10/dist-packages (42.0.2)\n",
            "\u001b[33mWARNING: urllib3 2.2.0 does not provide the extra 'secure'\u001b[0m\u001b[33m\n",
            "\u001b[0mRequirement already satisfied: cffi>=1.12 in /usr/local/lib/python3.10/dist-packages (from cryptography) (1.16.0)\n",
            "Requirement already satisfied: pycparser in /usr/local/lib/python3.10/dist-packages (from cffi>=1.12->cryptography) (2.21)\n",
            "Installing collected packages: urllib3\n",
            "  Attempting uninstall: urllib3\n",
            "    Found existing installation: urllib3 1.25.10\n",
            "    Uninstalling urllib3-1.25.10:\n",
            "      Successfully uninstalled urllib3-1.25.10\n",
            "Successfully installed urllib3-2.2.0\n"
          ]
        }
      ],
      "source": [
        "!pip install --upgrade urllib3[secure] cryptography\n"
      ]
    },
    {
      "cell_type": "code",
      "execution_count": null,
      "id": "7fba65d6",
      "metadata": {
        "id": "7fba65d6",
        "colab": {
          "base_uri": "https://localhost:8080/",
          "height": 252
        },
        "outputId": "bb5cf24c-575c-431b-c5e5-90252b98f965"
      },
      "outputs": [
        {
          "output_type": "stream",
          "name": "stdout",
          "text": [
            "Collecting urllib3==1.25.10\n",
            "  Using cached urllib3-1.25.10-py2.py3-none-any.whl (127 kB)\n",
            "Installing collected packages: urllib3\n",
            "  Attempting uninstall: urllib3\n",
            "    Found existing installation: urllib3 2.2.0\n",
            "    Uninstalling urllib3-2.2.0:\n",
            "      Successfully uninstalled urllib3-2.2.0\n",
            "Successfully installed urllib3-1.25.10\n"
          ]
        },
        {
          "output_type": "display_data",
          "data": {
            "application/vnd.colab-display-data+json": {
              "pip_warning": {
                "packages": [
                  "urllib3"
                ]
              }
            }
          },
          "metadata": {}
        }
      ],
      "source": [
        "!pip install urllib3==1.25.10\n"
      ]
    },
    {
      "cell_type": "code",
      "execution_count": null,
      "id": "036c5349",
      "metadata": {
        "id": "036c5349",
        "colab": {
          "base_uri": "https://localhost:8080/"
        },
        "outputId": "2df4378f-237a-42ad-85ef-47bbd9f656b6"
      },
      "outputs": [
        {
          "output_type": "stream",
          "name": "stdout",
          "text": [
            "Requirement already satisfied: torch in /usr/local/lib/python3.10/dist-packages (2.1.0+cu121)\n",
            "Requirement already satisfied: filelock in /usr/local/lib/python3.10/dist-packages (from torch) (3.13.1)\n",
            "Requirement already satisfied: typing-extensions in /usr/local/lib/python3.10/dist-packages (from torch) (4.5.0)\n",
            "Requirement already satisfied: sympy in /usr/local/lib/python3.10/dist-packages (from torch) (1.12)\n",
            "Requirement already satisfied: networkx in /usr/local/lib/python3.10/dist-packages (from torch) (3.2.1)\n",
            "Requirement already satisfied: jinja2 in /usr/local/lib/python3.10/dist-packages (from torch) (3.1.3)\n",
            "Requirement already satisfied: fsspec in /usr/local/lib/python3.10/dist-packages (from torch) (2023.6.0)\n",
            "Requirement already satisfied: triton==2.1.0 in /usr/local/lib/python3.10/dist-packages (from torch) (2.1.0)\n",
            "Requirement already satisfied: MarkupSafe>=2.0 in /usr/local/lib/python3.10/dist-packages (from jinja2->torch) (2.1.4)\n",
            "Requirement already satisfied: mpmath>=0.19 in /usr/local/lib/python3.10/dist-packages (from sympy->torch) (1.3.0)\n"
          ]
        }
      ],
      "source": [
        "!pip install torch"
      ]
    },
    {
      "cell_type": "code",
      "execution_count": null,
      "id": "57568c41",
      "metadata": {
        "id": "57568c41"
      },
      "outputs": [],
      "source": [
        "# Import libraries\n",
        "import pandas as pd\n",
        "import numpy as np\n",
        "import nltk\n",
        "import os\n",
        "from nltk.tokenize import word_tokenize, sent_tokenize\n",
        "from transformers import BertTokenizer, BertModel\n",
        "import torch\n",
        "from sklearn.model_selection import train_test_split\n",
        "from sklearn.preprocessing import OneHotEncoder\n",
        "from sklearn.metrics import accuracy_score\n",
        "from sklearn.neural_network import MLPClassifier\n",
        "from nltk.stem import PorterStemmer, WordNetLemmatizer\n"
      ]
    },
    {
      "cell_type": "code",
      "execution_count": null,
      "id": "20f5e368",
      "metadata": {
        "id": "20f5e368",
        "colab": {
          "base_uri": "https://localhost:8080/",
          "height": 620
        },
        "outputId": "da2d4ff6-70d1-43f8-df2a-dbeeeea0c078"
      },
      "outputs": [
        {
          "output_type": "execute_result",
          "data": {
            "text/plain": [
              "  Patient ID  Age  Gender Smoking History Family History Diagnosis Date  \\\n",
              "0       P001   70    Male          Smoker             No     20/04/2019   \n",
              "1       P002   36  Female       Ex-Smoker             No     07/08/2020   \n",
              "2       P003   72  Female      Non-Smoker            Yes     29/12/2022   \n",
              "3       P004   77  Female      Non-Smoker             No     21/05/2023   \n",
              "4       P005   37  Female       Ex-Smoker            Yes     01/08/2020   \n",
              "\n",
              "  Cancer Stage  Histology Type  Tumor Size Metastasis  ...  \\\n",
              "0     Stage II  Adenocarcinoma        3.93      Brain  ...   \n",
              "1      Stage I      Small Cell        7.68       Lung  ...   \n",
              "2     Stage II      Small Cell        6.26      Brain  ...   \n",
              "3    Stage III  Adenocarcinoma        5.39      Brain  ...   \n",
              "4     Stage IV  Adenocarcinoma        2.51      Liver  ...   \n",
              "\n",
              "               Symptom 1                                          Symptom 2  \\\n",
              "0       Loss of appetite                                          Headaches   \n",
              "1       Loss of appetite                              Persistent infections   \n",
              "2  Difficulty swallowing                            Unexplained weight loss   \n",
              "3              Headaches                                         Joint pain   \n",
              "4  Difficulty swallowing  Neurological symptoms (e.g., dizziness, weakness)   \n",
              "\n",
              "                                           Symptom 3 Response to Treatment  \\\n",
              "0                                            Fatigue     Complete Response   \n",
              "1                                Shortness of breath      Partial Response   \n",
              "2  Neurological symptoms (e.g., dizziness, weakness)           Progression   \n",
              "3                                            Fatigue     Complete Response   \n",
              "4                                   Persistent cough     Complete Response   \n",
              "\n",
              "  DFS (months) OS (months)                                     Adverse Events  \\\n",
              "0           60          34  Diarrhea, Neutropenia, Fatigue, Vomiting, Muco...   \n",
              "1           18          48       Mucositis, Diarrhea, Fatigue, Hypothyroidism   \n",
              "2           53          53                               Neutropenia, Fatigue   \n",
              "3           55          70                                        Pneumonitis   \n",
              "4           35          43                           Nausea, Anemia, Vomiting   \n",
              "\n",
              "  HRQoL Assessment                             Follow-up Appointments  \\\n",
              "0         Improved  ['2024-04-07', '2025-12-29', '2025-07-05', '20...   \n",
              "1           Stable  ['2028-06-03', '2028-06-07', '2028-04-04', '20...   \n",
              "2         Improved  ['2024-02-18', '2026-11-08', '2024-09-07', '20...   \n",
              "3           Stable  ['2028-03-04', '2025-12-16', '2024-12-16', '20...   \n",
              "4         Improved  ['2024-05-11', '2025-10-30', '2024-03-03', '20...   \n",
              "\n",
              "                           Patient-reported Outcomes  \n",
              "0  Maintaining a positive outlook despite challen...  \n",
              "1  Having challenges with daily activities due to...  \n",
              "2             Feeling generally unwell and fatigued.  \n",
              "3          Experiencing side effects from treatment.  \n",
              "4  Struggling with the impact of the diagnosis on...  \n",
              "\n",
              "[5 rows x 30 columns]"
            ],
            "text/html": [
              "\n",
              "  <div id=\"df-a91432de-6c66-4234-b9cf-add5ebfe4fea\" class=\"colab-df-container\">\n",
              "    <div>\n",
              "<style scoped>\n",
              "    .dataframe tbody tr th:only-of-type {\n",
              "        vertical-align: middle;\n",
              "    }\n",
              "\n",
              "    .dataframe tbody tr th {\n",
              "        vertical-align: top;\n",
              "    }\n",
              "\n",
              "    .dataframe thead th {\n",
              "        text-align: right;\n",
              "    }\n",
              "</style>\n",
              "<table border=\"1\" class=\"dataframe\">\n",
              "  <thead>\n",
              "    <tr style=\"text-align: right;\">\n",
              "      <th></th>\n",
              "      <th>Patient ID</th>\n",
              "      <th>Age</th>\n",
              "      <th>Gender</th>\n",
              "      <th>Smoking History</th>\n",
              "      <th>Family History</th>\n",
              "      <th>Diagnosis Date</th>\n",
              "      <th>Cancer Stage</th>\n",
              "      <th>Histology Type</th>\n",
              "      <th>Tumor Size</th>\n",
              "      <th>Metastasis</th>\n",
              "      <th>...</th>\n",
              "      <th>Symptom 1</th>\n",
              "      <th>Symptom 2</th>\n",
              "      <th>Symptom 3</th>\n",
              "      <th>Response to Treatment</th>\n",
              "      <th>DFS (months)</th>\n",
              "      <th>OS (months)</th>\n",
              "      <th>Adverse Events</th>\n",
              "      <th>HRQoL Assessment</th>\n",
              "      <th>Follow-up Appointments</th>\n",
              "      <th>Patient-reported Outcomes</th>\n",
              "    </tr>\n",
              "  </thead>\n",
              "  <tbody>\n",
              "    <tr>\n",
              "      <th>0</th>\n",
              "      <td>P001</td>\n",
              "      <td>70</td>\n",
              "      <td>Male</td>\n",
              "      <td>Smoker</td>\n",
              "      <td>No</td>\n",
              "      <td>20/04/2019</td>\n",
              "      <td>Stage II</td>\n",
              "      <td>Adenocarcinoma</td>\n",
              "      <td>3.93</td>\n",
              "      <td>Brain</td>\n",
              "      <td>...</td>\n",
              "      <td>Loss of appetite</td>\n",
              "      <td>Headaches</td>\n",
              "      <td>Fatigue</td>\n",
              "      <td>Complete Response</td>\n",
              "      <td>60</td>\n",
              "      <td>34</td>\n",
              "      <td>Diarrhea, Neutropenia, Fatigue, Vomiting, Muco...</td>\n",
              "      <td>Improved</td>\n",
              "      <td>['2024-04-07', '2025-12-29', '2025-07-05', '20...</td>\n",
              "      <td>Maintaining a positive outlook despite challen...</td>\n",
              "    </tr>\n",
              "    <tr>\n",
              "      <th>1</th>\n",
              "      <td>P002</td>\n",
              "      <td>36</td>\n",
              "      <td>Female</td>\n",
              "      <td>Ex-Smoker</td>\n",
              "      <td>No</td>\n",
              "      <td>07/08/2020</td>\n",
              "      <td>Stage I</td>\n",
              "      <td>Small Cell</td>\n",
              "      <td>7.68</td>\n",
              "      <td>Lung</td>\n",
              "      <td>...</td>\n",
              "      <td>Loss of appetite</td>\n",
              "      <td>Persistent infections</td>\n",
              "      <td>Shortness of breath</td>\n",
              "      <td>Partial Response</td>\n",
              "      <td>18</td>\n",
              "      <td>48</td>\n",
              "      <td>Mucositis, Diarrhea, Fatigue, Hypothyroidism</td>\n",
              "      <td>Stable</td>\n",
              "      <td>['2028-06-03', '2028-06-07', '2028-04-04', '20...</td>\n",
              "      <td>Having challenges with daily activities due to...</td>\n",
              "    </tr>\n",
              "    <tr>\n",
              "      <th>2</th>\n",
              "      <td>P003</td>\n",
              "      <td>72</td>\n",
              "      <td>Female</td>\n",
              "      <td>Non-Smoker</td>\n",
              "      <td>Yes</td>\n",
              "      <td>29/12/2022</td>\n",
              "      <td>Stage II</td>\n",
              "      <td>Small Cell</td>\n",
              "      <td>6.26</td>\n",
              "      <td>Brain</td>\n",
              "      <td>...</td>\n",
              "      <td>Difficulty swallowing</td>\n",
              "      <td>Unexplained weight loss</td>\n",
              "      <td>Neurological symptoms (e.g., dizziness, weakness)</td>\n",
              "      <td>Progression</td>\n",
              "      <td>53</td>\n",
              "      <td>53</td>\n",
              "      <td>Neutropenia, Fatigue</td>\n",
              "      <td>Improved</td>\n",
              "      <td>['2024-02-18', '2026-11-08', '2024-09-07', '20...</td>\n",
              "      <td>Feeling generally unwell and fatigued.</td>\n",
              "    </tr>\n",
              "    <tr>\n",
              "      <th>3</th>\n",
              "      <td>P004</td>\n",
              "      <td>77</td>\n",
              "      <td>Female</td>\n",
              "      <td>Non-Smoker</td>\n",
              "      <td>No</td>\n",
              "      <td>21/05/2023</td>\n",
              "      <td>Stage III</td>\n",
              "      <td>Adenocarcinoma</td>\n",
              "      <td>5.39</td>\n",
              "      <td>Brain</td>\n",
              "      <td>...</td>\n",
              "      <td>Headaches</td>\n",
              "      <td>Joint pain</td>\n",
              "      <td>Fatigue</td>\n",
              "      <td>Complete Response</td>\n",
              "      <td>55</td>\n",
              "      <td>70</td>\n",
              "      <td>Pneumonitis</td>\n",
              "      <td>Stable</td>\n",
              "      <td>['2028-03-04', '2025-12-16', '2024-12-16', '20...</td>\n",
              "      <td>Experiencing side effects from treatment.</td>\n",
              "    </tr>\n",
              "    <tr>\n",
              "      <th>4</th>\n",
              "      <td>P005</td>\n",
              "      <td>37</td>\n",
              "      <td>Female</td>\n",
              "      <td>Ex-Smoker</td>\n",
              "      <td>Yes</td>\n",
              "      <td>01/08/2020</td>\n",
              "      <td>Stage IV</td>\n",
              "      <td>Adenocarcinoma</td>\n",
              "      <td>2.51</td>\n",
              "      <td>Liver</td>\n",
              "      <td>...</td>\n",
              "      <td>Difficulty swallowing</td>\n",
              "      <td>Neurological symptoms (e.g., dizziness, weakness)</td>\n",
              "      <td>Persistent cough</td>\n",
              "      <td>Complete Response</td>\n",
              "      <td>35</td>\n",
              "      <td>43</td>\n",
              "      <td>Nausea, Anemia, Vomiting</td>\n",
              "      <td>Improved</td>\n",
              "      <td>['2024-05-11', '2025-10-30', '2024-03-03', '20...</td>\n",
              "      <td>Struggling with the impact of the diagnosis on...</td>\n",
              "    </tr>\n",
              "  </tbody>\n",
              "</table>\n",
              "<p>5 rows × 30 columns</p>\n",
              "</div>\n",
              "    <div class=\"colab-df-buttons\">\n",
              "\n",
              "  <div class=\"colab-df-container\">\n",
              "    <button class=\"colab-df-convert\" onclick=\"convertToInteractive('df-a91432de-6c66-4234-b9cf-add5ebfe4fea')\"\n",
              "            title=\"Convert this dataframe to an interactive table.\"\n",
              "            style=\"display:none;\">\n",
              "\n",
              "  <svg xmlns=\"http://www.w3.org/2000/svg\" height=\"24px\" viewBox=\"0 -960 960 960\">\n",
              "    <path d=\"M120-120v-720h720v720H120Zm60-500h600v-160H180v160Zm220 220h160v-160H400v160Zm0 220h160v-160H400v160ZM180-400h160v-160H180v160Zm440 0h160v-160H620v160ZM180-180h160v-160H180v160Zm440 0h160v-160H620v160Z\"/>\n",
              "  </svg>\n",
              "    </button>\n",
              "\n",
              "  <style>\n",
              "    .colab-df-container {\n",
              "      display:flex;\n",
              "      gap: 12px;\n",
              "    }\n",
              "\n",
              "    .colab-df-convert {\n",
              "      background-color: #E8F0FE;\n",
              "      border: none;\n",
              "      border-radius: 50%;\n",
              "      cursor: pointer;\n",
              "      display: none;\n",
              "      fill: #1967D2;\n",
              "      height: 32px;\n",
              "      padding: 0 0 0 0;\n",
              "      width: 32px;\n",
              "    }\n",
              "\n",
              "    .colab-df-convert:hover {\n",
              "      background-color: #E2EBFA;\n",
              "      box-shadow: 0px 1px 2px rgba(60, 64, 67, 0.3), 0px 1px 3px 1px rgba(60, 64, 67, 0.15);\n",
              "      fill: #174EA6;\n",
              "    }\n",
              "\n",
              "    .colab-df-buttons div {\n",
              "      margin-bottom: 4px;\n",
              "    }\n",
              "\n",
              "    [theme=dark] .colab-df-convert {\n",
              "      background-color: #3B4455;\n",
              "      fill: #D2E3FC;\n",
              "    }\n",
              "\n",
              "    [theme=dark] .colab-df-convert:hover {\n",
              "      background-color: #434B5C;\n",
              "      box-shadow: 0px 1px 3px 1px rgba(0, 0, 0, 0.15);\n",
              "      filter: drop-shadow(0px 1px 2px rgba(0, 0, 0, 0.3));\n",
              "      fill: #FFFFFF;\n",
              "    }\n",
              "  </style>\n",
              "\n",
              "    <script>\n",
              "      const buttonEl =\n",
              "        document.querySelector('#df-a91432de-6c66-4234-b9cf-add5ebfe4fea button.colab-df-convert');\n",
              "      buttonEl.style.display =\n",
              "        google.colab.kernel.accessAllowed ? 'block' : 'none';\n",
              "\n",
              "      async function convertToInteractive(key) {\n",
              "        const element = document.querySelector('#df-a91432de-6c66-4234-b9cf-add5ebfe4fea');\n",
              "        const dataTable =\n",
              "          await google.colab.kernel.invokeFunction('convertToInteractive',\n",
              "                                                    [key], {});\n",
              "        if (!dataTable) return;\n",
              "\n",
              "        const docLinkHtml = 'Like what you see? Visit the ' +\n",
              "          '<a target=\"_blank\" href=https://colab.research.google.com/notebooks/data_table.ipynb>data table notebook</a>'\n",
              "          + ' to learn more about interactive tables.';\n",
              "        element.innerHTML = '';\n",
              "        dataTable['output_type'] = 'display_data';\n",
              "        await google.colab.output.renderOutput(dataTable, element);\n",
              "        const docLink = document.createElement('div');\n",
              "        docLink.innerHTML = docLinkHtml;\n",
              "        element.appendChild(docLink);\n",
              "      }\n",
              "    </script>\n",
              "  </div>\n",
              "\n",
              "\n",
              "<div id=\"df-1433a1e2-751d-451f-bb8b-97c666711ae5\">\n",
              "  <button class=\"colab-df-quickchart\" onclick=\"quickchart('df-1433a1e2-751d-451f-bb8b-97c666711ae5')\"\n",
              "            title=\"Suggest charts\"\n",
              "            style=\"display:none;\">\n",
              "\n",
              "<svg xmlns=\"http://www.w3.org/2000/svg\" height=\"24px\"viewBox=\"0 0 24 24\"\n",
              "     width=\"24px\">\n",
              "    <g>\n",
              "        <path d=\"M19 3H5c-1.1 0-2 .9-2 2v14c0 1.1.9 2 2 2h14c1.1 0 2-.9 2-2V5c0-1.1-.9-2-2-2zM9 17H7v-7h2v7zm4 0h-2V7h2v10zm4 0h-2v-4h2v4z\"/>\n",
              "    </g>\n",
              "</svg>\n",
              "  </button>\n",
              "\n",
              "<style>\n",
              "  .colab-df-quickchart {\n",
              "      --bg-color: #E8F0FE;\n",
              "      --fill-color: #1967D2;\n",
              "      --hover-bg-color: #E2EBFA;\n",
              "      --hover-fill-color: #174EA6;\n",
              "      --disabled-fill-color: #AAA;\n",
              "      --disabled-bg-color: #DDD;\n",
              "  }\n",
              "\n",
              "  [theme=dark] .colab-df-quickchart {\n",
              "      --bg-color: #3B4455;\n",
              "      --fill-color: #D2E3FC;\n",
              "      --hover-bg-color: #434B5C;\n",
              "      --hover-fill-color: #FFFFFF;\n",
              "      --disabled-bg-color: #3B4455;\n",
              "      --disabled-fill-color: #666;\n",
              "  }\n",
              "\n",
              "  .colab-df-quickchart {\n",
              "    background-color: var(--bg-color);\n",
              "    border: none;\n",
              "    border-radius: 50%;\n",
              "    cursor: pointer;\n",
              "    display: none;\n",
              "    fill: var(--fill-color);\n",
              "    height: 32px;\n",
              "    padding: 0;\n",
              "    width: 32px;\n",
              "  }\n",
              "\n",
              "  .colab-df-quickchart:hover {\n",
              "    background-color: var(--hover-bg-color);\n",
              "    box-shadow: 0 1px 2px rgba(60, 64, 67, 0.3), 0 1px 3px 1px rgba(60, 64, 67, 0.15);\n",
              "    fill: var(--button-hover-fill-color);\n",
              "  }\n",
              "\n",
              "  .colab-df-quickchart-complete:disabled,\n",
              "  .colab-df-quickchart-complete:disabled:hover {\n",
              "    background-color: var(--disabled-bg-color);\n",
              "    fill: var(--disabled-fill-color);\n",
              "    box-shadow: none;\n",
              "  }\n",
              "\n",
              "  .colab-df-spinner {\n",
              "    border: 2px solid var(--fill-color);\n",
              "    border-color: transparent;\n",
              "    border-bottom-color: var(--fill-color);\n",
              "    animation:\n",
              "      spin 1s steps(1) infinite;\n",
              "  }\n",
              "\n",
              "  @keyframes spin {\n",
              "    0% {\n",
              "      border-color: transparent;\n",
              "      border-bottom-color: var(--fill-color);\n",
              "      border-left-color: var(--fill-color);\n",
              "    }\n",
              "    20% {\n",
              "      border-color: transparent;\n",
              "      border-left-color: var(--fill-color);\n",
              "      border-top-color: var(--fill-color);\n",
              "    }\n",
              "    30% {\n",
              "      border-color: transparent;\n",
              "      border-left-color: var(--fill-color);\n",
              "      border-top-color: var(--fill-color);\n",
              "      border-right-color: var(--fill-color);\n",
              "    }\n",
              "    40% {\n",
              "      border-color: transparent;\n",
              "      border-right-color: var(--fill-color);\n",
              "      border-top-color: var(--fill-color);\n",
              "    }\n",
              "    60% {\n",
              "      border-color: transparent;\n",
              "      border-right-color: var(--fill-color);\n",
              "    }\n",
              "    80% {\n",
              "      border-color: transparent;\n",
              "      border-right-color: var(--fill-color);\n",
              "      border-bottom-color: var(--fill-color);\n",
              "    }\n",
              "    90% {\n",
              "      border-color: transparent;\n",
              "      border-bottom-color: var(--fill-color);\n",
              "    }\n",
              "  }\n",
              "</style>\n",
              "\n",
              "  <script>\n",
              "    async function quickchart(key) {\n",
              "      const quickchartButtonEl =\n",
              "        document.querySelector('#' + key + ' button');\n",
              "      quickchartButtonEl.disabled = true;  // To prevent multiple clicks.\n",
              "      quickchartButtonEl.classList.add('colab-df-spinner');\n",
              "      try {\n",
              "        const charts = await google.colab.kernel.invokeFunction(\n",
              "            'suggestCharts', [key], {});\n",
              "      } catch (error) {\n",
              "        console.error('Error during call to suggestCharts:', error);\n",
              "      }\n",
              "      quickchartButtonEl.classList.remove('colab-df-spinner');\n",
              "      quickchartButtonEl.classList.add('colab-df-quickchart-complete');\n",
              "    }\n",
              "    (() => {\n",
              "      let quickchartButtonEl =\n",
              "        document.querySelector('#df-1433a1e2-751d-451f-bb8b-97c666711ae5 button');\n",
              "      quickchartButtonEl.style.display =\n",
              "        google.colab.kernel.accessAllowed ? 'block' : 'none';\n",
              "    })();\n",
              "  </script>\n",
              "</div>\n",
              "\n",
              "    </div>\n",
              "  </div>\n"
            ]
          },
          "metadata": {},
          "execution_count": 164
        }
      ],
      "source": [
        "cancer_data=pd.read_csv('lung_cancer_dataset.csv')\n",
        "cancer_data.head()"
      ]
    },
    {
      "cell_type": "code",
      "source": [
        "# Create a new column 'Status' based on the 'metasis' column\n",
        "cancer_data['Status'] = cancer_data['Metastasis'].apply(lambda x: 'Yes' if x == 'lung' else 'No')\n",
        "\n",
        "# Save the updated dataset\n",
        "cancer_data.to_csv('lung_cancer_dataset_update.csv', index=False)\n"
      ],
      "metadata": {
        "id": "EoJbwY4YmuNd"
      },
      "id": "EoJbwY4YmuNd",
      "execution_count": null,
      "outputs": []
    },
    {
      "cell_type": "code",
      "execution_count": null,
      "id": "ac80e133",
      "metadata": {
        "id": "ac80e133",
        "colab": {
          "base_uri": "https://localhost:8080/"
        },
        "outputId": "97b26fbd-1371-4ae0-e7a5-349eb6ee1d09"
      },
      "outputs": [
        {
          "output_type": "stream",
          "name": "stdout",
          "text": [
            "Requirement already satisfied: urllib3 in /usr/local/lib/python3.10/dist-packages (1.25.10)\n"
          ]
        }
      ],
      "source": [
        "!pip install urllib3"
      ]
    },
    {
      "cell_type": "code",
      "execution_count": null,
      "id": "a450980a",
      "metadata": {
        "id": "a450980a",
        "colab": {
          "base_uri": "https://localhost:8080/"
        },
        "outputId": "2db2c8e1-85d8-4939-88b9-e5c9948754b3"
      },
      "outputs": [
        {
          "output_type": "execute_result",
          "data": {
            "text/plain": [
              "Patient ID                       0\n",
              "Age                              0\n",
              "Gender                           0\n",
              "Smoking History                  0\n",
              "Family History                   0\n",
              "Diagnosis Date                   0\n",
              "Cancer Stage                     0\n",
              "Histology Type                   0\n",
              "Tumor Size                       0\n",
              "Metastasis                       0\n",
              "Treatment Type                   0\n",
              "Geneset                          0\n",
              "Genetic Mutations                0\n",
              "Blood Markers                    0\n",
              "IHC Results                      0\n",
              "Radiation Therapy Details        0\n",
              "Chemotherapy Regimen             0\n",
              "Clinical Trial Participation     0\n",
              "Comorbidities                   29\n",
              "ECOG Performance Status          0\n",
              "Symptom 1                        0\n",
              "Symptom 2                        0\n",
              "Symptom 3                        0\n",
              "Response to Treatment            0\n",
              "DFS (months)                     0\n",
              "OS (months)                      0\n",
              "Adverse Events                  14\n",
              "HRQoL Assessment                 0\n",
              "Follow-up Appointments           0\n",
              "Patient-reported Outcomes        0\n",
              "Status                           0\n",
              "dtype: int64"
            ]
          },
          "metadata": {},
          "execution_count": 167
        }
      ],
      "source": [
        "cancer_data.isna().sum()"
      ]
    },
    {
      "cell_type": "code",
      "execution_count": null,
      "id": "e17ab5f4",
      "metadata": {
        "id": "e17ab5f4",
        "colab": {
          "base_uri": "https://localhost:8080/"
        },
        "outputId": "c7a7454f-56d8-4f66-d6e2-e46dfa575bd4"
      },
      "outputs": [
        {
          "output_type": "execute_result",
          "data": {
            "text/plain": [
              "(200, 30)"
            ]
          },
          "metadata": {},
          "execution_count": 76
        }
      ],
      "source": [
        "cancer_data.shape"
      ]
    },
    {
      "cell_type": "code",
      "execution_count": null,
      "id": "86b02e4a",
      "metadata": {
        "id": "86b02e4a",
        "colab": {
          "base_uri": "https://localhost:8080/"
        },
        "outputId": "9399ffe7-7aec-46fa-a0e0-d905d500ffa6"
      },
      "outputs": [
        {
          "output_type": "stream",
          "name": "stdout",
          "text": [
            "<class 'pandas.core.frame.DataFrame'>\n",
            "RangeIndex: 200 entries, 0 to 199\n",
            "Data columns (total 30 columns):\n",
            " #   Column                        Non-Null Count  Dtype  \n",
            "---  ------                        --------------  -----  \n",
            " 0   Patient ID                    200 non-null    object \n",
            " 1   Age                           200 non-null    int64  \n",
            " 2   Gender                        200 non-null    object \n",
            " 3   Smoking History               200 non-null    object \n",
            " 4   Family History                200 non-null    object \n",
            " 5   Diagnosis Date                200 non-null    object \n",
            " 6   Cancer Stage                  200 non-null    object \n",
            " 7   Histology Type                200 non-null    object \n",
            " 8   Tumor Size                    200 non-null    float64\n",
            " 9   Metastasis                    200 non-null    object \n",
            " 10  Treatment Type                200 non-null    object \n",
            " 11  Geneset                       200 non-null    object \n",
            " 12  Genetic Mutations             200 non-null    object \n",
            " 13  Blood Markers                 200 non-null    object \n",
            " 14  IHC Results                   200 non-null    object \n",
            " 15  Radiation Therapy Details     200 non-null    object \n",
            " 16  Chemotherapy Regimen          200 non-null    object \n",
            " 17  Clinical Trial Participation  200 non-null    object \n",
            " 18  Comorbidities                 171 non-null    object \n",
            " 19  ECOG Performance Status       200 non-null    int64  \n",
            " 20  Symptom 1                     200 non-null    object \n",
            " 21  Symptom 2                     200 non-null    object \n",
            " 22  Symptom 3                     200 non-null    object \n",
            " 23  Response to Treatment         200 non-null    object \n",
            " 24  DFS (months)                  200 non-null    int64  \n",
            " 25  OS (months)                   200 non-null    int64  \n",
            " 26  Adverse Events                186 non-null    object \n",
            " 27  HRQoL Assessment              200 non-null    object \n",
            " 28  Follow-up Appointments        200 non-null    object \n",
            " 29  Patient-reported Outcomes     200 non-null    object \n",
            "dtypes: float64(1), int64(4), object(25)\n",
            "memory usage: 47.0+ KB\n"
          ]
        }
      ],
      "source": [
        "cancer_data.info()"
      ]
    },
    {
      "cell_type": "code",
      "execution_count": null,
      "id": "20057f30",
      "metadata": {
        "id": "20057f30"
      },
      "outputs": [],
      "source": [
        "cancer_data=cancer_data.dropna()"
      ]
    },
    {
      "cell_type": "code",
      "execution_count": null,
      "id": "672f4472",
      "metadata": {
        "id": "672f4472",
        "colab": {
          "base_uri": "https://localhost:8080/"
        },
        "outputId": "3aa3f9c4-0dbe-4047-a4ad-cfd9f463a4d4"
      },
      "outputs": [
        {
          "output_type": "execute_result",
          "data": {
            "text/plain": [
              "(158, 30)"
            ]
          },
          "metadata": {},
          "execution_count": 79
        }
      ],
      "source": [
        "cancer_data.shape"
      ]
    },
    {
      "cell_type": "code",
      "execution_count": null,
      "id": "a0d13dc5",
      "metadata": {
        "id": "a0d13dc5",
        "colab": {
          "base_uri": "https://localhost:8080/"
        },
        "outputId": "da94fcf7-b6b5-4c8e-d4d9-a73eb939370d"
      },
      "outputs": [
        {
          "output_type": "stream",
          "name": "stdout",
          "text": [
            "Requirement already satisfied: transformers in /usr/local/lib/python3.10/dist-packages (4.37.2)\n",
            "Requirement already satisfied: filelock in /usr/local/lib/python3.10/dist-packages (from transformers) (3.13.1)\n",
            "Requirement already satisfied: huggingface-hub<1.0,>=0.19.3 in /usr/local/lib/python3.10/dist-packages (from transformers) (0.20.3)\n",
            "Requirement already satisfied: numpy>=1.17 in /usr/local/lib/python3.10/dist-packages (from transformers) (1.23.5)\n",
            "Requirement already satisfied: packaging>=20.0 in /usr/local/lib/python3.10/dist-packages (from transformers) (23.2)\n",
            "Requirement already satisfied: pyyaml>=5.1 in /usr/local/lib/python3.10/dist-packages (from transformers) (6.0.1)\n",
            "Requirement already satisfied: regex!=2019.12.17 in /usr/local/lib/python3.10/dist-packages (from transformers) (2023.6.3)\n",
            "Requirement already satisfied: requests in /usr/local/lib/python3.10/dist-packages (from transformers) (2.31.0)\n",
            "Requirement already satisfied: tokenizers<0.19,>=0.14 in /usr/local/lib/python3.10/dist-packages (from transformers) (0.15.1)\n",
            "Requirement already satisfied: safetensors>=0.4.1 in /usr/local/lib/python3.10/dist-packages (from transformers) (0.4.2)\n",
            "Requirement already satisfied: tqdm>=4.27 in /usr/local/lib/python3.10/dist-packages (from transformers) (4.66.1)\n",
            "Requirement already satisfied: fsspec>=2023.5.0 in /usr/local/lib/python3.10/dist-packages (from huggingface-hub<1.0,>=0.19.3->transformers) (2023.6.0)\n",
            "Requirement already satisfied: typing-extensions>=3.7.4.3 in /usr/local/lib/python3.10/dist-packages (from huggingface-hub<1.0,>=0.19.3->transformers) (4.5.0)\n",
            "Requirement already satisfied: charset-normalizer<4,>=2 in /usr/local/lib/python3.10/dist-packages (from requests->transformers) (3.3.2)\n",
            "Requirement already satisfied: idna<4,>=2.5 in /usr/local/lib/python3.10/dist-packages (from requests->transformers) (3.6)\n",
            "Requirement already satisfied: urllib3<3,>=1.21.1 in /usr/local/lib/python3.10/dist-packages (from requests->transformers) (1.25.10)\n",
            "Requirement already satisfied: certifi>=2017.4.17 in /usr/local/lib/python3.10/dist-packages (from requests->transformers) (2023.11.17)\n"
          ]
        }
      ],
      "source": [
        "!pip install --upgrade transformers\n"
      ]
    },
    {
      "cell_type": "code",
      "source": [
        " import nltk\n",
        "nltk.download('punkt')"
      ],
      "metadata": {
        "id": "aSi7OJQkEUkj",
        "colab": {
          "base_uri": "https://localhost:8080/"
        },
        "outputId": "693285f7-eb43-4ab8-93e4-6f6a5ba4c32b"
      },
      "id": "aSi7OJQkEUkj",
      "execution_count": null,
      "outputs": [
        {
          "output_type": "stream",
          "name": "stderr",
          "text": [
            "[nltk_data] Downloading package punkt to /root/nltk_data...\n",
            "[nltk_data]   Package punkt is already up-to-date!\n"
          ]
        },
        {
          "output_type": "execute_result",
          "data": {
            "text/plain": [
              "True"
            ]
          },
          "metadata": {},
          "execution_count": 81
        }
      ]
    },
    {
      "cell_type": "code",
      "execution_count": null,
      "id": "23fd8cba",
      "metadata": {
        "id": "23fd8cba",
        "colab": {
          "base_uri": "https://localhost:8080/"
        },
        "outputId": "8c89425d-897d-4e35-d7de-833796a5f5cb"
      },
      "outputs": [
        {
          "output_type": "stream",
          "name": "stdout",
          "text": [
            "Enter a user input (or 'quit' to stop):  XYZ is a 54-year-old African American male, who presents to the ED with a complaint of a two-week history of hoarseness that is not getting better. When questioned further, he admits that his usual morning \"smoker's cough\" is getting worse and that he has \"given serious thought lately to quitting smoking in the near  future.\"  PMH:  Hypothyroidism 27 years  • Bilateral osteoarthritis of knees 8 years  • Depression 2 years  Iron deficiency anemia of unknown cause, 8 months  Seasonal allergic rhinitis since adolescence  Several episodes of mildly bloody sputum in past year that resolved in a few days; patient  did not seek medical help  No prior history of trauma or surgeries  • Had influenza vaccine last year  Last tetanus booster, 6 years ago.  Family history is negative for lung cancer; however, there is a positive family history for other types of cancer-paternal uncle with colorectal cancer, one niece with non-Hodgkin's lymphoma, and one niece with malignant melanoma Patient is positive for worsening cough and recent onset of shortness of breath with moderate exertion (e.g., climbing one flight of stairs)  • Patient denies all of the following: fever and chills; fatigue; weakness; poor appetite; unintentional eight loss; difficulty or pain with swallowing; pain in chest, abdomen, shoulders, or back; recent onset of vision problems; headache; nausea or vomiting; dizziness; significant swelling; bowel or bladder problems  • Wheeze auscultated in right upper lobe on inspiration  • Percussion reveals area of resonance to dullness over right upper lobe Heart  • Apical pulse normally located at 5th intercostal space at mid-clavicular line Regular rate and rhythm  Normal S1 and S2  (-) murmurs, rubs, S3 and S4  Chest X-Rays  Anteroposteriorandlateralviewsshowa3.5-cmmasslocatedcentrallyinrightupperlobe displacing the right bronchus, roughly corresponding to the area of dullness and wheezing heard by auscultation  Left lung is clear  • No signs of pleural effusion were noted  CT Scans  Chest: Reveals the lesion seen on x-rays plus mediastinal widening and moderately enlarged right-sided hilar nodes; left-sided hilar nodes and all mediastinal nodes appear normal\n",
            "Enter a user input (or 'quit' to stop): quit\n",
            "['XYZ', 'is', 'a', '54-year-old', 'African', 'American', 'male', ',', 'who', 'presents', 'to', 'the', 'ED', 'with', 'a', 'complaint', 'of', 'a', 'two-week', 'history', 'of', 'hoarseness', 'that', 'is', 'not', 'getting', 'better', '.', 'When', 'questioned', 'further', ',', 'he', 'admits', 'that', 'his', 'usual', 'morning', '``', 'smoker', \"'s\", 'cough', \"''\", 'is', 'getting', 'worse', 'and', 'that', 'he', 'has', '``', 'given', 'serious', 'thought', 'lately', 'to', 'quitting', 'smoking', 'in', 'the', 'near', 'future', '.', \"''\", 'PMH', ':', 'Hypothyroidism', '27', 'years', '•', 'Bilateral', 'osteoarthritis', 'of', 'knees', '8', 'years', '•', 'Depression', '2', 'years', 'Iron', 'deficiency', 'anemia', 'of', 'unknown', 'cause', ',', '8', 'months', 'Seasonal', 'allergic', 'rhinitis', 'since', 'adolescence', 'Several', 'episodes', 'of', 'mildly', 'bloody', 'sputum', 'in', 'past', 'year', 'that', 'resolved', 'in', 'a', 'few', 'days', ';', 'patient', 'did', 'not', 'seek', 'medical', 'help', 'No', 'prior', 'history', 'of', 'trauma', 'or', 'surgeries', '•', 'Had', 'influenza', 'vaccine', 'last', 'year', 'Last', 'tetanus', 'booster', ',', '6', 'years', 'ago', '.', 'Family', 'history', 'is', 'negative', 'for', 'lung', 'cancer', ';', 'however', ',', 'there', 'is', 'a', 'positive', 'family', 'history', 'for', 'other', 'types', 'of', 'cancer-paternal', 'uncle', 'with', 'colorectal', 'cancer', ',', 'one', 'niece', 'with', 'non-Hodgkin', \"'s\", 'lymphoma', ',', 'and', 'one', 'niece', 'with', 'malignant', 'melanoma', 'Patient', 'is', 'positive', 'for', 'worsening', 'cough', 'and', 'recent', 'onset', 'of', 'shortness', 'of', 'breath', 'with', 'moderate', 'exertion', '(', 'e.g.', ',', 'climbing', 'one', 'flight', 'of', 'stairs', ')', '•', 'Patient', 'denies', 'all', 'of', 'the', 'following', ':', 'fever', 'and', 'chills', ';', 'fatigue', ';', 'weakness', ';', 'poor', 'appetite', ';', 'unintentional', 'eight', 'loss', ';', 'difficulty', 'or', 'pain', 'with', 'swallowing', ';', 'pain', 'in', 'chest', ',', 'abdomen', ',', 'shoulders', ',', 'or', 'back', ';', 'recent', 'onset', 'of', 'vision', 'problems', ';', 'headache', ';', 'nausea', 'or', 'vomiting', ';', 'dizziness', ';', 'significant', 'swelling', ';', 'bowel', 'or', 'bladder', 'problems', '•', 'Wheeze', 'auscultated', 'in', 'right', 'upper', 'lobe', 'on', 'inspiration', '•', 'Percussion', 'reveals', 'area', 'of', 'resonance', 'to', 'dullness', 'over', 'right', 'upper', 'lobe', 'Heart', '•', 'Apical', 'pulse', 'normally', 'located', 'at', '5th', 'intercostal', 'space', 'at', 'mid-clavicular', 'line', 'Regular', 'rate', 'and', 'rhythm', 'Normal', 'S1', 'and', 'S2', '(', '-', ')', 'murmurs', ',', 'rubs', ',', 'S3', 'and', 'S4', 'Chest', 'X-Rays', 'Anteroposteriorandlateralviewsshowa3.5-cmmasslocatedcentrallyinrightupperlobe', 'displacing', 'the', 'right', 'bronchus', ',', 'roughly', 'corresponding', 'to', 'the', 'area', 'of', 'dullness', 'and', 'wheezing', 'heard', 'by', 'auscultation', 'Left', 'lung', 'is', 'clear', '•', 'No', 'signs', 'of', 'pleural', 'effusion', 'were', 'noted', 'CT', 'Scans', 'Chest', ':', 'Reveals', 'the', 'lesion', 'seen', 'on', 'x-rays', 'plus', 'mediastinal', 'widening', 'and', 'moderately', 'enlarged', 'right-sided', 'hilar', 'nodes', ';', 'left-sided', 'hilar', 'nodes', 'and', 'all', 'mediastinal', 'nodes', 'appear', 'normal']\n"
          ]
        }
      ],
      "source": [
        "# Sample Medical Transcript\n",
        "user_inputs = []\n",
        "while True:\n",
        "    user_input = input(\"Enter a user input (or 'quit' to stop): \")\n",
        "    if user_input.lower() == \"quit\":\n",
        "        break\n",
        "    user_inputs.append(user_input)\n",
        "for i in user_inputs:\n",
        "    # Tokenize using NLTK\n",
        "    tokens = word_tokenize(i)\n",
        "    tokenizer = word_tokenize\n",
        "# Output the tokens\n",
        "print(tokens)\n"
      ]
    },
    {
      "cell_type": "code",
      "execution_count": null,
      "id": "9e7162df",
      "metadata": {
        "id": "9e7162df"
      },
      "outputs": [],
      "source": [
        "from nltk.stem import WordNetLemmatizer\n",
        "from nltk import pos_tag\n",
        "lemmatizer=WordNetLemmatizer()"
      ]
    },
    {
      "cell_type": "code",
      "execution_count": null,
      "id": "b0c1e1dc",
      "metadata": {
        "id": "b0c1e1dc"
      },
      "outputs": [],
      "source": [
        "from nltk.corpus import wordnet\n",
        "def get_simple_pos(tag):\n",
        "    if tag.startswith('J'):\n",
        "        return wordnet.ADJ\n",
        "    elif tag.startswith('V'):\n",
        "        return wordnet.VERB\n",
        "    elif tag.startswith('N'):\n",
        "        return wordnet.NOUN\n",
        "    elif tag.startswith('R'):\n",
        "        return wordnet.ADV\n",
        "    else:\n",
        "        return wordnet.NOUN"
      ]
    },
    {
      "cell_type": "code",
      "source": [
        " nltk.download('stopwords')"
      ],
      "metadata": {
        "id": "7_lCvseaEkXL",
        "colab": {
          "base_uri": "https://localhost:8080/"
        },
        "outputId": "0cb0ddae-555f-4c26-abee-02d8edfcfc46"
      },
      "id": "7_lCvseaEkXL",
      "execution_count": null,
      "outputs": [
        {
          "output_type": "stream",
          "name": "stderr",
          "text": [
            "[nltk_data] Downloading package stopwords to /root/nltk_data...\n",
            "[nltk_data]   Package stopwords is already up-to-date!\n"
          ]
        },
        {
          "output_type": "execute_result",
          "data": {
            "text/plain": [
              "True"
            ]
          },
          "metadata": {},
          "execution_count": 85
        }
      ]
    },
    {
      "cell_type": "code",
      "execution_count": null,
      "id": "3918e833",
      "metadata": {
        "id": "3918e833",
        "colab": {
          "base_uri": "https://localhost:8080/"
        },
        "outputId": "b8b3f8a6-4c61-43d4-d30e-75dc469eedf2"
      },
      "outputs": [
        {
          "output_type": "execute_result",
          "data": {
            "text/plain": [
              "({'!',\n",
              "  '\"',\n",
              "  '#',\n",
              "  '$',\n",
              "  '%',\n",
              "  '&',\n",
              "  \"'\",\n",
              "  '(',\n",
              "  ')',\n",
              "  '*',\n",
              "  '+',\n",
              "  ',',\n",
              "  '-',\n",
              "  '.',\n",
              "  '/',\n",
              "  ':',\n",
              "  ';',\n",
              "  '<',\n",
              "  '=',\n",
              "  '>',\n",
              "  '?',\n",
              "  '@',\n",
              "  '[',\n",
              "  '\\\\',\n",
              "  ']',\n",
              "  '^',\n",
              "  '_',\n",
              "  '`',\n",
              "  'a',\n",
              "  'about',\n",
              "  'above',\n",
              "  'after',\n",
              "  'again',\n",
              "  'against',\n",
              "  'ain',\n",
              "  'all',\n",
              "  'am',\n",
              "  'an',\n",
              "  'and',\n",
              "  'any',\n",
              "  'are',\n",
              "  'aren',\n",
              "  \"aren't\",\n",
              "  'as',\n",
              "  'at',\n",
              "  'be',\n",
              "  'because',\n",
              "  'been',\n",
              "  'before',\n",
              "  'being',\n",
              "  'below',\n",
              "  'between',\n",
              "  'both',\n",
              "  'but',\n",
              "  'by',\n",
              "  'can',\n",
              "  'couldn',\n",
              "  \"couldn't\",\n",
              "  'd',\n",
              "  'did',\n",
              "  'didn',\n",
              "  \"didn't\",\n",
              "  'do',\n",
              "  'does',\n",
              "  'doesn',\n",
              "  \"doesn't\",\n",
              "  'doing',\n",
              "  'don',\n",
              "  \"don't\",\n",
              "  'down',\n",
              "  'during',\n",
              "  'each',\n",
              "  'few',\n",
              "  'for',\n",
              "  'from',\n",
              "  'further',\n",
              "  'had',\n",
              "  'hadn',\n",
              "  \"hadn't\",\n",
              "  'has',\n",
              "  'hasn',\n",
              "  \"hasn't\",\n",
              "  'have',\n",
              "  'haven',\n",
              "  \"haven't\",\n",
              "  'having',\n",
              "  'he',\n",
              "  'her',\n",
              "  'here',\n",
              "  'hers',\n",
              "  'herself',\n",
              "  'him',\n",
              "  'himself',\n",
              "  'his',\n",
              "  'how',\n",
              "  'i',\n",
              "  'if',\n",
              "  'in',\n",
              "  'into',\n",
              "  'is',\n",
              "  'isn',\n",
              "  \"isn't\",\n",
              "  'it',\n",
              "  \"it's\",\n",
              "  'its',\n",
              "  'itself',\n",
              "  'just',\n",
              "  'll',\n",
              "  'm',\n",
              "  'ma',\n",
              "  'me',\n",
              "  'mightn',\n",
              "  \"mightn't\",\n",
              "  'more',\n",
              "  'most',\n",
              "  'mustn',\n",
              "  \"mustn't\",\n",
              "  'my',\n",
              "  'myself',\n",
              "  'needn',\n",
              "  \"needn't\",\n",
              "  'no',\n",
              "  'nor',\n",
              "  'not',\n",
              "  'now',\n",
              "  'o',\n",
              "  'of',\n",
              "  'off',\n",
              "  'on',\n",
              "  'once',\n",
              "  'only',\n",
              "  'or',\n",
              "  'other',\n",
              "  'our',\n",
              "  'ours',\n",
              "  'ourselves',\n",
              "  'out',\n",
              "  'over',\n",
              "  'own',\n",
              "  're',\n",
              "  's',\n",
              "  'same',\n",
              "  'shan',\n",
              "  \"shan't\",\n",
              "  'she',\n",
              "  \"she's\",\n",
              "  'should',\n",
              "  \"should've\",\n",
              "  'shouldn',\n",
              "  \"shouldn't\",\n",
              "  'so',\n",
              "  'some',\n",
              "  'such',\n",
              "  't',\n",
              "  'than',\n",
              "  'that',\n",
              "  \"that'll\",\n",
              "  'the',\n",
              "  'their',\n",
              "  'theirs',\n",
              "  'them',\n",
              "  'themselves',\n",
              "  'then',\n",
              "  'there',\n",
              "  'these',\n",
              "  'they',\n",
              "  'this',\n",
              "  'those',\n",
              "  'through',\n",
              "  'to',\n",
              "  'too',\n",
              "  'under',\n",
              "  'until',\n",
              "  'up',\n",
              "  've',\n",
              "  'very',\n",
              "  'was',\n",
              "  'wasn',\n",
              "  \"wasn't\",\n",
              "  'we',\n",
              "  'were',\n",
              "  'weren',\n",
              "  \"weren't\",\n",
              "  'what',\n",
              "  'when',\n",
              "  'where',\n",
              "  'which',\n",
              "  'while',\n",
              "  'who',\n",
              "  'whom',\n",
              "  'why',\n",
              "  'will',\n",
              "  'with',\n",
              "  'won',\n",
              "  \"won't\",\n",
              "  'wouldn',\n",
              "  \"wouldn't\",\n",
              "  'y',\n",
              "  'you',\n",
              "  \"you'd\",\n",
              "  \"you'll\",\n",
              "  \"you're\",\n",
              "  \"you've\",\n",
              "  'your',\n",
              "  'yours',\n",
              "  'yourself',\n",
              "  'yourselves',\n",
              "  '{',\n",
              "  '|',\n",
              "  '}',\n",
              "  '~'},\n",
              " '!\"#$%&\\'()*+,-./:;<=>?@[\\\\]^_`{|}~')"
            ]
          },
          "metadata": {},
          "execution_count": 86
        }
      ],
      "source": [
        "from nltk.corpus import stopwords\n",
        "import string\n",
        "stops=set(stopwords.words('english'))\n",
        "punctuations=list(string.punctuation)\n",
        "stops.update(punctuations)\n",
        "stops,string.punctuation"
      ]
    },
    {
      "cell_type": "code",
      "execution_count": null,
      "id": "e1748213",
      "metadata": {
        "id": "e1748213"
      },
      "outputs": [],
      "source": [
        "# Choose stemming or lemmatization based on your preference\n",
        "stemmer = PorterStemmer()\n",
        "lemmatizer = WordNetLemmatizer()\n",
        "\n",
        "def normalize_text(text, stem=True):\n",
        "    \"\"\"\n",
        "    Normalizes text by tokenizing, removing stop words, and applying stemming/lemmatization.\n",
        "    \"\"\"\n",
        "    tokens = tokenizer(text.lower())\n",
        "    filtered_tokens = [token for token in tokens if token not in stops]\n",
        "    if stem:\n",
        "        normalized_tokens = [stemmer.stem(token) for token in filtered_tokens]\n",
        "    else:\n",
        "        normalized_tokens = [lemmatizer.lemmatize(token) for token in filtered_tokens]\n",
        "    return \" \".join(normalized_tokens)\n"
      ]
    },
    {
      "cell_type": "code",
      "execution_count": null,
      "id": "2b007235",
      "metadata": {
        "id": "2b007235"
      },
      "outputs": [],
      "source": [
        "def clean_reviews(words):\n",
        "    output_reviews=[]\n",
        "    for w in words:\n",
        "        if w.lower() not in stops:\n",
        "            pos=pos_tag([w])\n",
        "            #lemmatize the word\n",
        "            clean_review=lemmatizer.lemmatize(w,pos=get_simple_pos(pos[0][1]))\n",
        "            output_reviews.append(clean_review.lower())\n",
        "    return output_reviews"
      ]
    },
    {
      "cell_type": "code",
      "source": [
        "import nltk\n",
        "nltk.download('averaged_perceptron_tagger')"
      ],
      "metadata": {
        "id": "_whyc1SLEvRj",
        "colab": {
          "base_uri": "https://localhost:8080/"
        },
        "outputId": "8011ade0-df76-404c-c384-8cf8e6fd2710"
      },
      "id": "_whyc1SLEvRj",
      "execution_count": null,
      "outputs": [
        {
          "output_type": "stream",
          "name": "stderr",
          "text": [
            "[nltk_data] Downloading package averaged_perceptron_tagger to\n",
            "[nltk_data]     /root/nltk_data...\n",
            "[nltk_data]   Package averaged_perceptron_tagger is already up-to-\n",
            "[nltk_data]       date!\n"
          ]
        },
        {
          "output_type": "execute_result",
          "data": {
            "text/plain": [
              "True"
            ]
          },
          "metadata": {},
          "execution_count": 89
        }
      ]
    },
    {
      "cell_type": "code",
      "source": [
        "nltk.download('wordnet')"
      ],
      "metadata": {
        "id": "PiAvz5GdE2I7",
        "colab": {
          "base_uri": "https://localhost:8080/"
        },
        "outputId": "dae27f4a-3b7d-41e3-9b47-0df4445e275a"
      },
      "id": "PiAvz5GdE2I7",
      "execution_count": null,
      "outputs": [
        {
          "output_type": "stream",
          "name": "stderr",
          "text": [
            "[nltk_data] Downloading package wordnet to /root/nltk_data...\n",
            "[nltk_data]   Package wordnet is already up-to-date!\n"
          ]
        },
        {
          "output_type": "execute_result",
          "data": {
            "text/plain": [
              "True"
            ]
          },
          "metadata": {},
          "execution_count": 90
        }
      ]
    },
    {
      "cell_type": "code",
      "execution_count": null,
      "id": "cdf80300",
      "metadata": {
        "id": "cdf80300",
        "colab": {
          "base_uri": "https://localhost:8080/"
        },
        "outputId": "631ced1d-6ea1-4ae7-f35a-9b036d0a4ade"
      },
      "outputs": [
        {
          "output_type": "execute_result",
          "data": {
            "text/plain": [
              "['xyz',\n",
              " '54-year-old',\n",
              " 'african',\n",
              " 'american',\n",
              " 'male',\n",
              " 'present',\n",
              " 'ed',\n",
              " 'complaint',\n",
              " 'two-week',\n",
              " 'history',\n",
              " 'hoarseness',\n",
              " 'get',\n",
              " 'well',\n",
              " 'question',\n",
              " 'admits',\n",
              " 'usual',\n",
              " 'morning',\n",
              " '``',\n",
              " 'smoker',\n",
              " \"'s\",\n",
              " 'cough',\n",
              " \"''\",\n",
              " 'get',\n",
              " 'bad',\n",
              " '``',\n",
              " 'give',\n",
              " 'serious',\n",
              " 'thought',\n",
              " 'lately',\n",
              " 'quit',\n",
              " 'smoking',\n",
              " 'near',\n",
              " 'future',\n",
              " \"''\",\n",
              " 'pmh',\n",
              " 'hypothyroidism',\n",
              " '27',\n",
              " 'year',\n",
              " '•',\n",
              " 'bilateral',\n",
              " 'osteoarthritis',\n",
              " 'knee',\n",
              " '8',\n",
              " 'year',\n",
              " '•',\n",
              " 'depression',\n",
              " '2',\n",
              " 'year',\n",
              " 'iron',\n",
              " 'deficiency',\n",
              " 'anemia',\n",
              " 'unknown',\n",
              " 'cause',\n",
              " '8',\n",
              " 'month',\n",
              " 'seasonal',\n",
              " 'allergic',\n",
              " 'rhinitis',\n",
              " 'since',\n",
              " 'adolescence',\n",
              " 'several',\n",
              " 'episode',\n",
              " 'mildly',\n",
              " 'bloody',\n",
              " 'sputum',\n",
              " 'past',\n",
              " 'year',\n",
              " 'resolve',\n",
              " 'day',\n",
              " 'patient',\n",
              " 'seek',\n",
              " 'medical',\n",
              " 'help',\n",
              " 'prior',\n",
              " 'history',\n",
              " 'trauma',\n",
              " 'surgery',\n",
              " '•',\n",
              " 'influenza',\n",
              " 'vaccine',\n",
              " 'last',\n",
              " 'year',\n",
              " 'last',\n",
              " 'tetanus',\n",
              " 'booster',\n",
              " '6',\n",
              " 'year',\n",
              " 'ago',\n",
              " 'family',\n",
              " 'history',\n",
              " 'negative',\n",
              " 'lung',\n",
              " 'cancer',\n",
              " 'however',\n",
              " 'positive',\n",
              " 'family',\n",
              " 'history',\n",
              " 'type',\n",
              " 'cancer-paternal',\n",
              " 'uncle',\n",
              " 'colorectal',\n",
              " 'cancer',\n",
              " 'one',\n",
              " 'niece',\n",
              " 'non-hodgkin',\n",
              " \"'s\",\n",
              " 'lymphoma',\n",
              " 'one',\n",
              " 'niece',\n",
              " 'malignant',\n",
              " 'melanoma',\n",
              " 'patient',\n",
              " 'positive',\n",
              " 'worsen',\n",
              " 'cough',\n",
              " 'recent',\n",
              " 'onset',\n",
              " 'shortness',\n",
              " 'breath',\n",
              " 'moderate',\n",
              " 'exertion',\n",
              " 'e.g.',\n",
              " 'climb',\n",
              " 'one',\n",
              " 'flight',\n",
              " 'stair',\n",
              " '•',\n",
              " 'patient',\n",
              " 'denies',\n",
              " 'follow',\n",
              " 'fever',\n",
              " 'chill',\n",
              " 'fatigue',\n",
              " 'weakness',\n",
              " 'poor',\n",
              " 'appetite',\n",
              " 'unintentional',\n",
              " 'eight',\n",
              " 'loss',\n",
              " 'difficulty',\n",
              " 'pain',\n",
              " 'swallow',\n",
              " 'pain',\n",
              " 'chest',\n",
              " 'abdomen',\n",
              " 'shoulder',\n",
              " 'back',\n",
              " 'recent',\n",
              " 'onset',\n",
              " 'vision',\n",
              " 'problem',\n",
              " 'headache',\n",
              " 'nausea',\n",
              " 'vomit',\n",
              " 'dizziness',\n",
              " 'significant',\n",
              " 'swell',\n",
              " 'bowel',\n",
              " 'bladder',\n",
              " 'problem',\n",
              " '•',\n",
              " 'wheeze',\n",
              " 'auscultate',\n",
              " 'right',\n",
              " 'upper',\n",
              " 'lobe',\n",
              " 'inspiration',\n",
              " '•',\n",
              " 'percussion',\n",
              " 'reveals',\n",
              " 'area',\n",
              " 'resonance',\n",
              " 'dullness',\n",
              " 'right',\n",
              " 'upper',\n",
              " 'lobe',\n",
              " 'heart',\n",
              " '•',\n",
              " 'apical',\n",
              " 'pulse',\n",
              " 'normally',\n",
              " 'locate',\n",
              " '5th',\n",
              " 'intercostal',\n",
              " 'space',\n",
              " 'mid-clavicular',\n",
              " 'line',\n",
              " 'regular',\n",
              " 'rate',\n",
              " 'rhythm',\n",
              " 'normal',\n",
              " 's1',\n",
              " 's2',\n",
              " 'murmur',\n",
              " 'rub',\n",
              " 's3',\n",
              " 's4',\n",
              " 'chest',\n",
              " 'x-rays',\n",
              " 'anteroposteriorandlateralviewsshowa3.5-cmmasslocatedcentrallyinrightupperlobe',\n",
              " 'displace',\n",
              " 'right',\n",
              " 'bronchus',\n",
              " 'roughly',\n",
              " 'correspond',\n",
              " 'area',\n",
              " 'dullness',\n",
              " 'wheeze',\n",
              " 'heard',\n",
              " 'auscultation',\n",
              " 'left',\n",
              " 'lung',\n",
              " 'clear',\n",
              " '•',\n",
              " 'sign',\n",
              " 'pleural',\n",
              " 'effusion',\n",
              " 'note',\n",
              " 'ct',\n",
              " 'scans',\n",
              " 'chest',\n",
              " 'reveals',\n",
              " 'lesion',\n",
              " 'see',\n",
              " 'x-ray',\n",
              " 'plus',\n",
              " 'mediastinal',\n",
              " 'widen',\n",
              " 'moderately',\n",
              " 'enlarge',\n",
              " 'right-sided',\n",
              " 'hilar',\n",
              " 'node',\n",
              " 'left-sided',\n",
              " 'hilar',\n",
              " 'node',\n",
              " 'mediastinal',\n",
              " 'node',\n",
              " 'appear',\n",
              " 'normal']"
            ]
          },
          "metadata": {},
          "execution_count": 91
        }
      ],
      "source": [
        "medical_transcript=clean_reviews(tokens)\n",
        "medical_transcript"
      ]
    },
    {
      "cell_type": "code",
      "execution_count": null,
      "id": "99346033",
      "metadata": {
        "id": "99346033",
        "colab": {
          "base_uri": "https://localhost:8080/",
          "height": 36
        },
        "outputId": "894d50d1-1e98-41f8-ecdc-d1128a703304"
      },
      "outputs": [
        {
          "output_type": "execute_result",
          "data": {
            "text/plain": [
              "'Difficulty swallowing Unexplained weight loss Neurological symptoms (e.g., dizziness, weakness)'"
            ],
            "application/vnd.google.colaboratory.intrinsic+json": {
              "type": "string"
            }
          },
          "metadata": {},
          "execution_count": 92
        }
      ],
      "source": [
        "cancer_data[\"Symptom1\"]=cancer_data[\"Symptom 1\"]+\" \"+cancer_data[\"Symptom 2\"]+\" \"+cancer_data[\"Symptom 3\"]\n",
        "cancer_data[\"Symptom1\"][2]"
      ]
    },
    {
      "cell_type": "code",
      "execution_count": null,
      "id": "ae250d39",
      "metadata": {
        "id": "ae250d39"
      },
      "outputs": [],
      "source": [
        "# Combine relevant text columns into a single 'symptoms' column\n",
        "numeric_features = ['Age', 'Tumor Size',\"ECOG Performance Status\"]\n",
        "textual_feature = 'medical_transcript'\n",
        "text_columns = ['Geneset', 'Genetic Mutations', 'Gender', 'Smoking History',\"Symptom 1\",\"Symptom 2\",\"Symptom 3\",'Cancer Stage', 'Histology Type','Metastasis','Treatment Type',\"Comorbidities\",\"Clinical Trial Participation\",\"IHC Results\",\"Blood Markers\",\"Family History\"]\n",
        "cancer_data['symptoms'] = cancer_data[text_columns].apply(lambda x: ' '.join(x), axis=1)"
      ]
    },
    {
      "cell_type": "code",
      "execution_count": null,
      "id": "0845cd32",
      "metadata": {
        "id": "0845cd32",
        "colab": {
          "base_uri": "https://localhost:8080/"
        },
        "outputId": "d6e16c49-b146-4234-813b-4b7517fb7b8c"
      },
      "outputs": [
        {
          "output_type": "execute_result",
          "data": {
            "text/plain": [
              "0      KRAS, HER2, PIK3CA KRAS G12V, HER2 HER2 Amplif...\n",
              "2      CDKN2A, ATM, BCL2 CDKN2A CDKN2A Mutation, ATM ...\n",
              "3      RET, KRAS, EGFR RET RET Fusion, KRAS G12V, EGF...\n",
              "5      FGFR2, DDR2, SOX2 FGFR2 FGFR2 Amplification, D...\n",
              "6      ERBB2, BRAF, PIK3CA ERBB2 HER2 Amplification, ...\n",
              "                             ...                        \n",
              "195    DDR2, FGFR2, NOTCH1 DDR2 DDR2 Mutation, FGFR2 ...\n",
              "196    CDKN2A, NOTCH1, FGFR1 CDKN2A CDKN2A Mutation, ...\n",
              "197    RET, KRAS, MET RET RET Fusion, KRAS G12V, MET ...\n",
              "198    BRAF, ERBB2, PIK3CA BRAF D594G, ERBB2 HER2 Amp...\n",
              "199    DDR2, FGFR1, NOTCH1 DDR2 DDR2 Mutation, FGFR1 ...\n",
              "Name: symptoms, Length: 158, dtype: object"
            ]
          },
          "metadata": {},
          "execution_count": 94
        }
      ],
      "source": [
        "cancer_data['symptoms']"
      ]
    },
    {
      "cell_type": "code",
      "execution_count": null,
      "id": "2dc49ff4",
      "metadata": {
        "id": "2dc49ff4",
        "colab": {
          "base_uri": "https://localhost:8080/"
        },
        "outputId": "f2a33557-4d45-4891-a235-fc35ed3389ff"
      },
      "outputs": [
        {
          "output_type": "stream",
          "name": "stdout",
          "text": [
            "<class 'pandas.core.frame.DataFrame'>\n",
            "Int64Index: 158 entries, 0 to 199\n",
            "Data columns (total 32 columns):\n",
            " #   Column                        Non-Null Count  Dtype  \n",
            "---  ------                        --------------  -----  \n",
            " 0   Patient ID                    158 non-null    object \n",
            " 1   Age                           158 non-null    int64  \n",
            " 2   Gender                        158 non-null    object \n",
            " 3   Smoking History               158 non-null    object \n",
            " 4   Family History                158 non-null    object \n",
            " 5   Diagnosis Date                158 non-null    object \n",
            " 6   Cancer Stage                  158 non-null    object \n",
            " 7   Histology Type                158 non-null    object \n",
            " 8   Tumor Size                    158 non-null    float64\n",
            " 9   Metastasis                    158 non-null    object \n",
            " 10  Treatment Type                158 non-null    object \n",
            " 11  Geneset                       158 non-null    object \n",
            " 12  Genetic Mutations             158 non-null    object \n",
            " 13  Blood Markers                 158 non-null    object \n",
            " 14  IHC Results                   158 non-null    object \n",
            " 15  Radiation Therapy Details     158 non-null    object \n",
            " 16  Chemotherapy Regimen          158 non-null    object \n",
            " 17  Clinical Trial Participation  158 non-null    object \n",
            " 18  Comorbidities                 158 non-null    object \n",
            " 19  ECOG Performance Status       158 non-null    int64  \n",
            " 20  Symptom 1                     158 non-null    object \n",
            " 21  Symptom 2                     158 non-null    object \n",
            " 22  Symptom 3                     158 non-null    object \n",
            " 23  Response to Treatment         158 non-null    object \n",
            " 24  DFS (months)                  158 non-null    int64  \n",
            " 25  OS (months)                   158 non-null    int64  \n",
            " 26  Adverse Events                158 non-null    object \n",
            " 27  HRQoL Assessment              158 non-null    object \n",
            " 28  Follow-up Appointments        158 non-null    object \n",
            " 29  Patient-reported Outcomes     158 non-null    object \n",
            " 30  Symptom1                      158 non-null    object \n",
            " 31  symptoms                      158 non-null    object \n",
            "dtypes: float64(1), int64(4), object(27)\n",
            "memory usage: 44.8+ KB\n"
          ]
        }
      ],
      "source": [
        "cancer_data.info()"
      ]
    },
    {
      "cell_type": "code",
      "execution_count": null,
      "id": "23f714f3",
      "metadata": {
        "id": "23f714f3",
        "colab": {
          "base_uri": "https://localhost:8080/"
        },
        "outputId": "691f67bc-aedb-40ef-9040-5c6a2d14b79b"
      },
      "outputs": [
        {
          "output_type": "stream",
          "name": "stdout",
          "text": [
            "X_train:           Age  Gender  Smoking History  Family History  Tumor Size  \\\n",
            "171 -0.425161       0                1               1   -1.565853   \n",
            "71  -0.808719       0                0               0   -0.934142   \n",
            "159  0.853366       0                0               1    0.907459   \n",
            "105 -1.320130       0                1               0   -0.757476   \n",
            "196 -0.744793       0                1               0    0.902106   \n",
            "\n",
            "     Treatment Type  Blood Markers  IHC Results  Clinical Trial Participation  \\\n",
            "171               0            102           38                             0   \n",
            "71                0             60           98                             0   \n",
            "159               1             77           52                             1   \n",
            "105               2             65           49                             0   \n",
            "196               1             36           19                             0   \n",
            "\n",
            "     Comorbidities  ECOG Performance Status  Symptom 1  Symptom 2  Symptom 3  \\\n",
            "171             81                 1.457896         10          8         14   \n",
            "71              20                -1.093422         11          0          5   \n",
            "159             78                 0.182237         17         12          5   \n",
            "105             40                 1.457896          2          1         12   \n",
            "196             93                -1.093422          0          6          3   \n",
            "\n",
            "     Patient-reported Outcomes  \n",
            "171                          1  \n",
            "71                           1  \n",
            "159                          3  \n",
            "105                          1  \n",
            "196                          3  \n",
            "y_train:      Geneset  Genetic Mutations  Cancer Stage  Histology Type  Metastasis\n",
            "171       38                 38             0               2           3\n",
            "71        98                 98             3               0           1\n",
            "159       52                 55             1               1           0\n",
            "105       49                 49             1               1           3\n",
            "196       19                 19             3               2           0\n",
            "X_test:           Age  Gender  Smoking History  Family History  Tumor Size  \\\n",
            "161  0.022323       1                1               0    0.575543   \n",
            "55  -0.616940       1                1               0    1.581999   \n",
            "168 -0.105529       1                2               1   -1.480197   \n",
            "198 -0.297308       0                1               1    1.464222   \n",
            "115 -0.936572       1                0               0    1.405334   \n",
            "\n",
            "     Treatment Type  Blood Markers  IHC Results  Clinical Trial Participation  \\\n",
            "161               1             40           -1                             1   \n",
            "55                0             61           -1                             1   \n",
            "168               0             88           -1                             1   \n",
            "198               0             15           -1                             1   \n",
            "115               0             -1           73                             1   \n",
            "\n",
            "     Comorbidities  ECOG Performance Status  Symptom 1  Symptom 2  Symptom 3  \\\n",
            "161             -1                 0.182237         13          3          7   \n",
            "55              -1                -1.093422          2          4         16   \n",
            "168             58                -1.093422          7          2          1   \n",
            "198             -1                -1.093422          8          5          9   \n",
            "115             -1                 1.457896          5          9          1   \n",
            "\n",
            "     Patient-reported Outcomes  \n",
            "161                          6  \n",
            "55                           7  \n",
            "168                          4  \n",
            "198                          6  \n",
            "115                          2  \n",
            "y_test:      Geneset  Genetic Mutations  Cancer Stage  Histology Type  Metastasis\n",
            "161       -1                 -1             2               2           3\n",
            "55        -1                 -1             0               0           1\n",
            "168       -1                 -1             3               1           3\n",
            "198       -1                 -1             2               0           3\n",
            "115       73                 72             3               0           2\n"
          ]
        }
      ],
      "source": [
        "import pandas as pd\n",
        "from sklearn.model_selection import train_test_split\n",
        "from sklearn.preprocessing import StandardScaler, LabelEncoder\n",
        "# Assuming your target variables include 'Geneset', 'Genetic Mutations', 'Cancer Stage', 'Histology Type', and 'Metastasis'\n",
        "target_columns = ['Geneset', 'Genetic Mutations', 'Cancer Stage', 'Histology Type', 'Metastasis']\n",
        "\n",
        "# Features (excluding the target columns)\n",
        "# Assuming your target variable is 'lung_cancer_status'\n",
        "# Features (excluding the target columns)\n",
        "X = cancer_data.drop(target_columns + ['Patient ID', 'Diagnosis Date', 'Chemotherapy Regimen', 'HRQoL Assessment',\n",
        "                                       'Symptom1', 'symptoms', 'Follow-up Appointments', 'Adverse Events',\n",
        "                                       'Radiation Therapy Details', 'Response to Treatment', 'DFS (months)', 'OS (months)'],\n",
        "                    axis=1) # Features\n",
        "y = cancer_data[target_columns]  # Target variable\n",
        "\n",
        "# Split the data into training and testing sets (80% training, 20% testing)\n",
        "X_train, X_test, y_train, y_test = train_test_split(X, y, test_size=0.2, random_state=42)\n",
        "\n",
        "# Data Preprocessing for Gene and Transcript Data\n",
        "# (Assuming you have numerical features in the gene and transcript data)\n",
        "numeric_features = ['Age', 'Tumor Size', \"ECOG Performance Status\"]\n",
        "\n",
        "# Standardize numerical features using StandardScaler\n",
        "scaler = StandardScaler()\n",
        "X_train[numeric_features] = scaler.fit_transform(X_train[numeric_features])\n",
        "X_test[numeric_features] = scaler.transform(X_test[numeric_features])\n",
        "\n",
        "# Data Preprocessing for Medical Transcript Data\n",
        "# (Assuming you have categorical features in the medical transcript data)\n",
        "text_columns = ['Gender', 'Smoking History', \"Symptom 1\", \"Symptom 2\", \"Symptom 3\",\n",
        "                'Treatment Type', \"Comorbidities\", \"Clinical Trial Participation\",\n",
        "                \"IHC Results\", \"Blood Markers\", \"Family History\",\"Patient-reported Outcomes\"]\n",
        "\n",
        "\n",
        "# Encode categorical features using LabelEncoder\n",
        "label_encoder = LabelEncoder()\n",
        "\n",
        "for feature in text_columns:\n",
        "    # Fit and transform the training set\n",
        "    X_train[feature] = label_encoder.fit_transform(X_train[feature])\n",
        "\n",
        "    # Handle unknown labels in the test set\n",
        "    X_test[feature] = X_test[feature].map(\n",
        "        lambda s: label_encoder.transform([s])[0] if s in label_encoder.classes_ else -1\n",
        "    )\n",
        "for feature in target_columns:\n",
        "    # Fit and transform the training set\n",
        "    y_train[feature] = label_encoder.fit_transform(y_train[feature])\n",
        "\n",
        "    # Handle unknown labels in the test set\n",
        "    y_test[feature] = y_test[feature].map(\n",
        "        lambda s: label_encoder.transform([s])[0] if s in label_encoder.classes_ else -1\n",
        "    )\n",
        "\n",
        "# Display the preprocessed data\n",
        "# Display the preprocessed data\n",
        "print(\"X_train:\", X_train.head())\n",
        "print(\"y_train:\", y_train.head())\n",
        "print(\"X_test:\", X_test.head())\n",
        "print(\"y_test:\", y_test.head())\n"
      ]
    },
    {
      "cell_type": "code",
      "execution_count": null,
      "id": "73360fda",
      "metadata": {
        "id": "73360fda",
        "colab": {
          "base_uri": "https://localhost:8080/"
        },
        "outputId": "6b7c76d2-99b3-441b-c115-779d9d21bc30"
      },
      "outputs": [
        {
          "output_type": "stream",
          "name": "stdout",
          "text": [
            "OpenSSL 3.0.2 15 Mar 2022\n"
          ]
        }
      ],
      "source": [
        "import ssl\n",
        "print(ssl.OPENSSL_VERSION)\n"
      ]
    },
    {
      "cell_type": "code",
      "execution_count": null,
      "id": "22a56031",
      "metadata": {
        "id": "22a56031",
        "colab": {
          "base_uri": "https://localhost:8080/"
        },
        "outputId": "7ef521f1-91c3-4cba-f238-00d55e8e455c"
      },
      "outputs": [
        {
          "output_type": "stream",
          "name": "stdout",
          "text": [
            "Requirement already satisfied: tensorflow in /usr/local/lib/python3.10/dist-packages (2.15.0.post1)\n",
            "Requirement already satisfied: absl-py>=1.0.0 in /usr/local/lib/python3.10/dist-packages (from tensorflow) (1.4.0)\n",
            "Requirement already satisfied: astunparse>=1.6.0 in /usr/local/lib/python3.10/dist-packages (from tensorflow) (1.6.3)\n",
            "Requirement already satisfied: flatbuffers>=23.5.26 in /usr/local/lib/python3.10/dist-packages (from tensorflow) (23.5.26)\n",
            "Requirement already satisfied: gast!=0.5.0,!=0.5.1,!=0.5.2,>=0.2.1 in /usr/local/lib/python3.10/dist-packages (from tensorflow) (0.5.4)\n",
            "Requirement already satisfied: google-pasta>=0.1.1 in /usr/local/lib/python3.10/dist-packages (from tensorflow) (0.2.0)\n",
            "Requirement already satisfied: h5py>=2.9.0 in /usr/local/lib/python3.10/dist-packages (from tensorflow) (3.9.0)\n",
            "Requirement already satisfied: libclang>=13.0.0 in /usr/local/lib/python3.10/dist-packages (from tensorflow) (16.0.6)\n",
            "Requirement already satisfied: ml-dtypes~=0.2.0 in /usr/local/lib/python3.10/dist-packages (from tensorflow) (0.2.0)\n",
            "Requirement already satisfied: numpy<2.0.0,>=1.23.5 in /usr/local/lib/python3.10/dist-packages (from tensorflow) (1.23.5)\n",
            "Requirement already satisfied: opt-einsum>=2.3.2 in /usr/local/lib/python3.10/dist-packages (from tensorflow) (3.3.0)\n",
            "Requirement already satisfied: packaging in /usr/local/lib/python3.10/dist-packages (from tensorflow) (23.2)\n",
            "Requirement already satisfied: protobuf!=4.21.0,!=4.21.1,!=4.21.2,!=4.21.3,!=4.21.4,!=4.21.5,<5.0.0dev,>=3.20.3 in /usr/local/lib/python3.10/dist-packages (from tensorflow) (3.20.3)\n",
            "Requirement already satisfied: setuptools in /usr/local/lib/python3.10/dist-packages (from tensorflow) (67.7.2)\n",
            "Requirement already satisfied: six>=1.12.0 in /usr/local/lib/python3.10/dist-packages (from tensorflow) (1.16.0)\n",
            "Requirement already satisfied: termcolor>=1.1.0 in /usr/local/lib/python3.10/dist-packages (from tensorflow) (2.4.0)\n",
            "Requirement already satisfied: typing-extensions>=3.6.6 in /usr/local/lib/python3.10/dist-packages (from tensorflow) (4.5.0)\n",
            "Requirement already satisfied: wrapt<1.15,>=1.11.0 in /usr/local/lib/python3.10/dist-packages (from tensorflow) (1.14.1)\n",
            "Requirement already satisfied: tensorflow-io-gcs-filesystem>=0.23.1 in /usr/local/lib/python3.10/dist-packages (from tensorflow) (0.35.0)\n",
            "Requirement already satisfied: grpcio<2.0,>=1.24.3 in /usr/local/lib/python3.10/dist-packages (from tensorflow) (1.60.0)\n",
            "Requirement already satisfied: tensorboard<2.16,>=2.15 in /usr/local/lib/python3.10/dist-packages (from tensorflow) (2.15.1)\n",
            "Requirement already satisfied: tensorflow-estimator<2.16,>=2.15.0 in /usr/local/lib/python3.10/dist-packages (from tensorflow) (2.15.0)\n",
            "Requirement already satisfied: keras<2.16,>=2.15.0 in /usr/local/lib/python3.10/dist-packages (from tensorflow) (2.15.0)\n",
            "Requirement already satisfied: wheel<1.0,>=0.23.0 in /usr/local/lib/python3.10/dist-packages (from astunparse>=1.6.0->tensorflow) (0.42.0)\n",
            "Requirement already satisfied: google-auth<3,>=1.6.3 in /usr/local/lib/python3.10/dist-packages (from tensorboard<2.16,>=2.15->tensorflow) (2.17.3)\n",
            "Requirement already satisfied: google-auth-oauthlib<2,>=0.5 in /usr/local/lib/python3.10/dist-packages (from tensorboard<2.16,>=2.15->tensorflow) (1.2.0)\n",
            "Requirement already satisfied: markdown>=2.6.8 in /usr/local/lib/python3.10/dist-packages (from tensorboard<2.16,>=2.15->tensorflow) (3.5.2)\n",
            "Requirement already satisfied: requests<3,>=2.21.0 in /usr/local/lib/python3.10/dist-packages (from tensorboard<2.16,>=2.15->tensorflow) (2.31.0)\n",
            "Requirement already satisfied: tensorboard-data-server<0.8.0,>=0.7.0 in /usr/local/lib/python3.10/dist-packages (from tensorboard<2.16,>=2.15->tensorflow) (0.7.2)\n",
            "Requirement already satisfied: werkzeug>=1.0.1 in /usr/local/lib/python3.10/dist-packages (from tensorboard<2.16,>=2.15->tensorflow) (3.0.1)\n",
            "Requirement already satisfied: cachetools<6.0,>=2.0.0 in /usr/local/lib/python3.10/dist-packages (from google-auth<3,>=1.6.3->tensorboard<2.16,>=2.15->tensorflow) (5.3.2)\n",
            "Requirement already satisfied: pyasn1-modules>=0.2.1 in /usr/local/lib/python3.10/dist-packages (from google-auth<3,>=1.6.3->tensorboard<2.16,>=2.15->tensorflow) (0.3.0)\n",
            "Requirement already satisfied: rsa<5,>=3.1.4 in /usr/local/lib/python3.10/dist-packages (from google-auth<3,>=1.6.3->tensorboard<2.16,>=2.15->tensorflow) (4.9)\n",
            "Requirement already satisfied: requests-oauthlib>=0.7.0 in /usr/local/lib/python3.10/dist-packages (from google-auth-oauthlib<2,>=0.5->tensorboard<2.16,>=2.15->tensorflow) (1.3.1)\n",
            "Requirement already satisfied: charset-normalizer<4,>=2 in /usr/local/lib/python3.10/dist-packages (from requests<3,>=2.21.0->tensorboard<2.16,>=2.15->tensorflow) (3.3.2)\n",
            "Requirement already satisfied: idna<4,>=2.5 in /usr/local/lib/python3.10/dist-packages (from requests<3,>=2.21.0->tensorboard<2.16,>=2.15->tensorflow) (3.6)\n",
            "Requirement already satisfied: urllib3<3,>=1.21.1 in /usr/local/lib/python3.10/dist-packages (from requests<3,>=2.21.0->tensorboard<2.16,>=2.15->tensorflow) (1.25.10)\n",
            "Requirement already satisfied: certifi>=2017.4.17 in /usr/local/lib/python3.10/dist-packages (from requests<3,>=2.21.0->tensorboard<2.16,>=2.15->tensorflow) (2023.11.17)\n",
            "Requirement already satisfied: MarkupSafe>=2.1.1 in /usr/local/lib/python3.10/dist-packages (from werkzeug>=1.0.1->tensorboard<2.16,>=2.15->tensorflow) (2.1.4)\n",
            "Requirement already satisfied: pyasn1<0.6.0,>=0.4.6 in /usr/local/lib/python3.10/dist-packages (from pyasn1-modules>=0.2.1->google-auth<3,>=1.6.3->tensorboard<2.16,>=2.15->tensorflow) (0.5.1)\n",
            "Requirement already satisfied: oauthlib>=3.0.0 in /usr/local/lib/python3.10/dist-packages (from requests-oauthlib>=0.7.0->google-auth-oauthlib<2,>=0.5->tensorboard<2.16,>=2.15->tensorflow) (3.2.2)\n"
          ]
        }
      ],
      "source": [
        "pip install --upgrade tensorflow\n"
      ]
    },
    {
      "cell_type": "code",
      "execution_count": null,
      "id": "8c5b3be9",
      "metadata": {
        "id": "8c5b3be9",
        "colab": {
          "base_uri": "https://localhost:8080/"
        },
        "outputId": "0ae9c1c5-8155-42ae-89dc-98f171afbdfb"
      },
      "outputs": [
        {
          "output_type": "stream",
          "name": "stdout",
          "text": [
            "Requirement already satisfied: keras in /usr/local/lib/python3.10/dist-packages (2.15.0)\n"
          ]
        }
      ],
      "source": [
        "!pip install keras\n"
      ]
    },
    {
      "cell_type": "code",
      "execution_count": null,
      "id": "3af327bc",
      "metadata": {
        "id": "3af327bc",
        "colab": {
          "base_uri": "https://localhost:8080/"
        },
        "outputId": "f756be3d-5741-4a42-d581-16646037ddff"
      },
      "outputs": [
        {
          "output_type": "stream",
          "name": "stdout",
          "text": [
            "Age                             float64\n",
            "Gender                            int64\n",
            "Smoking History                   int64\n",
            "Family History                    int64\n",
            "Tumor Size                      float64\n",
            "Treatment Type                    int64\n",
            "Blood Markers                     int64\n",
            "IHC Results                       int64\n",
            "Clinical Trial Participation      int64\n",
            "Comorbidities                     int64\n",
            "ECOG Performance Status         float64\n",
            "Symptom 1                         int64\n",
            "Symptom 2                         int64\n",
            "Symptom 3                         int64\n",
            "Patient-reported Outcomes         int64\n",
            "dtype: object\n",
            "y_train shape Geneset              int64\n",
            "Genetic Mutations    int64\n",
            "Cancer Stage         int64\n",
            "Histology Type       int64\n",
            "Metastasis           int64\n",
            "dtype: object\n"
          ]
        }
      ],
      "source": [
        "print(X_train.dtypes)\n",
        "print(\"y_train shape\", y_train.dtypes)\n"
      ]
    },
    {
      "cell_type": "code",
      "execution_count": null,
      "id": "cd4fe0c4",
      "metadata": {
        "id": "cd4fe0c4",
        "colab": {
          "base_uri": "https://localhost:8080/"
        },
        "outputId": "ac319626-e5d5-46e4-a846-d7be26398ffa"
      },
      "outputs": [
        {
          "output_type": "stream",
          "name": "stdout",
          "text": [
            "Shape of X_train: (126, 15)\n",
            "Shape of y_train: (126, 5)\n",
            "numpy array of y_train : [[ 38  38   0   2   3]\n",
            " [ 98  98   3   0   1]\n",
            " [ 52  55   1   1   0]\n",
            " [ 49  49   1   1   3]\n",
            " [ 19  19   3   2   0]\n",
            " [ 39  39   1   2   3]\n",
            " [ 50  54   0   1   3]\n",
            " [ 34  34   1   2   3]\n",
            " [ 66  66   1   2   3]\n",
            " [ 37  37   2   2   1]\n",
            " [ 11  11   1   1   0]\n",
            " [113 113   3   1   3]\n",
            " [ 83  83   0   2   0]\n",
            " [119 119   2   1   0]\n",
            " [  0   0   3   0   2]\n",
            " [120 120   1   1   1]\n",
            " [ 63  63   0   1   3]\n",
            " [ 55  52   0   0   2]\n",
            " [100 100   3   0   1]\n",
            " [ 13  13   3   0   3]\n",
            " [112 112   0   1   2]\n",
            " [ 91  91   3   1   0]\n",
            " [121 121   2   1   3]\n",
            " [116 116   1   1   3]\n",
            " [ 23  23   1   2   0]\n",
            " [ 31  31   3   0   3]\n",
            " [105 105   3   1   3]\n",
            " [ 17  17   1   1   3]\n",
            " [106 106   2   2   2]\n",
            " [ 12  12   1   0   3]\n",
            " [ 99  99   3   0   3]\n",
            " [ 89  89   3   1   0]\n",
            " [104 104   3   1   0]\n",
            " [ 29  29   2   2   0]\n",
            " [ 81  81   3   1   0]\n",
            " [ 51  50   1   0   0]\n",
            " [ 47  47   1   1   2]\n",
            " [  4   4   2   1   0]\n",
            " [ 60  60   2   0   2]\n",
            " [ 16  16   2   2   3]\n",
            " [110 110   0   2   2]\n",
            " [ 82  82   1   1   1]\n",
            " [ 74  73   0   0   2]\n",
            " [ 59  59   2   0   2]\n",
            " [ 79  79   1   2   0]\n",
            " [108 108   1   2   1]\n",
            " [ 86  86   1   2   1]\n",
            " [ 48  48   1   1   0]\n",
            " [ 18  18   1   1   1]\n",
            " [ 25  25   0   2   3]\n",
            " [ 75  74   0   0   3]\n",
            " [  2   2   2   1   2]\n",
            " [ 97  97   1   0   0]\n",
            " [  3   3   1   1   3]\n",
            " [ 35  35   3   2   3]\n",
            " [  8   8   0   1   2]\n",
            " [ 24  24   1   2   0]\n",
            " [  1   1   0   0   1]\n",
            " [  6   6   2   1   3]\n",
            " [ 22  22   1   1   2]\n",
            " [123 123   1   2   1]\n",
            " [ 30  30   0   2   1]\n",
            " [ 56  53   0   0   0]\n",
            " [118 118   3   2   0]\n",
            " [ 87  87   2   1   1]\n",
            " [ 67  67   2   2   2]\n",
            " [ 93  93   1   0   3]\n",
            " [ 40  40   3   2   1]\n",
            " [115 115   0   2   2]\n",
            " [ 45  45   0   0   0]\n",
            " [ 41  41   0   2   3]\n",
            " [ 70  70   2   2   3]\n",
            " [ 54  56   3   1   1]\n",
            " [ 76  75   0   0   3]\n",
            " [ 44  44   0   0   2]\n",
            " [  9   9   3   1   3]\n",
            " [ 14  14   3   0   3]\n",
            " [ 85  85   0   1   2]\n",
            " [109 109   1   2   2]\n",
            " [ 71  71   0   0   0]\n",
            " [ 58  58   0   0   0]\n",
            " [107 107   0   2   0]\n",
            " [ 80  80   2   2   0]\n",
            " [117 117   1   2   2]\n",
            " [103 103   3   0   1]\n",
            " [ 62  62   3   1   3]\n",
            " [ 36  36   1   2   2]\n",
            " [ 92  92   0   1   0]\n",
            " [ 10  10   0   1   2]\n",
            " [ 28  28   2   2   3]\n",
            " [ 73  72   0   0   0]\n",
            " [ 27  27   1   2   3]\n",
            " [122 122   0   1   1]\n",
            " [ 84  84   3   2   1]\n",
            " [ 94  94   2   0   0]\n",
            " [ 43  43   3   0   0]\n",
            " [ 53  51   1   0   1]\n",
            " [ 99  99   2   0   0]\n",
            " [101 101   2   0   2]\n",
            " [ 88  88   1   1   0]\n",
            " [ 95  95   0   0   1]\n",
            " [ 68  68   0   2   3]\n",
            " [ 20  20   0   1   0]\n",
            " [111 111   0   1   3]\n",
            " [ 46  46   3   1   2]\n",
            " [ 32  32   1   2   2]\n",
            " [ 42  42   2   0   1]\n",
            " [102 102   0   0   2]\n",
            " [ 78  76   0   0   0]\n",
            " [ 64  64   0   1   3]\n",
            " [ 15  15   1   1   0]\n",
            " [ 72  77   2   2   0]\n",
            " [ 65  65   2   1   2]\n",
            " [ 61  61   3   1   2]\n",
            " [114 114   3   1   3]\n",
            " [ 21  21   1   1   3]\n",
            " [  7   7   3   1   1]\n",
            " [ 69  69   3   2   3]\n",
            " [ 57  57   0   1   1]\n",
            " [ 23  23   3   2   0]\n",
            " [ 96  96   2   0   2]\n",
            " [ 90  90   1   1   3]\n",
            " [ 26  26   2   2   0]\n",
            " [ 33  33   1   2   1]\n",
            " [ 77  78   2   2   3]\n",
            " [  5   5   0   1   1]]\n",
            "Unique values in y_train: [  0   1   2   3   4   5   6   7   8   9  10  11  12  13  14  15  16  17\n",
            "  18  19  20  21  22  23  24  25  26  27  28  29  30  31  32  33  34  35\n",
            "  36  37  38  39  40  41  42  43  44  45  46  47  48  49  50  51  52  53\n",
            "  54  55  56  57  58  59  60  61  62  63  64  65  66  67  68  69  70  71\n",
            "  72  73  74  75  76  77  78  79  80  81  82  83  84  85  86  87  88  89\n",
            "  90  91  92  93  94  95  96  97  98  99 100 101 102 103 104 105 106 107\n",
            " 108 109 110 111 112 113 114 115 116 117 118 119 120 121 122 123]\n"
          ]
        }
      ],
      "source": [
        "# Check the shape of X_train\n",
        "print(\"Shape of X_train:\", X_train.shape)\n",
        "\n",
        "# Check the shape of y_train\n",
        "print(\"Shape of y_train:\", y_train.shape)\n",
        "y_train = np.array(y_train)\n",
        "print(\"numpy array of y_train :\",y_train)\n",
        "# Print unique values in y_train\n",
        "print(\"Unique values in y_train:\", np.unique(y_train))\n",
        "\n"
      ]
    },
    {
      "cell_type": "code",
      "execution_count": null,
      "id": "1f5b3f3c",
      "metadata": {
        "id": "1f5b3f3c",
        "colab": {
          "base_uri": "https://localhost:8080/"
        },
        "outputId": "c35f9bb0-073a-4d38-dfd3-2f1b0c8c2c2e"
      },
      "outputs": [
        {
          "output_type": "execute_result",
          "data": {
            "text/plain": [
              "124"
            ]
          },
          "metadata": {},
          "execution_count": 102
        }
      ],
      "source": [
        "num_classes = len(np.unique(y_train))\n",
        "num_classes"
      ]
    },
    {
      "cell_type": "code",
      "execution_count": null,
      "id": "0d9fcc6f",
      "metadata": {
        "id": "0d9fcc6f",
        "colab": {
          "base_uri": "https://localhost:8080/",
          "height": 1000
        },
        "outputId": "ccc9d2f0-a150-4067-9de2-77b50f5a7cd0"
      },
      "outputs": [
        {
          "output_type": "stream",
          "name": "stdout",
          "text": [
            "Model: \"sequential_5\"\n",
            "_________________________________________________________________\n",
            " Layer (type)                Output Shape              Param #   \n",
            "=================================================================\n",
            " dense_12 (Dense)            (None, 128)               2048      \n",
            "                                                                 \n",
            " dropout_2 (Dropout)         (None, 128)               0         \n",
            "                                                                 \n",
            " dense_13 (Dense)            (None, 64)                8256      \n",
            "                                                                 \n",
            " dense_14 (Dense)            (None, 1)                 65        \n",
            "                                                                 \n",
            "=================================================================\n",
            "Total params: 10369 (40.50 KB)\n",
            "Trainable params: 10369 (40.50 KB)\n",
            "Non-trainable params: 0 (0.00 Byte)\n",
            "_________________________________________________________________\n",
            "Epoch 1/10\n",
            "4/4 [==============================] - 2s 125ms/step - loss: 1820.4564 - mse: 1820.4564 - val_loss: 1159.4764 - val_mse: 1159.4764\n",
            "Epoch 2/10\n",
            "4/4 [==============================] - 0s 27ms/step - loss: 1433.7131 - mse: 1433.7131 - val_loss: 1150.8406 - val_mse: 1150.8406\n",
            "Epoch 3/10\n",
            "4/4 [==============================] - 0s 24ms/step - loss: 1419.8795 - mse: 1419.8795 - val_loss: 1121.0093 - val_mse: 1121.0093\n",
            "Epoch 4/10\n",
            "4/4 [==============================] - 0s 21ms/step - loss: 1364.3716 - mse: 1364.3716 - val_loss: 1065.6062 - val_mse: 1065.6062\n",
            "Epoch 5/10\n",
            "4/4 [==============================] - 0s 25ms/step - loss: 1304.5870 - mse: 1304.5870 - val_loss: 1027.2311 - val_mse: 1027.2311\n",
            "Epoch 6/10\n",
            "4/4 [==============================] - 0s 26ms/step - loss: 1280.8582 - mse: 1280.8582 - val_loss: 1019.8513 - val_mse: 1019.8513\n",
            "Epoch 7/10\n",
            "4/4 [==============================] - 0s 28ms/step - loss: 1268.1859 - mse: 1268.1859 - val_loss: 1017.9584 - val_mse: 1017.9584\n",
            "Epoch 8/10\n",
            "4/4 [==============================] - 0s 23ms/step - loss: 1277.2520 - mse: 1277.2520 - val_loss: 1007.0802 - val_mse: 1007.0802\n",
            "Epoch 9/10\n",
            "4/4 [==============================] - 0s 29ms/step - loss: 1269.4252 - mse: 1269.4252 - val_loss: 1006.2919 - val_mse: 1006.2919\n",
            "Epoch 10/10\n",
            "4/4 [==============================] - 0s 20ms/step - loss: 1256.6543 - mse: 1256.6543 - val_loss: 1013.8973 - val_mse: 1013.8973\n"
          ]
        },
        {
          "output_type": "execute_result",
          "data": {
            "image/png": "[encoded data removed]",
            "text/plain": [
              "<IPython.core.display.Image object>"
            ]
          },
          "metadata": {},
          "execution_count": 126
        }
      ],
      "source": [
        "import tensorflow as tf\n",
        "from tensorflow.keras.models import Sequential\n",
        "from tensorflow.keras.layers import Dense, Dropout\n",
        "import numpy as np\n",
        "\n",
        "# Assuming y_train is numeric\n",
        "# Convert y_train to NumPy array\n",
        "y_train = np.array(y_train)\n",
        "\n",
        "# Modify the last layer of your model for regression\n",
        "model = Sequential()\n",
        "model.add(Dense(128, input_dim=X_train.shape[1], activation='relu'))\n",
        "model.add(Dropout(0.2))\n",
        "model.add(Dense(64, activation='relu'))\n",
        "model.add(Dense(1, activation='linear'))  # Use 'linear' activation for regression\n",
        "\n",
        "# Compile the model with 'mean_squared_error' loss for regression\n",
        "model.compile(optimizer='adam', loss='mean_squared_error', metrics=['mse'])\n",
        "\n",
        "# Display the model summary\n",
        "model.summary()\n",
        "\n",
        "# Train the DNN model using the training dataset\n",
        "history = model.fit(X_train, y_train, epochs=10, batch_size=32, validation_split=0.2)\n",
        "plot_model(model)\n"
      ]
    },
    {
      "cell_type": "code",
      "execution_count": null,
      "id": "d0d66863",
      "metadata": {
        "id": "d0d66863",
        "colab": {
          "base_uri": "https://localhost:8080/"
        },
        "outputId": "fe2965b2-9b60-4aef-c30d-5cc6fda3fb1b"
      },
      "outputs": [
        {
          "output_type": "stream",
          "name": "stdout",
          "text": [
            "kras, her2, pik3ca kra g12v, her2 her2 amplification, pik3ca e545k male smoker loss appetit headach fatigu stage ii adenocarcinoma brain radiat asthma, obesity, copd ye posit kras, posit her2, posit pik3ca cea, cyfra 21-1, nse, ca 19-9, ca-125\n",
            "  (0, 0)\t0.06973749259651144\n",
            "  (0, 1)\t0.06928664960255548\n",
            "  (0, 16)\t0.11815112642317922\n",
            "  (0, 84)\t0.07204910624823202\n",
            "  (0, 2)\t0.07300177573088143\n",
            "  (0, 28)\t0.07300177573088143\n",
            "  (0, 18)\t0.07446258535599112\n",
            "  (0, 90)\t0.16433134363227292\n",
            "  (0, 115)\t0.0734843966021864\n",
            "  (0, 26)\t0.0859504709038435\n",
            "  (0, 86)\t0.10130460375602664\n",
            "  (0, 8)\t0.08718146910298455\n",
            "  (0, 92)\t0.11599933087777788\n",
            "  (0, 14)\t0.12640937108153819\n",
            "  (0, 3)\t0.12153708445160365\n",
            "  (0, 61)\t0.12271513231840107\n",
            "  (0, 103)\t0.05477711454409097\n",
            "  (0, 47)\t0.14798631125912368\n",
            "  (0, 55)\t0.14090846544340307\n",
            "  (0, 7)\t0.14612928207976247\n",
            "  (0, 71)\t0.10725525210800131\n",
            "  (0, 100)\t0.11292691173831666\n",
            "  (0, 73)\t0.0952119844013546\n",
            "  (0, 39)\t0.1583524419498762\n",
            "  (0, 6)\t0.08844076857609234\n",
            "  :\t:\n",
            "  (157, 27)\t0.08709041246806382\n",
            "  (157, 88)\t0.08872071335739974\n",
            "  (157, 75)\t0.07597051320141174\n",
            "  (157, 49)\t0.485416328034075\n",
            "  (157, 64)\t0.09699097635220287\n",
            "  (157, 102)\t0.08552283123299705\n",
            "  (157, 30)\t0.5711738951581674\n",
            "  (157, 104)\t0.08709041246806382\n",
            "  (157, 19)\t0.054669592798324736\n",
            "  (157, 112)\t0.1048305325187695\n",
            "  (157, 38)\t0.1048305325187695\n",
            "  (157, 107)\t0.1048305325187695\n",
            "  (157, 80)\t0.1048305325187695\n",
            "  (157, 99)\t0.05766191540836018\n",
            "  (157, 48)\t0.06675548089581304\n",
            "  (157, 76)\t0.06532543636678427\n",
            "  (157, 0)\t0.05188203889958907\n",
            "  (157, 16)\t0.04394996944171961\n",
            "  (157, 2)\t0.05431054124819701\n",
            "  (157, 28)\t0.05431054124819701\n",
            "  (157, 18)\t0.05539732798188904\n",
            "  (157, 90)\t0.12225626195195065\n",
            "  (157, 14)\t0.09404375843666382\n",
            "  (157, 103)\t0.04075208731731688\n",
            "  (157, 6)\t0.06579656401073292\n"
          ]
        },
        {
          "output_type": "execute_result",
          "data": {
            "text/plain": [
              "(158, 116)"
            ]
          },
          "metadata": {},
          "execution_count": 104
        }
      ],
      "source": [
        "# Tokenize and normalize symptoms\n",
        "from sklearn.feature_extraction.text import TfidfVectorizer\n",
        "\n",
        "def normalize_symptoms(text):\n",
        "    tokens = text.lower().split()\n",
        "    filtered_tokens = [token for token in tokens if token not in stops]\n",
        "    normalized_tokens = [stemmer.stem(token) for token in filtered_tokens]\n",
        "    return \" \".join(normalized_tokens)\n",
        "\n",
        "cancer_data['normalized_symptoms'] = cancer_data['symptoms'].apply(normalize_symptoms)\n",
        "print(cancer_data['normalized_symptoms'][0])\n",
        "# Create a TF-IDF vectorizer\n",
        "vectorizer = TfidfVectorizer()\n",
        "tfidf_matrix = vectorizer.fit_transform(cancer_data['normalized_symptoms'])\n",
        "print(tfidf_matrix)\n",
        "tfidf_matrix.shape\n"
      ]
    },
    {
      "cell_type": "code",
      "execution_count": null,
      "id": "e76152d4",
      "metadata": {
        "id": "e76152d4",
        "colab": {
          "base_uri": "https://localhost:8080/"
        },
        "outputId": "2e606594-ba9b-478d-925f-cd249fe978a2"
      },
      "outputs": [
        {
          "output_type": "execute_result",
          "data": {
            "text/plain": [
              "(240, 116)"
            ]
          },
          "metadata": {},
          "execution_count": 105
        }
      ],
      "source": [
        "# Gather user inputs\n",
        "tfidf_features = vectorizer.transform(medical_transcript)\n",
        "tfidf_features.shape"
      ]
    },
    {
      "cell_type": "code",
      "source": [
        "!pip install transformers"
      ],
      "metadata": {
        "id": "kdrSP7Bv3YtX",
        "colab": {
          "base_uri": "https://localhost:8080/"
        },
        "outputId": "f81171eb-0a4a-437e-8646-1f130732c3e6"
      },
      "id": "kdrSP7Bv3YtX",
      "execution_count": null,
      "outputs": [
        {
          "output_type": "stream",
          "name": "stdout",
          "text": [
            "Requirement already satisfied: transformers in /usr/local/lib/python3.10/dist-packages (4.37.2)\n",
            "Requirement already satisfied: filelock in /usr/local/lib/python3.10/dist-packages (from transformers) (3.13.1)\n",
            "Requirement already satisfied: huggingface-hub<1.0,>=0.19.3 in /usr/local/lib/python3.10/dist-packages (from transformers) (0.20.3)\n",
            "Requirement already satisfied: numpy>=1.17 in /usr/local/lib/python3.10/dist-packages (from transformers) (1.23.5)\n",
            "Requirement already satisfied: packaging>=20.0 in /usr/local/lib/python3.10/dist-packages (from transformers) (23.2)\n",
            "Requirement already satisfied: pyyaml>=5.1 in /usr/local/lib/python3.10/dist-packages (from transformers) (6.0.1)\n",
            "Requirement already satisfied: regex!=2019.12.17 in /usr/local/lib/python3.10/dist-packages (from transformers) (2023.6.3)\n",
            "Requirement already satisfied: requests in /usr/local/lib/python3.10/dist-packages (from transformers) (2.31.0)\n",
            "Requirement already satisfied: tokenizers<0.19,>=0.14 in /usr/local/lib/python3.10/dist-packages (from transformers) (0.15.1)\n",
            "Requirement already satisfied: safetensors>=0.4.1 in /usr/local/lib/python3.10/dist-packages (from transformers) (0.4.2)\n",
            "Requirement already satisfied: tqdm>=4.27 in /usr/local/lib/python3.10/dist-packages (from transformers) (4.66.1)\n",
            "Requirement already satisfied: fsspec>=2023.5.0 in /usr/local/lib/python3.10/dist-packages (from huggingface-hub<1.0,>=0.19.3->transformers) (2023.6.0)\n",
            "Requirement already satisfied: typing-extensions>=3.7.4.3 in /usr/local/lib/python3.10/dist-packages (from huggingface-hub<1.0,>=0.19.3->transformers) (4.5.0)\n",
            "Requirement already satisfied: charset-normalizer<4,>=2 in /usr/local/lib/python3.10/dist-packages (from requests->transformers) (3.3.2)\n",
            "Requirement already satisfied: idna<4,>=2.5 in /usr/local/lib/python3.10/dist-packages (from requests->transformers) (3.6)\n",
            "Requirement already satisfied: urllib3<3,>=1.21.1 in /usr/local/lib/python3.10/dist-packages (from requests->transformers) (1.25.10)\n",
            "Requirement already satisfied: certifi>=2017.4.17 in /usr/local/lib/python3.10/dist-packages (from requests->transformers) (2023.11.17)\n"
          ]
        }
      ]
    },
    {
      "cell_type": "code",
      "source": [
        "!pip install --upgrade transformers\n"
      ],
      "metadata": {
        "id": "56CgjidH3hrl",
        "colab": {
          "base_uri": "https://localhost:8080/"
        },
        "outputId": "4d24eb93-ba1c-4a4a-916c-4c0a4fcd99c7"
      },
      "id": "56CgjidH3hrl",
      "execution_count": null,
      "outputs": [
        {
          "output_type": "stream",
          "name": "stdout",
          "text": [
            "Requirement already satisfied: transformers in /usr/local/lib/python3.10/dist-packages (4.37.2)\n",
            "Requirement already satisfied: filelock in /usr/local/lib/python3.10/dist-packages (from transformers) (3.13.1)\n",
            "Requirement already satisfied: huggingface-hub<1.0,>=0.19.3 in /usr/local/lib/python3.10/dist-packages (from transformers) (0.20.3)\n",
            "Requirement already satisfied: numpy>=1.17 in /usr/local/lib/python3.10/dist-packages (from transformers) (1.23.5)\n",
            "Requirement already satisfied: packaging>=20.0 in /usr/local/lib/python3.10/dist-packages (from transformers) (23.2)\n",
            "Requirement already satisfied: pyyaml>=5.1 in /usr/local/lib/python3.10/dist-packages (from transformers) (6.0.1)\n",
            "Requirement already satisfied: regex!=2019.12.17 in /usr/local/lib/python3.10/dist-packages (from transformers) (2023.6.3)\n",
            "Requirement already satisfied: requests in /usr/local/lib/python3.10/dist-packages (from transformers) (2.31.0)\n",
            "Requirement already satisfied: tokenizers<0.19,>=0.14 in /usr/local/lib/python3.10/dist-packages (from transformers) (0.15.1)\n",
            "Requirement already satisfied: safetensors>=0.4.1 in /usr/local/lib/python3.10/dist-packages (from transformers) (0.4.2)\n",
            "Requirement already satisfied: tqdm>=4.27 in /usr/local/lib/python3.10/dist-packages (from transformers) (4.66.1)\n",
            "Requirement already satisfied: fsspec>=2023.5.0 in /usr/local/lib/python3.10/dist-packages (from huggingface-hub<1.0,>=0.19.3->transformers) (2023.6.0)\n",
            "Requirement already satisfied: typing-extensions>=3.7.4.3 in /usr/local/lib/python3.10/dist-packages (from huggingface-hub<1.0,>=0.19.3->transformers) (4.5.0)\n",
            "Requirement already satisfied: charset-normalizer<4,>=2 in /usr/local/lib/python3.10/dist-packages (from requests->transformers) (3.3.2)\n",
            "Requirement already satisfied: idna<4,>=2.5 in /usr/local/lib/python3.10/dist-packages (from requests->transformers) (3.6)\n",
            "Requirement already satisfied: urllib3<3,>=1.21.1 in /usr/local/lib/python3.10/dist-packages (from requests->transformers) (1.25.10)\n",
            "Requirement already satisfied: certifi>=2017.4.17 in /usr/local/lib/python3.10/dist-packages (from requests->transformers) (2023.11.17)\n"
          ]
        }
      ]
    },
    {
      "cell_type": "code",
      "source": [
        "\n"
      ],
      "metadata": {
        "id": "N0ohVJAl9rTm"
      },
      "id": "N0ohVJAl9rTm",
      "execution_count": null,
      "outputs": []
    },
    {
      "cell_type": "code",
      "execution_count": null,
      "id": "3d07a5cb",
      "metadata": {
        "id": "3d07a5cb",
        "colab": {
          "base_uri": "https://localhost:8080/"
        },
        "outputId": "609f8cc4-8afe-44c9-e489-03b51775add8"
      },
      "outputs": [
        {
          "output_type": "stream",
          "name": "stdout",
          "text": [
            "{'input_ids': tensor([[  101,   161,  3663,  5301,  1110,   170,  4335,   118,  1214,   118,\n",
            "          1385,  2170,  1237,  2581,   117,  1150,  8218,  1106,  1103,   142,\n",
            "          2137,  1114,   170, 12522,  1104,   170,  1160,   118,  1989,  1607,\n",
            "          1104, 23523,  1757,  1115,  1110,  1136,  2033,  1618,   119,  1332,\n",
            "          8449,  1748,   117,  1119, 15077,  1115,  1117,  4400,  2106,   107,\n",
            "          5427,  1197,   112,   188, 21810,   107,  1110,  2033,  4146,  1105,\n",
            "          1115,  1119,  1144,   107,  1549,  3021,  1354, 10634,  1106,  8204,\n",
            "          1916,  9987,  1107,  1103,  1485,  2174,   119,   107, 14123,  3048,\n",
            "           131,   145,  1183, 11439,  7889, 16219,  1863,  1765,  1201,   794,\n",
            "           139,  8009, 16719,   184, 13894, 19243,  1582,  7729,  1548,  1104,\n",
            "          4257,   129,  1201,   794, 11442,   123,  1201,  5621, 21344,  1126,\n",
            "         20504,  1104,  3655,  2612,   117,   129,  1808,  5623,  1348,  1155,\n",
            "         26949,   187,  8265, 10721,  1290,  8050,  9016, 16353,  3728,  3426,\n",
            "          1104, 21461,  7201,   188, 16156,  1818,  1107,  1763,  1214,  1115,\n",
            "         10456,  1107,   170,  1374,  1552,   132,  5351,  1225,  1136,  5622,\n",
            "          2657,  1494,  1302,  2988,  1607,  1104, 14780,  1137, 12814,  3377,\n",
            "           794,  6467,  1107, 27206, 20034,  1314,  1214,  4254, 21359,  5108,\n",
            "          1361, 14112,  1200,   117,   127,  1201,  2403,   119,  3921,  1607,\n",
            "          1110,  4366,  1111, 13093,  4182,   132,  1649,   117,  1175,  1110,\n",
            "           170,  3112,  1266,  1607,  1111,  1168,  3322,  1104,  4182,   118,\n",
            "         16063,  4906,  1114,  2942, 10294,  6163,  4182,   117,  1141, 12585,\n",
            "          1114,  1664,   118,  9800,  1181,  1403,  4314,   112,   188,   181,\n",
            "         25698,  7903,   117,  1105,  1141, 12585,  1114, 12477,  2646, 15454,\n",
            "          1143,  4371,  7903,  7195,  9080,  1110,  3112,  1111,  4146,  3381,\n",
            "         21810,  1105,  2793, 15415,  1104,  1603,  1757,  1104,  2184,  1114,\n",
            "          8828,  4252,  7340,  1988,   113,   174,   119,   176,   119,   117,\n",
            "          8259,  1141,  3043,  1104,  4377,   114,   794,  7195,  9080, 26360,\n",
            "          1155,  1104,  1103,  1378,   131, 10880,  1105, 11824,  1116,   132,\n",
            "         18418,   132, 11477,   132,  2869, 21518,   132,  8362, 10879,  3452,\n",
            "         12115,  2022,  2445,   132,  7262,  1137,  2489,  1114, 24841,   132,\n",
            "          2489,  1107,  2229,   117, 14701,   117,  3221,   117,  1137,  1171,\n",
            "           132,  2793, 15415,  1104,  4152,  2645,   132, 16320,   132, 22882,\n",
            "          1137, 26979,  1158,   132,  4267, 15284,  1757,   132,  2418, 20085,\n",
            "           132,  7125,  1883,  1137, 28083,  2645,   794,   160, 19989,  3171,\n",
            "         12686,  1116, 10182, 23934,  1906,  1107,  1268,  3105, 25163,  1113,\n",
            "          7670,   794, 22599,  7189,  1298,  1104, 20370,  1106, 10884,  1757,\n",
            "          1166,  1268,  3105, 25163,  4641,   794,   138, 15328,  8561,  5156,\n",
            "          1388,  1120,  4025,  9455, 13538,  6163,  2000,  1120,  2286,   118,\n",
            "           172,  9516, 20899,  1413, 14381,  2603,  1105,  6795, 14508,   156,\n",
            "          1475,  1105,   156,  1477,   113,   118,   114, 26792,   117, 16259,\n",
            "          1116,   117,   156,  1495,  1105,   156,  1527, 20394,  2556,   161,\n",
            "           118,  4150,  1116,  1760, 25710, 21341,  9866, 15186, 28054, 19987,\n",
            "          1348,  7334,  3954, 17193,  1161,  1495,   119,   126,   118,  3975,\n",
            "         23749, 27089,  2913,  8298,  4412,  1193,  1394, 12601,  4455,  3365,\n",
            "          2858,  3962,  4267, 20080, 24001,  1103,  1268,  9304,  1320, 15548,\n",
            "           117,  4986,  7671,  1106,  1103,  1298,  1104, 10884,  1757,  1105,\n",
            "           192, 19989,  6185,  1767,  1118, 12686,  1116, 10182, 23934,  2116,\n",
            "          8123, 13093,  1110,  2330,   794,  1302,  5300,  1104,   185,  1513,\n",
            "         12602,   174,  3101, 17268,  1127,  2382, 16899, 20452,  5443, 20394,\n",
            "          2556,   131,  6750, 13003,  1116,  1103,  8241,  1988,  1562,  1113,\n",
            "           193,   118, 11611,  4882,  2394,  2050, 14196, 19852,  1105, 19455,\n",
            "         12089,   102]]), 'token_type_ids': tensor([[0, 0, 0, 0, 0, 0, 0, 0, 0, 0, 0, 0, 0, 0, 0, 0, 0, 0, 0, 0, 0, 0, 0, 0,\n",
            "         0, 0, 0, 0, 0, 0, 0, 0, 0, 0, 0, 0, 0, 0, 0, 0, 0, 0, 0, 0, 0, 0, 0, 0,\n",
            "         0, 0, 0, 0, 0, 0, 0, 0, 0, 0, 0, 0, 0, 0, 0, 0, 0, 0, 0, 0, 0, 0, 0, 0,\n",
            "         0, 0, 0, 0, 0, 0, 0, 0, 0, 0, 0, 0, 0, 0, 0, 0, 0, 0, 0, 0, 0, 0, 0, 0,\n",
            "         0, 0, 0, 0, 0, 0, 0, 0, 0, 0, 0, 0, 0, 0, 0, 0, 0, 0, 0, 0, 0, 0, 0, 0,\n",
            "         0, 0, 0, 0, 0, 0, 0, 0, 0, 0, 0, 0, 0, 0, 0, 0, 0, 0, 0, 0, 0, 0, 0, 0,\n",
            "         0, 0, 0, 0, 0, 0, 0, 0, 0, 0, 0, 0, 0, 0, 0, 0, 0, 0, 0, 0, 0, 0, 0, 0,\n",
            "         0, 0, 0, 0, 0, 0, 0, 0, 0, 0, 0, 0, 0, 0, 0, 0, 0, 0, 0, 0, 0, 0, 0, 0,\n",
            "         0, 0, 0, 0, 0, 0, 0, 0, 0, 0, 0, 0, 0, 0, 0, 0, 0, 0, 0, 0, 0, 0, 0, 0,\n",
            "         0, 0, 0, 0, 0, 0, 0, 0, 0, 0, 0, 0, 0, 0, 0, 0, 0, 0, 0, 0, 0, 0, 0, 0,\n",
            "         0, 0, 0, 0, 0, 0, 0, 0, 0, 0, 0, 0, 0, 0, 0, 0, 0, 0, 0, 0, 0, 0, 0, 0,\n",
            "         0, 0, 0, 0, 0, 0, 0, 0, 0, 0, 0, 0, 0, 0, 0, 0, 0, 0, 0, 0, 0, 0, 0, 0,\n",
            "         0, 0, 0, 0, 0, 0, 0, 0, 0, 0, 0, 0, 0, 0, 0, 0, 0, 0, 0, 0, 0, 0, 0, 0,\n",
            "         0, 0, 0, 0, 0, 0, 0, 0, 0, 0, 0, 0, 0, 0, 0, 0, 0, 0, 0, 0, 0, 0, 0, 0,\n",
            "         0, 0, 0, 0, 0, 0, 0, 0, 0, 0, 0, 0, 0, 0, 0, 0, 0, 0, 0, 0, 0, 0, 0, 0,\n",
            "         0, 0, 0, 0, 0, 0, 0, 0, 0, 0, 0, 0, 0, 0, 0, 0, 0, 0, 0, 0, 0, 0, 0, 0,\n",
            "         0, 0, 0, 0, 0, 0, 0, 0, 0, 0, 0, 0, 0, 0, 0, 0, 0, 0, 0, 0, 0, 0, 0, 0,\n",
            "         0, 0, 0, 0, 0, 0, 0, 0, 0, 0, 0, 0, 0, 0, 0, 0, 0, 0, 0, 0, 0, 0, 0, 0,\n",
            "         0, 0, 0, 0, 0, 0, 0, 0, 0, 0, 0, 0, 0, 0, 0, 0, 0, 0, 0, 0, 0, 0, 0, 0,\n",
            "         0, 0, 0, 0, 0, 0, 0, 0, 0, 0, 0, 0, 0, 0, 0, 0, 0, 0, 0, 0, 0, 0, 0, 0,\n",
            "         0, 0, 0, 0, 0, 0, 0, 0, 0, 0, 0, 0, 0, 0, 0, 0, 0, 0, 0, 0, 0, 0, 0, 0,\n",
            "         0, 0, 0, 0, 0, 0, 0, 0]]), 'attention_mask': tensor([[1, 1, 1, 1, 1, 1, 1, 1, 1, 1, 1, 1, 1, 1, 1, 1, 1, 1, 1, 1, 1, 1, 1, 1,\n",
            "         1, 1, 1, 1, 1, 1, 1, 1, 1, 1, 1, 1, 1, 1, 1, 1, 1, 1, 1, 1, 1, 1, 1, 1,\n",
            "         1, 1, 1, 1, 1, 1, 1, 1, 1, 1, 1, 1, 1, 1, 1, 1, 1, 1, 1, 1, 1, 1, 1, 1,\n",
            "         1, 1, 1, 1, 1, 1, 1, 1, 1, 1, 1, 1, 1, 1, 1, 1, 1, 1, 1, 1, 1, 1, 1, 1,\n",
            "         1, 1, 1, 1, 1, 1, 1, 1, 1, 1, 1, 1, 1, 1, 1, 1, 1, 1, 1, 1, 1, 1, 1, 1,\n",
            "         1, 1, 1, 1, 1, 1, 1, 1, 1, 1, 1, 1, 1, 1, 1, 1, 1, 1, 1, 1, 1, 1, 1, 1,\n",
            "         1, 1, 1, 1, 1, 1, 1, 1, 1, 1, 1, 1, 1, 1, 1, 1, 1, 1, 1, 1, 1, 1, 1, 1,\n",
            "         1, 1, 1, 1, 1, 1, 1, 1, 1, 1, 1, 1, 1, 1, 1, 1, 1, 1, 1, 1, 1, 1, 1, 1,\n",
            "         1, 1, 1, 1, 1, 1, 1, 1, 1, 1, 1, 1, 1, 1, 1, 1, 1, 1, 1, 1, 1, 1, 1, 1,\n",
            "         1, 1, 1, 1, 1, 1, 1, 1, 1, 1, 1, 1, 1, 1, 1, 1, 1, 1, 1, 1, 1, 1, 1, 1,\n",
            "         1, 1, 1, 1, 1, 1, 1, 1, 1, 1, 1, 1, 1, 1, 1, 1, 1, 1, 1, 1, 1, 1, 1, 1,\n",
            "         1, 1, 1, 1, 1, 1, 1, 1, 1, 1, 1, 1, 1, 1, 1, 1, 1, 1, 1, 1, 1, 1, 1, 1,\n",
            "         1, 1, 1, 1, 1, 1, 1, 1, 1, 1, 1, 1, 1, 1, 1, 1, 1, 1, 1, 1, 1, 1, 1, 1,\n",
            "         1, 1, 1, 1, 1, 1, 1, 1, 1, 1, 1, 1, 1, 1, 1, 1, 1, 1, 1, 1, 1, 1, 1, 1,\n",
            "         1, 1, 1, 1, 1, 1, 1, 1, 1, 1, 1, 1, 1, 1, 1, 1, 1, 1, 1, 1, 1, 1, 1, 1,\n",
            "         1, 1, 1, 1, 1, 1, 1, 1, 1, 1, 1, 1, 1, 1, 1, 1, 1, 1, 1, 1, 1, 1, 1, 1,\n",
            "         1, 1, 1, 1, 1, 1, 1, 1, 1, 1, 1, 1, 1, 1, 1, 1, 1, 1, 1, 1, 1, 1, 1, 1,\n",
            "         1, 1, 1, 1, 1, 1, 1, 1, 1, 1, 1, 1, 1, 1, 1, 1, 1, 1, 1, 1, 1, 1, 1, 1,\n",
            "         1, 1, 1, 1, 1, 1, 1, 1, 1, 1, 1, 1, 1, 1, 1, 1, 1, 1, 1, 1, 1, 1, 1, 1,\n",
            "         1, 1, 1, 1, 1, 1, 1, 1, 1, 1, 1, 1, 1, 1, 1, 1, 1, 1, 1, 1, 1, 1, 1, 1,\n",
            "         1, 1, 1, 1, 1, 1, 1, 1, 1, 1, 1, 1, 1, 1, 1, 1, 1, 1, 1, 1, 1, 1, 1, 1,\n",
            "         1, 1, 1, 1, 1, 1, 1, 1]])}\n"
          ]
        },
        {
          "output_type": "execute_result",
          "data": {
            "text/plain": [
              "((1, 512, 768),\n",
              " array([[[ 0.13340041, -0.18021484, -0.01995244, ..., -0.3992377 ,\n",
              "           0.40593195,  0.23974453],\n",
              "         [ 0.16174823,  0.13074839,  0.3286853 , ...,  0.25804546,\n",
              "           0.47434872,  0.38249442],\n",
              "         [-0.15071228, -0.01017828,  0.32045144, ..., -0.15462714,\n",
              "           0.5457453 ,  0.16764736],\n",
              "         ...,\n",
              "         [ 0.066678  , -0.44299027, -0.04651878, ...,  0.07975804,\n",
              "          -0.04494012,  0.40034252],\n",
              "         [ 0.18047811, -0.26731426,  0.10754836, ..., -0.10295236,\n",
              "           0.3808272 ,  0.01888821],\n",
              "         [ 0.88260156, -0.08736797, -0.24062122, ..., -0.5297994 ,\n",
              "           0.5909216 , -0.3674566 ]]], dtype=float32))"
            ]
          },
          "metadata": {},
          "execution_count": 108
        }
      ],
      "source": [
        "from transformers import AutoTokenizer, AutoModel\n",
        "\n",
        "# Load pre-trained BioBERT model and tokenizer\n",
        "tokenizer = AutoTokenizer.from_pretrained(\"monologg/biobert_v1.1_pubmed\")\n",
        "model_bert = AutoModel.from_pretrained(\"monologg/biobert_v1.1_pubmed\")\n",
        "\n",
        "# Tokenize user input\n",
        "tokenized_user_input = tokenizer(user_inputs, is_split_into_words=True, padding=True, truncation=True, return_tensors=\"pt\")\n",
        "\n",
        "print(tokenized_user_input)\n",
        "# Get word embeddings\n",
        "with torch.no_grad():\n",
        "    outputs = model_bert(**tokenized_user_input)\n",
        "    word_embeddings = outputs.last_hidden_state.numpy()\n",
        "word_embeddings.shape,word_embeddings"
      ]
    },
    {
      "cell_type": "code",
      "execution_count": null,
      "id": "5c5dabae",
      "metadata": {
        "id": "5c5dabae",
        "colab": {
          "base_uri": "https://localhost:8080/"
        },
        "outputId": "dad592f9-f6d5-4b8e-8397-e7fbac897a64"
      },
      "outputs": [
        {
          "output_type": "stream",
          "name": "stdout",
          "text": [
            "[('XYZ', 'ORG'), ('54-year-old', 'DATE'), ('African American', 'NORP'), ('two-week', 'DATE'), ('PMH', 'ORG'), ('27 years', 'DATE'), ('• Bilateral', 'PRODUCT'), ('8 years', 'DATE'), ('• Depression 2 years', 'EVENT'), ('8 months  Seasonal', 'DATE'), ('past year', 'DATE'), ('a few days', 'DATE'), ('• Had', 'PRODUCT'), ('last year', 'DATE'), ('6 years ago', 'DATE'), ('one', 'CARDINAL'), (\"non-Hodgkin's\", 'ORG'), ('• Patient', 'ORG'), ('eight', 'CARDINAL'), ('• Wheeze', 'PRODUCT'), ('• Percussion', 'ORG'), ('• Apical', 'ORG'), ('5th', 'ORDINAL'), ('Normal S1', 'PERSON'), ('S2', 'CARDINAL'), ('S3', 'PRODUCT'), ('S4', 'PRODUCT')]\n",
            "(27, 8)\n",
            "[[0. 0. 0. 0. 0. 1. 0. 0.]\n",
            " [0. 1. 0. 0. 0. 0. 0. 0.]\n",
            " [0. 0. 0. 1. 0. 0. 0. 0.]\n",
            " [0. 1. 0. 0. 0. 0. 0. 0.]\n",
            " [0. 0. 0. 0. 0. 1. 0. 0.]\n",
            " [0. 1. 0. 0. 0. 0. 0. 0.]\n",
            " [0. 0. 0. 0. 0. 0. 0. 1.]\n",
            " [0. 1. 0. 0. 0. 0. 0. 0.]\n",
            " [0. 0. 1. 0. 0. 0. 0. 0.]\n",
            " [0. 1. 0. 0. 0. 0. 0. 0.]\n",
            " [0. 1. 0. 0. 0. 0. 0. 0.]\n",
            " [0. 1. 0. 0. 0. 0. 0. 0.]\n",
            " [0. 0. 0. 0. 0. 0. 0. 1.]\n",
            " [0. 1. 0. 0. 0. 0. 0. 0.]\n",
            " [0. 1. 0. 0. 0. 0. 0. 0.]\n",
            " [1. 0. 0. 0. 0. 0. 0. 0.]\n",
            " [0. 0. 0. 0. 0. 1. 0. 0.]\n",
            " [0. 0. 0. 0. 0. 1. 0. 0.]\n",
            " [1. 0. 0. 0. 0. 0. 0. 0.]\n",
            " [0. 0. 0. 0. 0. 0. 0. 1.]\n",
            " [0. 0. 0. 0. 0. 1. 0. 0.]\n",
            " [0. 0. 0. 0. 0. 1. 0. 0.]\n",
            " [0. 0. 0. 0. 1. 0. 0. 0.]\n",
            " [0. 0. 0. 0. 0. 0. 1. 0.]\n",
            " [1. 0. 0. 0. 0. 0. 0. 0.]\n",
            " [0. 0. 0. 0. 0. 0. 0. 1.]\n",
            " [0. 0. 0. 0. 0. 0. 0. 1.]]\n"
          ]
        }
      ],
      "source": [
        "# Load a model with NER capabilities (e.g., en_core_web_sm for general English)\n",
        "import spacy\n",
        "from spacy import displacy\n",
        "nlp = spacy.load(\"en_core_web_sm\")\n",
        "all_entities = []\n",
        "for user_input in user_inputs:\n",
        "    doc = nlp(user_input)\n",
        "    ## Render output by using displacy module\n",
        "    displacy.render(doc, style=\"dep\")\n",
        "    # Extract entities and their labels\n",
        "    entities = [(entity.text, entity.label_) for entity in doc.ents]\n",
        "    all_entities.extend(entities)\n",
        "print(all_entities)\n",
        "\n",
        "entity_types = [entity[1] for entity in all_entities]\n",
        "encoder = OneHotEncoder(handle_unknown='ignore')\n",
        "entities_features = encoder.fit_transform(np.array(entity_types).reshape(-1, 1)).toarray()\n",
        "print(entities_features.shape)\n",
        "print(entities_features)"
      ]
    },
    {
      "cell_type": "code",
      "execution_count": null,
      "id": "8cae1fad",
      "metadata": {
        "id": "8cae1fad",
        "colab": {
          "base_uri": "https://localhost:8080/"
        },
        "outputId": "4348c8d8-dc8c-4e34-a235-d6721773cc09"
      },
      "outputs": [
        {
          "output_type": "stream",
          "name": "stdout",
          "text": [
            "All entities: [('54-year-old', 'DATE'), ('african', 'NORP'), ('american', 'NORP'), ('two-week', 'DATE'), ('morning', 'TIME'), ('27', 'CARDINAL'), ('8', 'CARDINAL'), ('2', 'CARDINAL'), ('8', 'CARDINAL'), ('6', 'CARDINAL'), ('one', 'CARDINAL'), ('lymphoma', 'GPE'), ('one', 'CARDINAL'), ('worsen', 'PERSON'), ('one', 'CARDINAL'), ('eight', 'CARDINAL'), ('bladder', 'ORG'), ('5th', 'ORDINAL'), ('correspond', 'PERSON'), ('auscultation', 'ORG'), ('node', 'GPE'), ('node', 'GPE'), ('node', 'GPE')]\n",
            "Shape of entities features: (23, 8)\n",
            "Entities features:\n",
            "[[0. 1. 0. 0. 0. 0. 0. 0.]\n",
            " [0. 0. 0. 1. 0. 0. 0. 0.]\n",
            " [0. 0. 0. 1. 0. 0. 0. 0.]\n",
            " [0. 1. 0. 0. 0. 0. 0. 0.]\n",
            " [0. 0. 0. 0. 0. 0. 0. 1.]\n",
            " [1. 0. 0. 0. 0. 0. 0. 0.]\n",
            " [1. 0. 0. 0. 0. 0. 0. 0.]\n",
            " [1. 0. 0. 0. 0. 0. 0. 0.]\n",
            " [1. 0. 0. 0. 0. 0. 0. 0.]\n",
            " [1. 0. 0. 0. 0. 0. 0. 0.]\n",
            " [1. 0. 0. 0. 0. 0. 0. 0.]\n",
            " [0. 0. 1. 0. 0. 0. 0. 0.]\n",
            " [1. 0. 0. 0. 0. 0. 0. 0.]\n",
            " [0. 0. 0. 0. 0. 0. 1. 0.]\n",
            " [1. 0. 0. 0. 0. 0. 0. 0.]\n",
            " [1. 0. 0. 0. 0. 0. 0. 0.]\n",
            " [0. 0. 0. 0. 0. 1. 0. 0.]\n",
            " [0. 0. 0. 0. 1. 0. 0. 0.]\n",
            " [0. 0. 0. 0. 0. 0. 1. 0.]\n",
            " [0. 0. 0. 0. 0. 1. 0. 0.]\n",
            " [0. 0. 1. 0. 0. 0. 0. 0.]\n",
            " [0. 0. 1. 0. 0. 0. 0. 0.]\n",
            " [0. 0. 1. 0. 0. 0. 0. 0.]]\n"
          ]
        }
      ],
      "source": [
        "import spacy\n",
        "from spacy import displacy\n",
        "from sklearn.preprocessing import OneHotEncoder\n",
        "import numpy as np\n",
        "\n",
        "# Load a model with NER capabilities (e.g., en_core_web_sm for general English)\n",
        "nlp = spacy.load(\"en_core_web_sm\")\n",
        "\n",
        "\n",
        "# Extract entities and their labels for each user input\n",
        "all_entities = []\n",
        "for user_input in medical_transcript:\n",
        "    doc = nlp(user_input)\n",
        "    # Render output using displacy module (dependency visualization)\n",
        "    displacy.render(doc, style=\"dep\")\n",
        "\n",
        "    # Extract entities and their labels\n",
        "    entities = [(entity.text, entity.label_) for entity in doc.ents]\n",
        "    all_entities.extend(entities)\n",
        "\n",
        "# Print all entities\n",
        "print(\"All entities:\", all_entities)\n",
        "\n",
        "# Extract entity types\n",
        "entity_types = [entity[1] for entity in all_entities]\n",
        "\n",
        "# Reshape entity types before using OneHotEncoder\n",
        "entity_types_reshaped = np.array(entity_types).reshape(-1, 1)\n",
        "\n",
        "# Initialize OneHotEncoder\n",
        "encoder = OneHotEncoder(handle_unknown='ignore')\n",
        "\n",
        "# Fit and transform entity types\n",
        "entities_features = encoder.fit_transform(entity_types_reshaped).toarray()\n",
        "\n",
        "# Print the shape and features\n",
        "print(\"Shape of entities features:\", entities_features.shape)\n",
        "print(\"Entities features:\")\n",
        "print(entities_features)\n"
      ]
    },
    {
      "cell_type": "code",
      "execution_count": null,
      "id": "2d636de2",
      "metadata": {
        "id": "2d636de2"
      },
      "outputs": [],
      "source": [
        "import collections\n",
        "from nltk import flatten\n",
        "tokens_df= cancer_data['Geneset'] #drop null values\n",
        "# Get top 30 tokens based upon frequency in whole corpus\n",
        "word_freq_top30 = pd.DataFrame(collections.Counter(flatten(tokens_df.to_list())).most_common(30),columns=['words',\"frequency\"])"
      ]
    },
    {
      "cell_type": "code",
      "execution_count": null,
      "id": "f8129df2",
      "metadata": {
        "id": "f8129df2",
        "colab": {
          "base_uri": "https://localhost:8080/",
          "height": 1000
        },
        "outputId": "208396b1-7adb-4f14-966f-62874fe0f70e"
      },
      "outputs": [
        {
          "output_type": "stream",
          "name": "stderr",
          "text": [
            "<ipython-input-112-c69bb449379e>:7: UserWarning: FixedFormatter should only be used together with FixedLocator\n",
            "  ax.set_xticklabels(ax.get_xticklabels(),rotation=75)\n"
          ]
        },
        {
          "output_type": "execute_result",
          "data": {
            "text/plain": [
              "([0,\n",
              "  1,\n",
              "  2,\n",
              "  3,\n",
              "  4,\n",
              "  5,\n",
              "  6,\n",
              "  7,\n",
              "  8,\n",
              "  9,\n",
              "  10,\n",
              "  11,\n",
              "  12,\n",
              "  13,\n",
              "  14,\n",
              "  15,\n",
              "  16,\n",
              "  17,\n",
              "  18,\n",
              "  19,\n",
              "  20,\n",
              "  21,\n",
              "  22,\n",
              "  23,\n",
              "  24,\n",
              "  25,\n",
              "  26,\n",
              "  27,\n",
              "  28],\n",
              " [Text(0, 0, 'DDR2, FGFR1, NOTCH1'),\n",
              "  Text(1, 0, 'PIK3CA, EGFR, ALK'),\n",
              "  Text(2, 0, 'KRAS, HER2, PIK3CA'),\n",
              "  Text(3, 0, 'CDKN2A, ATM, BCL2'),\n",
              "  Text(4, 0, 'RET, KRAS, EGFR'),\n",
              "  Text(5, 0, 'FGFR2, DDR2, SOX2'),\n",
              "  Text(6, 0, 'ERBB2, BRAF, PIK3CA'),\n",
              "  Text(7, 0, 'TP53, FGFR1, CDKN2A'),\n",
              "  Text(8, 0, 'DDR2, TP53, EGFR'),\n",
              "  Text(9, 0, 'KRAS, RB1, BCL2'),\n",
              "  Text(10, 0, 'SOX2, FGFR1, PIK3CA'),\n",
              "  Text(11, 0, 'ROS1, MET, ALK'),\n",
              "  Text(12, 0, 'SMARCA1, BCL2, ATM'),\n",
              "  Text(13, 0, 'KRAS, RET, ERBB2'),\n",
              "  Text(14, 0, 'MET, ROS1, PIK3CA'),\n",
              "  Text(15, 0, 'TP53, CDKN2A, PIK3CA'),\n",
              "  Text(16, 0, 'FGFR1, EGFR, NOTCH1'),\n",
              "  Text(17, 0, 'NOTCH1, SOX2, PTEN'),\n",
              "  Text(18, 0, 'RB1, SMARCA1, BCL2'),\n",
              "  Text(19, 0, 'SMARCA1, RB1, TP53'),\n",
              "  Text(20, 0, 'TP53, FGFR1, SOX2'),\n",
              "  Text(21, 0, 'RET, KRAS, PIK3CA'),\n",
              "  Text(22, 0, 'KIT, BCL2, MYC'),\n",
              "  Text(23, 0, 'ALK, ERBB2, ROS1'),\n",
              "  Text(24, 0, 'PIK3CA, SOX2, NOTCH1'),\n",
              "  Text(25, 0, 'BCL2, MYC, TP53'),\n",
              "  Text(26, 0, 'MET, HER2, KRAS'),\n",
              "  Text(27, 0, 'NOTCH1, CDKN2A, SOX2'),\n",
              "  Text(28, 0, 'RB1, KRAS, BCL2')])"
            ]
          },
          "metadata": {},
          "execution_count": 112
        },
        {
          "output_type": "display_data",
          "data": {
            "text/plain": [
              "<Figure size 2000x1100 with 1 Axes>"
            ],
            "image/png": "[encoded data removed]"
          },
          "metadata": {}
        }
      ],
      "source": [
        "##Plot bar graph of words wrt frequency\n",
        "import seaborn as sns\n",
        "import matplotlib.pyplot as plt\n",
        "sns.set(style=\"whitegrid\")\n",
        "sns.set(rc={'figure.figsize':(20,11)})\n",
        "ax = sns.barplot(x=word_freq_top30['words'][1:], y=word_freq_top30['frequency'])\n",
        "ax.set_xticklabels(ax.get_xticklabels(),rotation=75)\n",
        "plt.xticks(rotation=45)"
      ]
    },
    {
      "cell_type": "code",
      "execution_count": null,
      "id": "6f672fc9",
      "metadata": {
        "scrolled": true,
        "id": "6f672fc9",
        "colab": {
          "base_uri": "https://localhost:8080/"
        },
        "outputId": "d7634fde-bfb4-4238-a2be-a0ea01153361"
      },
      "outputs": [
        {
          "output_type": "stream",
          "name": "stdout",
          "text": [
            "(None, 1, 1)\n",
            "(1, 512, 768)\n"
          ]
        }
      ],
      "source": [
        "# Combine the outputs from DNN and BioBERT\n",
        "from tensorflow.keras.layers import Concatenate\n",
        "from tensorflow.keras.layers import Reshape\n",
        "\n",
        "# Reshape model.output to have the same dimensions as word_embeddings\n",
        "reshaped_dnn_output = Reshape((1, 1))(model.output)\n",
        "print(reshaped_dnn_output.shape)\n",
        "print(word_embeddings.shape)"
      ]
    },
    {
      "cell_type": "code",
      "execution_count": null,
      "id": "059e72d3",
      "metadata": {
        "id": "059e72d3",
        "colab": {
          "base_uri": "https://localhost:8080/",
          "height": 550
        },
        "outputId": "9783abb7-c2be-4f2b-fca2-ef924a5163d2"
      },
      "outputs": [
        {
          "output_type": "stream",
          "name": "stdout",
          "text": [
            "(None, 512, 1)\n",
            "(None, 512, 1)\n",
            "(1, 512, 769)\n",
            "Model: \"sequential_4\"\n",
            "_________________________________________________________________\n",
            " Layer (type)                Output Shape              Param #   \n",
            "=================================================================\n",
            " dense_10 (Dense)            (None, 512, 64)           49280     \n",
            "                                                                 \n",
            " dense_11 (Dense)            (None, 512, 1)            65        \n",
            "                                                                 \n",
            "=================================================================\n",
            "Total params: 49345 (192.75 KB)\n",
            "Trainable params: 49345 (192.75 KB)\n",
            "Non-trainable params: 0 (0.00 Byte)\n",
            "_________________________________________________________________\n"
          ]
        },
        {
          "output_type": "execute_result",
          "data": {
            "image/png": "[encoded data removed]",
            "text/plain": [
              "<IPython.core.display.Image object>"
            ]
          },
          "metadata": {},
          "execution_count": 125
        }
      ],
      "source": [
        "# Combine the outputs from DNN and BioBERT\n",
        "from tensorflow.keras.layers import Concatenate, RepeatVector, Input, Reshape\n",
        "from tensorflow.keras.utils import plot_model\n",
        "\n",
        "input_shape = (10, 769)  # Adjust the size based on your actual input shapes\n",
        "\n",
        "# Create an Input layer with the specified input shape\n",
        "input_layer = Input(shape=input_shape)\n",
        "\n",
        "# Repeat the vector to match the word_embeddings shape\n",
        "reshaped_dnn_output = RepeatVector(512)(model.output)\n",
        "print(reshaped_dnn_output.shape)  # Output: (None, 512, 1)\n",
        "\n",
        "# Reshape to desired output\n",
        "reshaped_dnn_output = Reshape((512, 1))(reshaped_dnn_output)\n",
        "print(reshaped_dnn_output.shape)  # Output: (None, 512, 1)\n",
        "\n",
        "# Now both reshaped_dnn_output and word_embeddings have compatible shapes\n",
        "combined_features = Concatenate(axis=-1)([reshaped_dnn_output, word_embeddings])\n",
        "print(combined_features.shape)\n",
        "\n",
        "# Add a dense layer for further processing or prediction\n",
        "combined_model = Sequential()\n",
        "combined_model.add(Dense(64, activation='relu', input_shape=(512, 769)))  # Adjust input shape based on the combined_features.shape\n",
        "combined_model.add(Dense(1, activation='linear'))  # Adjust activation based on the task (regression)\n",
        "\n",
        "# Compile the combined model\n",
        "combined_model.compile(optimizer='adam', loss='mean_squared_error', metrics=['mse'])\n",
        "\n",
        "# Display the combined model summary\n",
        "combined_model.summary()\n",
        "plot_model(combined_model)\n"
      ]
    },
    {
      "cell_type": "code",
      "execution_count": null,
      "id": "b3f56fd7",
      "metadata": {
        "id": "b3f56fd7",
        "colab": {
          "base_uri": "https://localhost:8080/"
        },
        "outputId": "94107617-6ef2-404c-f9ef-22cdaa740c34"
      },
      "outputs": [
        {
          "output_type": "execute_result",
          "data": {
            "text/plain": [
              "TensorShape([1, 512, 769])"
            ]
          },
          "metadata": {},
          "execution_count": 115
        }
      ],
      "source": [
        "combined_features.shape"
      ]
    },
    {
      "cell_type": "code",
      "execution_count": null,
      "id": "f25ebe88",
      "metadata": {
        "id": "f25ebe88",
        "colab": {
          "base_uri": "https://localhost:8080/"
        },
        "outputId": "fd27f094-3d81-4bd3-9f0f-cfcaf38ac03d"
      },
      "outputs": [
        {
          "output_type": "stream",
          "name": "stdout",
          "text": [
            "<class 'keras.src.engine.keras_tensor.KerasTensor'>\n"
          ]
        }
      ],
      "source": [
        "print(type(combined_features))"
      ]
    },
    {
      "cell_type": "code",
      "execution_count": null,
      "id": "3eeedaf8",
      "metadata": {
        "id": "3eeedaf8",
        "colab": {
          "base_uri": "https://localhost:8080/"
        },
        "outputId": "238535dd-95d4-4fb3-dd29-81f089a26394"
      },
      "outputs": [
        {
          "output_type": "stream",
          "name": "stdout",
          "text": [
            "2.15.0\n"
          ]
        }
      ],
      "source": [
        "import tensorflow as tf\n",
        "print(tf.__version__)\n"
      ]
    },
    {
      "cell_type": "code",
      "execution_count": null,
      "id": "da7f66e8",
      "metadata": {
        "id": "da7f66e8",
        "colab": {
          "base_uri": "https://localhost:8080/"
        },
        "outputId": "e086a8e4-0b63-41d7-9741-cb6612a5f7a5"
      },
      "outputs": [
        {
          "output_type": "execute_result",
          "data": {
            "text/plain": [
              "Index(['Patient ID', 'Age', 'Gender', 'Smoking History', 'Family History',\n",
              "       'Diagnosis Date', 'Cancer Stage', 'Histology Type', 'Tumor Size',\n",
              "       'Metastasis', 'Treatment Type', 'Geneset', 'Genetic Mutations',\n",
              "       'Blood Markers', 'IHC Results', 'Radiation Therapy Details',\n",
              "       'Chemotherapy Regimen', 'Clinical Trial Participation', 'Comorbidities',\n",
              "       'ECOG Performance Status', 'Symptom 1', 'Symptom 2', 'Symptom 3',\n",
              "       'Response to Treatment', 'DFS (months)', 'OS (months)',\n",
              "       'Adverse Events', 'HRQoL Assessment', 'Follow-up Appointments',\n",
              "       'Patient-reported Outcomes', 'Symptom1', 'symptoms',\n",
              "       'normalized_symptoms'],\n",
              "      dtype='object')"
            ]
          },
          "metadata": {},
          "execution_count": 118
        }
      ],
      "source": [
        "cancer_data.columns"
      ]
    },
    {
      "cell_type": "code",
      "source": [
        "import spacy\n",
        "from spacy import displacy\n",
        "from sklearn.preprocessing import OneHotEncoder\n",
        "import numpy as np\n",
        "\n",
        "# Load a model with NER capabilities (e.g., en_core_web_sm for general English)\n",
        "nlp = spacy.load(\"en_core_web_sm\")\n",
        "\n",
        "# List of user inputs (assuming you have it defined somewhere)\n",
        "user_inputs = [\"Your first user input\", \"Your second user input\"]\n",
        "\n",
        "# Extract entities and their labels for each user input\n",
        "gene_feature = []\n",
        "genetic_feature=[]\n",
        "histology_feature=[]\n",
        "cancer_stage_feature=[]\n",
        "metasis_feature=[]\n",
        "\n",
        "for user_input in cancer_data['Geneset']:\n",
        "  doc = nlp(user_input)\n",
        "  # Render output using displacy module (dependency visualization)\n",
        "  displacy.render(doc, style=\"dep\")\n",
        "  # Extract entities and their labels\n",
        "  entities = [(entity.text, entity.label_) for entity in doc.ents]\n",
        "  gene_feature.extend(entities)\n",
        "\n",
        "# Print all entities\n",
        "print(\"All entities:\", gene_feature)\n",
        "\n",
        "# Extract entity types\n",
        "gene_feature_type = [entity[1] for entity in gene_feature]\n",
        "\n",
        "# Reshape entity types before using OneHotEncoder\n",
        "gene_feature_type_reshaped = np.array(gene_feature_type).reshape(-1, 1)\n",
        "\n",
        "# Initialize OneHotEncoder\n",
        "encoder = OneHotEncoder(handle_unknown='ignore')\n",
        "\n",
        "# Fit and transform entity types\n",
        "gene_features = encoder.fit_transform(gene_feature_type_reshaped).toarray()\n",
        "\n",
        "# Print the shape and features\n",
        "print(\"Shape of entities features:\", gene_features.shape)\n",
        "print(\"Entities features:\")\n",
        "print(gene_features)\n",
        "\n",
        "for user_input in cancer_data['Genetic Mutations']:\n",
        "  doc = nlp(user_input)\n",
        "  # Render output using displacy module (dependency visualization)\n",
        "  displacy.render(doc, style=\"dep\")\n",
        "  # Extract entities and their labels\n",
        "  entities = [(entity.text, entity.label_) for entity in doc.ents]\n",
        "  genetic_feature.extend(entities)\n",
        "\n",
        "# Print all entities\n",
        "print(\"All entities:\", genetic_feature)\n",
        "\n",
        "# Extract entity types\n",
        "genetic_feature_type = [entity[1] for entity in gene_feature]\n",
        "\n",
        "# Reshape entity types before using OneHotEncoder\n",
        "genetic_feature_type_reshaped = np.array(genetic_feature_type).reshape(-1, 1)\n",
        "\n",
        "# Initialize OneHotEncoder\n",
        "encoder = OneHotEncoder(handle_unknown='ignore')\n",
        "\n",
        "# Fit and transform entity types\n",
        "genetic_features = encoder.fit_transform(genetic_feature_type_reshaped).toarray()\n",
        "\n",
        "# Print the shape and features\n",
        "print(\"Shape of entities features:\", genetic_features.shape)\n",
        "print(\"Entities features:\")\n",
        "print(genetic_features)\n",
        "\n",
        "for user_input in cancer_data['Histology Type']:\n",
        "  doc = nlp(user_input)\n",
        "  # Render output using displacy module (dependency visualization)\n",
        "  displacy.render(doc, style=\"dep\")\n",
        "  # Extract entities and their labels\n",
        "  entities = [(entity.text, entity.label_) for entity in doc.ents]\n",
        "  histology_feature.extend(entities)\n",
        "\n",
        "# Print all entities\n",
        "print(\"All entities:\", histology_feature)\n",
        "\n",
        "# Extract entity types\n",
        "histology_feature_type = [entity[1] for entity in gene_feature]\n",
        "\n",
        "# Reshape entity types before using OneHotEncoder\n",
        "histology_feature_type_reshaped = np.array(histology_feature_type).reshape(-1, 1)\n",
        "\n",
        "# Initialize OneHotEncoder\n",
        "encoder = OneHotEncoder(handle_unknown='ignore')\n",
        "\n",
        "# Fit and transform entity types\n",
        "histology_feature = encoder.fit_transform(histology_feature_type_reshaped).toarray()\n",
        "\n",
        "# Print the shape and features\n",
        "print(\"Shape of entities features:\", histology_feature.shape)\n",
        "print(\"Entities features:\")\n",
        "print(histology_feature)\n",
        "\n",
        "for user_input in cancer_data['Cancer Stage']:\n",
        "  doc = nlp(user_input)\n",
        "  # Render output using displacy module (dependency visualization)\n",
        "  displacy.render(doc, style=\"dep\")\n",
        "  # Extract entities and their labels\n",
        "  entities = [(entity.text, entity.label_) for entity in doc.ents]\n",
        "  cancer_stage_feature.extend(entities)\n",
        "\n",
        "# Print all entities\n",
        "print(\"All entities:\", cancer_stage_feature)\n",
        "\n",
        "# Extract entity types\n",
        "cancer_stage_feature_type = [entity[1] for entity in cancer_stage_feature]\n",
        "\n",
        "# Reshape entity types before using OneHotEncoder\n",
        "cancer_stage_feature_type_reshaped = np.array(cancer_stage_feature_type).reshape(-1, 1)\n",
        "\n",
        "# Initialize OneHotEncoder\n",
        "encoder = OneHotEncoder(handle_unknown='ignore')\n",
        "\n",
        "# Fit and transform entity types\n",
        "cancer_stage_features = encoder.fit_transform(cancer_stage_feature_type_reshaped).toarray()\n",
        "\n",
        "# Print the shape and features\n",
        "print(\"Shape of entities features:\", cancer_stage_features.shape)\n",
        "print(\"Entities features:\")\n",
        "print(cancer_stage_features)\n",
        "\n",
        "for user_input in cancer_data['Metastasis']:\n",
        "  doc = nlp(user_input)\n",
        "  # Render output using displacy module (dependency visualization)\n",
        "  displacy.render(doc, style=\"dep\")\n",
        "  # Extract entities and their labels\n",
        "  entities = [(entity.text, entity.label_) for entity in doc.ents]\n",
        "  metasis_feature.extend(entities)\n",
        "\n",
        "# Print all entities\n",
        "print(\"All entities:\", metasis_feature)\n",
        "\n",
        "# Extract entity types\n",
        "metasis_feature_type = [entity[1] for entity in cancer_stage_feature]\n",
        "\n",
        "# Reshape entity types before using OneHotEncoder\n",
        "metasis_feature_type_reshaped = np.array(metasis_feature_type).reshape(-1, 1)\n",
        "\n",
        "# Initialize OneHotEncoder\n",
        "encoder = OneHotEncoder(handle_unknown='ignore')\n",
        "\n",
        "# Fit and transform entity types\n",
        "metasis_feature = encoder.fit_transform(metasis_feature_type_reshaped).toarray()\n",
        "\n",
        "# Print the shape and features\n",
        "print(\"Shape of entities features:\", metasis_feature.shape)\n",
        "print(\"Entities features:\")\n",
        "print(metasis_feature)"
      ],
      "metadata": {
        "id": "dOMloJTGPCqA",
        "colab": {
          "base_uri": "https://localhost:8080/"
        },
        "outputId": "32c9af57-3cf6-4c7c-eca4-13bfd5285b27"
      },
      "id": "dOMloJTGPCqA",
      "execution_count": null,
      "outputs": [
        {
          "output_type": "stream",
          "name": "stdout",
          "text": [
            "All entities: [('KRAS', 'ORG'), ('HER2', 'GPE'), ('ATM', 'ORG'), ('RET', 'ORG'), ('KRAS', 'ORG'), ('EGFR', 'PERSON'), ('ERBB2', 'ORG'), ('BRAF', 'ORG'), ('FGFR1', 'ORG'), ('EGFR', 'PERSON'), ('KRAS', 'ORG'), ('FGFR1', 'PRODUCT'), ('ROS1', 'ORDINAL'), ('MET', 'ORG'), ('ALK', 'ORG'), ('SMARCA1', 'ORG'), ('ATM', 'ORG'), ('KRAS', 'ORG'), ('RET', 'ORG'), ('ERBB2', 'PERSON'), ('MET', 'ORG'), ('ROS1', 'GPE'), ('FGFR1', 'ORG'), ('EGFR', 'ORG'), ('NOTCH1', 'PRODUCT'), ('PTEN', 'ORG'), ('ERBB2', 'GPE'), ('SMARCA1', 'PERSON'), ('SMARCA1', 'PERSON'), ('FGFR1', 'ORG'), ('RET', 'ORG'), ('KRAS', 'ORG'), ('KIT', 'ORG'), ('ALK', 'ORG'), ('ERBB2', 'GPE'), ('NOTCH1', 'PRODUCT'), ('MYC', 'ORG'), ('MET', 'ORG'), ('HER2', 'GPE'), ('KRAS', 'PERSON'), ('NOTCH1', 'ORG'), ('KRAS', 'PERSON'), ('PTEN', 'ORG'), ('FGFR1', 'PRODUCT'), ('KIT', 'ORG'), ('ATM', 'ORG'), ('MYC', 'ORG'), ('SMARCA1', 'PERSON'), ('ERBB2', 'GPE'), ('HER2', 'GPE'), ('KRAS', 'PERSON'), ('SMARCA1', 'ORG'), ('KIT', 'ORG'), ('PTEN', 'ORG'), ('MYC', 'ORG'), ('PTEN', 'ORG'), ('FGFR2', 'ORG'), ('NOTCH1', 'ORG'), ('FGFR2, NOTCH1', 'ORG'), ('PTEN', 'ORG'), ('EGFR', 'ORG'), ('NOTCH1', 'PRODUCT'), ('RET', 'ORG'), ('KRAS', 'NORP'), ('PTEN', 'ORG'), ('PTEN', 'ORG'), ('EGFR', 'PERSON'), ('PTEN', 'ORG'), ('KIT', 'ORG'), ('FGFR1', 'ORG'), ('NOTCH1', 'PRODUCT'), ('FGFR2', 'ORG'), ('FGFR1', 'ORG'), ('MET', 'ORG'), ('MET', 'ORG'), ('RET', 'ORG'), ('RET', 'ORG'), ('MET', 'ORG'), ('ATM', 'ORG'), ('PTEN', 'ORG'), ('SMARCA1', 'PERSON'), ('KIT', 'ORG'), ('RET', 'ORG'), ('HER2', 'GPE'), ('BRAF', 'PERSON'), ('FGFR1', 'PRODUCT'), ('FGFR2', 'ORG'), ('KRAS', 'ORG'), ('RET', 'ORG'), ('ERBB2', 'GPE'), ('RET', 'ORG'), ('ROS1', 'GPE'), ('HER2', 'GPE'), ('NOTCH1', 'ORG'), ('FGFR1', 'ORG'), ('FGFR1', 'ORG'), ('EGFR', 'PERSON'), ('PTEN', 'ORG'), ('ROS1', 'GPE'), ('RET', 'ORG'), ('KIT', 'ORG'), ('SMARCA1', 'PERSON'), ('ATM', 'ORG'), ('PTEN', 'ORG'), ('SMARCA1', 'PERSON'), ('SMARCA1', 'PERSON'), ('KRAS', 'ORG'), ('ALK', 'ORG'), ('ATM', 'ORG'), ('SMARCA1', 'PERSON'), ('FGFR2', 'ORG'), ('BRAF', 'ORG'), ('HER2', 'GPE'), ('MET', 'ORG'), ('KRAS', 'ORG'), ('PTEN', 'ORG'), ('BRAF', 'ORG'), ('KRAS', 'ORG'), ('ERBB2', 'PERSON'), ('SMARCA1', 'ORG'), ('CDKN2A', 'ORG'), ('KIT', 'ORG'), ('HER2', 'GPE'), ('PIK3CA', 'ORG'), ('MET', 'ORG'), ('KIT', 'ORG'), ('SMARCA1', 'PERSON'), ('EGFR', 'ORG'), ('FGFR2', 'ORG'), ('FGFR1', 'ORG'), ('FGFR1', 'ORG'), ('EGFR', 'PERSON'), ('MET', 'ORG'), ('RET', 'ORG'), ('ERBB2', 'PERSON'), ('KIT', 'ORG'), ('KRAS', 'PERSON'), ('HER2', 'GPE'), ('RET', 'ORG'), ('EGFR', 'ORG'), ('SMARCA1', 'PERSON'), ('ROS1', 'NORP'), ('KRAS', 'ORG'), ('BRAF', 'PERSON'), ('FGFR1', 'PRODUCT'), ('FGFR2', 'ORG'), ('NOTCH1', 'PRODUCT'), ('PTEN', 'ORG'), ('RB1', 'PRODUCT'), ('SMARCA1', 'PERSON'), ('KIT', 'ORG'), ('SMARCA1', 'PERSON'), ('KIT', 'ORG'), ('SMARCA1', 'PERSON'), ('PTEN', 'ORG'), ('MYC', 'ORG'), ('KRAS', 'PERSON'), ('ATM', 'ORG'), ('MET', 'ORG'), ('BRAF', 'PERSON'), ('HER2', 'PERSON'), ('EGFR', 'PERSON'), ('ALK', 'ORG'), ('BRAF', 'ORG'), ('ROS1', 'GPE'), ('PTEN', 'ORG'), ('NOTCH1', 'PRODUCT'), ('EGFR', 'ORG'), ('PTEN', 'ORG'), ('KRAS', 'ORG'), ('KIT', 'ORG'), ('HER2', 'GPE'), ('RET', 'ORG'), ('EGFR', 'ORG'), ('NOTCH1', 'ORG'), ('ERBB2', 'GPE'), ('HER2', 'GPE'), ('MET', 'ORG'), ('SMARCA1', 'PERSON'), ('PTEN', 'ORG'), ('PIK3CA', 'ORG'), ('FGFR2', 'ORG'), ('KRAS', 'ORG'), ('KRAS', 'ORG'), ('MYC', 'ORG'), ('KIT', 'ORG'), ('ATM', 'ORG'), ('PTEN', 'ORG'), ('ATM', 'ORG'), ('SMARCA1', 'PERSON'), ('FGFR2', 'ORG'), ('PIK3CA', 'ORG'), ('BRAF', 'PERSON'), ('EGFR', 'ORG'), ('FGFR2', 'ORG'), ('HER2', 'GPE'), ('ERBB2', 'GPE'), ('ATM', 'ORG'), ('NOTCH1', 'ORG'), ('ALK', 'ORG'), ('KRAS', 'ORG'), ('ERBB2', 'PERSON'), ('PTEN', 'ORG'), ('KIT', 'ORG'), ('RET', 'ORG'), ('ROS1', 'GPE'), ('BRAF', 'ORG'), ('KIT', 'ORG'), ('FGFR1', 'PRODUCT'), ('EGFR', 'ORG'), ('NOTCH1', 'ORG'), ('FGFR2', 'ORG'), ('FGFR1', 'ORG'), ('KRAS', 'PERSON'), ('HER2', 'GPE'), ('ERBB2', 'PERSON'), ('BRAF', 'ORG'), ('KRAS', 'ORG'), ('SMARCA1', 'PERSON'), ('PTEN', 'ORG'), ('KRAS', 'ORG'), ('ATM', 'ORG'), ('KRAS', 'PERSON'), ('KIT', 'ORG'), ('KRAS', 'PERSON'), ('FGFR1', 'PRODUCT'), ('PTEN', 'ORG'), ('KRAS', 'ORG'), ('KIT', 'ORG'), ('EGFR', 'ORG'), ('PIK3CA', 'ORG'), ('FGFR2', 'ORG'), ('RET', 'ORG'), ('KRAS', 'NORP'), ('SMARCA1', 'PERSON'), ('SMARCA1', 'PERSON'), ('MET', 'ORG'), ('ERBB2', 'PERSON'), ('MYC', 'ORG'), ('KRAS', 'ORG'), ('MYC', 'ORG'), ('KIT', 'ORG'), ('MYC', 'ORG'), ('SMARCA1', 'PERSON'), ('EGFR', 'ORG'), ('FGFR2', 'ORG'), ('EGFR', 'PERSON'), ('EGFR', 'PERSON'), ('ALK', 'ORG'), ('PTEN', 'ORG'), ('ATM', 'ORG'), ('KRAS', 'PERSON'), ('FGFR1', 'ORG'), ('MYC', 'ORG'), ('SMARCA1', 'PERSON'), ('ALK', 'ORG'), ('KRAS', 'PERSON'), ('KRAS', 'ORG'), ('RET', 'ORG'), ('PTEN', 'ORG'), ('SMARCA1', 'PERSON'), ('PIK3CA', 'GPE'), ('ROS1', 'GPE'), ('KRAS', 'ORG'), ('PTEN', 'ORG'), ('ATM', 'ORG'), ('ATM', 'ORG'), ('PTEN', 'ORG'), ('FGFR1', 'PRODUCT'), ('FGFR1', 'ORG'), ('NOTCH1', 'PRODUCT'), ('HER2', 'ORG'), ('ALK', 'ORG'), ('MET', 'ORG'), ('FGFR2', 'ORG'), ('NOTCH1', 'PRODUCT'), ('NOTCH1', 'ORG'), ('FGFR1', 'ORG'), ('RET', 'ORG'), ('KRAS', 'ORG'), ('MET', 'ORG'), ('BRAF', 'ORG'), ('ERBB2', 'GPE'), ('FGFR1', 'ORG'), ('NOTCH1', 'PRODUCT')]\n",
            "Shape of entities features: (285, 6)\n",
            "Entities features:\n",
            "[[0. 0. 0. 1. 0. 0.]\n",
            " [1. 0. 0. 0. 0. 0.]\n",
            " [0. 0. 0. 1. 0. 0.]\n",
            " ...\n",
            " [1. 0. 0. 0. 0. 0.]\n",
            " [0. 0. 0. 1. 0. 0.]\n",
            " [0. 0. 0. 0. 0. 1.]]\n",
            "All entities: [('KRAS G12V', 'PERSON'), ('HER2 HER2 Amplification', 'ORG'), ('CDKN2A', 'CARDINAL'), ('ATM ATM Mutation', 'ORG'), ('RET RET Fusion', 'ORG'), ('KRAS G12V', 'PERSON'), ('EGFR', 'ORG'), ('T790M', 'PRODUCT'), ('FGFR2 FGFR2 Amplification', 'ORG'), ('ERBB2 HER2 Amplification', 'ORG'), ('Various Mutations', 'PERSON'), ('FGFR1 FGFR1 Amplification', 'LAW'), ('DDR2 Mutation', 'ORG'), ('Various Mutations', 'PERSON'), ('EGFR Exon', 'PERSON'), ('19', 'CARDINAL'), ('KRAS KRAS Mutation', 'PERSON'), ('RB1 RB1 Mutation', 'PERSON'), ('SOX2 SOX2 Amplification', 'EVENT'), ('FGFR1 FGFR1 Amplification', 'ORG'), ('ROS1 ROS1 Fusion', 'ORG'), ('MET MET Amplification', 'ORG'), ('ALK', 'ORG'), ('SMARCA1', 'PERSON'), ('SMARCA1 Mutation', 'PERSON'), ('ATM', 'ORG'), ('ATM', 'ORG'), ('KRAS G12V', 'PERSON'), ('RET RET Fusion', 'ORG'), ('ERBB2', 'PERSON'), ('MET MET Amplification', 'ORG'), ('ROS1 ROS1 Fusion', 'ORG'), ('Various Mutations', 'PERSON'), ('FGFR1 FGFR1 Amplification', 'ORG'), ('NOTCH1 NOTCH1 Mutation', 'ORG'), ('ROS1 ROS1 Fusion', 'ORG'), ('ERBB2', 'GPE'), ('SMARCA1', 'ORG'), ('SMARCA1 Mutation', 'PERSON'), ('SMARCA1', 'PERSON'), ('SMARCA1 Mutation', 'PERSON'), ('RB1 RB1 Mutation', 'PERSON'), ('Various Mutations', 'PERSON'), ('Various Mutations', 'PERSON'), ('FGFR1 FGFR1 Amplification', 'LAW'), ('RET RET Fusion', 'ORG'), ('KRAS G12V', 'PERSON'), ('KIT KIT Mutation', 'ORG'), ('ALK', 'ORG'), ('ERBB2', 'PERSON'), ('ROS1 ROS1 Fusion', 'ORG'), ('MYC MYC Amplification', 'ORG'), ('Various Mutations', 'PERSON'), ('MET MET Amplification', 'ORG'), ('HER2 HER2 Amplification', 'PERSON'), ('KRAS G12V', 'PERSON'), ('NOTCH1 NOTCH1 Mutation', 'ORG'), ('KRAS KRAS Mutation', 'ORG'), ('SOX2 SOX2 Amplification', 'EVENT'), ('FGFR1 FGFR1 Amplification', 'ORG'), ('KIT KIT Mutation', 'ORG'), ('ATM', 'ORG'), ('ATM', 'ORG'), ('MYC MYC Amplification', 'ORG'), ('SMARCA1 SMARCA1 Mutation', 'PERSON'), ('ERBB2 HER2 Amplification', 'ORG'), ('HER2 HER2 Amplification', 'PERSON'), ('KRAS G12V', 'PERSON'), ('SMARCA1', 'PERSON'), ('SMARCA1 Mutation', 'PERSON'), ('KIT KIT Mutation', 'ORG'), ('MYC MYC Amplification', 'ORG'), ('FGFR2 FGFR2 Amplification', 'ORG'), ('NOTCH1 NOTCH1 Mutation', 'ORG'), ('Various Mutations', 'PERSON'), ('FGFR2 FGFR2 Amplification', 'ORG'), ('NOTCH1 NOTCH1 Mutation', 'ORG'), ('EGFR Exon', 'PERSON'), ('19', 'CARDINAL'), ('RET RET Fusion', 'ORG'), ('KRAS G12V', 'PRODUCT'), ('PTEN PTEN Loss', 'ORG'), ('19', 'CARDINAL'), ('PTEN PTEN Loss', 'ORG'), ('KIT KIT Mutation', 'ORG'), ('DDR2 Mutation', 'ORG'), ('FGFR1 FGFR1 Amplification', 'ORG'), ('FGFR2 FGFR2 Amplification', 'ORG'), ('FGFR1 FGFR1 Amplification', 'ORG'), ('MET MET Amplification', 'ORG'), ('ROS1 ROS1 Fusion', 'ORG'), ('MET MET Amplification', 'ORG'), ('RET RET Fusion', 'ORG'), ('RET RET Fusion', 'ORG'), ('MET', 'ORG'), ('NOTCH1 NOTCH1 Mutation', 'ORG'), ('Various Mutations', 'PERSON'), ('ATM', 'ORG'), ('CDKN2A', 'CARDINAL'), ('SMARCA1', 'ORG'), ('SMARCA1 Mutation', 'PERSON'), ('KIT KIT Mutation', 'ORG'), ('RET RET Fusion', 'ORG'), ('DDR2 Mutation', 'ORG'), ('Various Mutations', 'PERSON'), ('DDR2 DDR2 Mutation', 'ORG'), ('FGFR2 FGFR2 Amplification', 'ORG'), ('KRAS G12V', 'PERSON'), ('RET RET Fusion', 'ORG'), ('ROS1 ROS1 Fusion', 'ORG'), ('ERBB2', 'GPE'), ('RET RET Fusion', 'ORG'), ('NOTCH1 NOTCH1 Mutation', 'ORG'), ('FGFR1 FGFR1 Amplification', 'ORG'), ('FGFR1 FGFR1 Amplification', 'ORG'), ('EGFR Exon', 'ORG'), ('19', 'CARDINAL'), ('ROS1 ROS1 Fusion', 'ORG'), ('RET RET Fusion', 'ORG'), ('CDKN2A', 'CARDINAL'), ('KIT KIT Mutation', 'ORG'), ('SMARCA1', 'ORG'), ('SMARCA1 Mutation', 'PERSON'), ('ATM', 'ORG'), ('SMARCA1 SMARCA1 Mutation', 'PERSON'), ('CDKN2A', 'CARDINAL'), ('Various Mutations', 'PERSON'), ('SMARCA1', 'PERSON'), ('KRAS G12V', 'PERSON'), ('ALK', 'ORG'), ('ATM', 'ORG'), ('ATM Mutation', 'ORG'), ('SMARCA1', 'ORG'), ('SMARCA1 Mutation', 'PERSON'), ('MYC MYC Amplification', 'ORG'), ('DDR2 Mutation', 'ORG'), ('FGFR2 FGFR2 Amplification', 'ORG'), ('HER2 HER2 Amplification', 'PERSON'), ('MET', 'ORG'), ('KRAS KRAS Mutation', 'PERSON'), ('D594G', 'PRODUCT'), ('KRAS G12V', 'PERSON'), ('ERBB2 HER2 Amplification', 'ORG'), ('SMARCA1', 'PERSON'), ('SMARCA1 Mutation', 'PERSON'), ('KIT KIT Mutation', 'ORG'), ('HER2 HER2 Amplification', 'PERSON'), ('MET', 'ORG'), ('KIT KIT Mutation', 'ORG'), ('SMARCA1', 'ORG'), ('SMARCA1 Mutation', 'PERSON'), ('EGFR Exon 19 Deletion', 'ORG'), ('FGFR2 FGFR2 Amplification', 'ORG'), ('FGFR1 FGFR1 Amplification', 'ORG'), ('FGFR1 FGFR1 Amplification', 'ORG'), ('Various Mutations', 'PERSON'), ('NOTCH1 NOTCH1 Mutation', 'ORG'), ('19', 'CARDINAL'), ('MET MET Amplification', 'ORG'), ('RET RET Fusion', 'ORG'), ('ERBB2', 'PERSON'), ('Various Mutations', 'PERSON'), ('KIT KIT Mutation', 'ORG'), ('KRAS KRAS Mutation', 'ORG'), ('HER2 HER2 Amplification', 'PERSON'), ('RET RET Fusion', 'ORG'), ('EGFR', 'ORG'), ('SMARCA1 SMARCA1 Mutation', 'PERSON'), ('MYC MYC Amplification', 'ORG'), ('ROS1 ROS1 Fusion', 'ORG'), ('KRAS G12V', 'PERSON'), ('D594', 'PRODUCT'), ('Various Mutations', 'PERSON'), ('FGFR1 FGFR1 Amplification', 'ORG'), ('CDKN2A', 'CARDINAL'), ('Various Mutations', 'PERSON'), ('CDKN2A', 'CARDINAL'), ('FGFR2 FGFR2 Amplification', 'ORG'), ('PTEN PTEN Loss', 'ORG'), ('SMARCA1', 'ORG'), ('SMARCA1 Mutation', 'PERSON'), ('KIT KIT Mutation', 'ORG'), ('SMARCA1 SMARCA1 Mutation', 'PERSON'), ('KIT KIT Mutation', 'ORG'), ('SMARCA1 SMARCA1 Mutation', 'PERSON'), ('Various Mutations', 'PERSON'), ('MYC MYC Amplification', 'ORG'), ('Various Mutations', 'PERSON'), ('ATM ATM Mutation', 'ORG'), ('MET MET Amplification', 'ORG'), ('T790M', 'PRODUCT'), ('ALK', 'ORG'), ('EGFR Exon 19 Deletion', 'ORG'), ('Various Mutations', 'PERSON'), ('KRAS KRAS Mutation', 'PERSON'), ('KIT KIT Mutation', 'ORG'), ('HER2 HER2 Amplification', 'PERSON'), ('RET RET Fusion', 'ORG'), ('EGFR Exon 19 Deletion', 'ORG'), ('NOTCH1 NOTCH1 Mutation', 'ORG'), ('Various Mutations', 'PERSON'), ('ERBB2 HER2 Amplification', 'ORG'), ('HER2 HER2 Amplification', 'PERSON'), ('MET', 'ORG'), ('Various Mutations', 'PERSON'), ('SMARCA1', 'PERSON'), ('SMARCA1 Mutation', 'PERSON'), ('FGFR2 FGFR2 Amplification', 'ORG'), ('CDKN2A', 'CARDINAL'), ('KRAS KRAS Mutation', 'ORG'), ('Various Mutations', 'PERSON'), ('KRAS KRAS Mutation', 'ORG'), ('MYC MYC Amplification', 'ORG'), ('MYC MYC Amplification', 'ORG'), ('KIT KIT Mutation', 'ORG'), ('ATM', 'ORG'), ('ATM', 'ORG'), ('PTEN PTEN Loss', 'ORG'), ('ATM', 'ORG'), ('SMARCA1', 'ORG'), ('SMARCA1 Mutation', 'PERSON'), ('DDR2 Mutation', 'ORG'), ('FGFR2 FGFR2 Amplification', 'ORG'), ('DDR2 Mutation', 'ORG'), ('ROS1 ROS1 Fusion', 'ORG'), ('EGFR Exon 19 Deletion', 'ORG'), ('FGFR2 FGFR2 Amplification', 'ORG'), ('HER2 HER2 Amplification', 'PERSON'), ('ERBB2', 'PERSON'), ('ATM ATM Mutation', 'ORG'), ('Various Mutations', 'PERSON'), ('SOX2 SOX2 Amplification', 'EVENT'), ('NOTCH1 NOTCH1 Mutation', 'ORG'), ('ALK', 'ORG'), ('ALK Fusion', 'ORG'), ('KRAS G12V', 'PERSON'), ('ERBB2 HER2 Amplification', 'ORG'), ('KIT KIT Mutation', 'ORG'), ('Various Mutations', 'PERSON'), ('RET RET Fusion', 'ORG'), ('CDKN2A', 'CARDINAL'), ('Various Mutations', 'PERSON'), ('KIT KIT Mutation', 'ORG'), ('FGFR1 FGFR1 Amplification', 'ORG'), ('EGFR Exon', 'ORG'), ('19', 'CARDINAL'), ('FGFR2 FGFR2 Amplification', 'ORG'), ('FGFR1 FGFR1 Amplification', 'ORG'), ('KRAS KRAS Mutation', 'PERSON'), ('HER2 HER2 Amplification', 'PERSON'), ('ERBB2', 'PERSON'), ('KRAS KRAS Mutation', 'PERSON'), ('SMARCA1 SMARCA1 Mutation', 'PERSON'), ('MYC MYC Amplification', 'ORG'), ('KRAS KRAS Mutation', 'PERSON'), ('Various Mutations', 'PERSON'), ('ATM ATM Mutation', 'ORG'), ('KRAS KRAS Mutation', 'ORG'), ('KIT KIT Mutation', 'ORG'), ('KRAS KRAS Mutation', 'ORG'), ('FGFR1 FGFR1 Amplification', 'ORG'), ('Various Mutations', 'PERSON'), ('KRAS KRAS Mutation', 'PERSON'), ('KIT KIT Mutation', 'ORG'), ('MYC MYC Amplification', 'ORG'), ('Various Mutations', 'PERSON'), ('EGFR Exon 19 Deletion', 'ORG'), ('FGFR2 FGFR2 Amplification', 'ORG'), ('ROS1 ROS1 Fusion', 'ORG'), ('RET RET Fusion', 'ORG'), ('KRAS G12V', 'PRODUCT'), ('MYC MYC Amplification', 'ORG'), ('Various Mutations', 'PERSON'), ('SMARCA1', 'PERSON'), ('Various Mutations', 'PERSON'), ('SMARCA1', 'ORG'), ('SMARCA1 Mutation', 'PERSON'), ('MET MET Amplification', 'ORG'), ('ERBB2', 'PERSON'), ('Various Mutations', 'PERSON'), ('KRAS KRAS Mutation', 'PERSON'), ('MYC MYC Amplification', 'ORG'), ('KIT KIT Mutation', 'ORG'), ('MYC MYC Amplification', 'ORG'), ('SMARCA1 SMARCA1 Mutation', 'PERSON'), ('FGFR2 FGFR2 Amplification', 'ORG'), ('EGFR Exon 19 Deletion', 'ORG'), ('FGFR2 FGFR2 Amplification', 'ORG'), ('EGFR Exon 19 Deletion', 'ORG'), ('T790M', 'PRODUCT'), ('ALK', 'ORG'), ('PTEN PTEN Loss', 'ORG'), ('ATM', 'ORG'), ('KRAS KRAS Mutation', 'ORG'), ('FGFR1 FGFR1 Amplification', 'ORG'), ('Various Mutations', 'PERSON'), ('MYC MYC Amplification', 'ORG'), ('SMARCA1 SMARCA1 Mutation', 'PERSON'), ('SOX2 SOX2 Amplification', 'EVENT'), ('ALK', 'ORG'), ('ALK Fusion', 'ORG'), ('KRAS G12V', 'PERSON'), ('KRAS G12V', 'PERSON'), ('RET RET Fusion', 'ORG'), ('SMARCA1 SMARCA1 Mutation', 'PERSON'), ('E545', 'CARDINAL'), ('KRAS G12V', 'PERSON'), ('ATM', 'ORG'), ('ATM', 'ORG'), ('MYC MYC Amplification', 'ORG'), ('Various Mutations', 'PERSON'), ('Various Mutations', 'PERSON'), ('ATM ATM Mutation', 'ORG'), ('CDKN2A', 'CARDINAL'), ('FGFR1 FGFR1 Amplification', 'ORG'), ('SOX2 SOX2 Amplification', 'EVENT'), ('FGFR1 FGFR1 Amplification', 'ORG'), ('HER2 HER2 Amplification', 'PERSON'), ('ALK', 'ORG'), ('ALK Fusion', 'ORG'), ('MET', 'ORG'), ('DDR2 Mutation', 'ORG'), ('FGFR2 FGFR2 Amplification', 'ORG'), ('CDKN2A', 'CARDINAL'), ('NOTCH1 NOTCH1 Mutation', 'ORG'), ('FGFR1 FGFR1 Amplification', 'ORG'), ('RET RET Fusion', 'ORG'), ('KRAS G12V', 'PERSON'), ('MET MET Amplification', 'ORG'), ('D594G', 'PRODUCT'), ('ERBB2', 'PERSON'), ('DDR2 Mutation', 'ORG'), ('FGFR1 FGFR1 Amplification', 'ORG')]\n",
            "Shape of entities features: (285, 6)\n",
            "Entities features:\n",
            "[[0. 0. 0. 1. 0. 0.]\n",
            " [1. 0. 0. 0. 0. 0.]\n",
            " [0. 0. 0. 1. 0. 0.]\n",
            " ...\n",
            " [1. 0. 0. 0. 0. 0.]\n",
            " [0. 0. 0. 1. 0. 0.]\n",
            " [0. 0. 0. 0. 0. 1.]]\n",
            "All entities: []\n",
            "Shape of entities features: (285, 6)\n",
            "Entities features:\n",
            "[[0. 0. 0. 1. 0. 0.]\n",
            " [1. 0. 0. 0. 0. 0.]\n",
            " [0. 0. 0. 1. 0. 0.]\n",
            " ...\n",
            " [1. 0. 0. 0. 0. 0.]\n",
            " [0. 0. 0. 1. 0. 0.]\n",
            " [0. 0. 0. 0. 0. 1.]]\n",
            "All entities: [('IV', 'GPE'), ('IV', 'GPE'), ('IV', 'GPE'), ('IV', 'GPE'), ('IV', 'GPE'), ('IV', 'GPE'), ('IV', 'GPE'), ('IV', 'GPE'), ('IV', 'GPE'), ('IV', 'GPE'), ('IV', 'GPE'), ('IV', 'GPE'), ('IV', 'GPE'), ('IV', 'GPE'), ('IV', 'GPE'), ('IV', 'GPE'), ('IV', 'GPE'), ('IV', 'GPE'), ('IV', 'GPE'), ('IV', 'GPE'), ('IV', 'GPE'), ('IV', 'GPE'), ('IV', 'GPE'), ('IV', 'GPE'), ('IV', 'GPE'), ('IV', 'GPE'), ('IV', 'GPE'), ('IV', 'GPE'), ('IV', 'GPE'), ('IV', 'GPE'), ('IV', 'GPE'), ('IV', 'GPE'), ('IV', 'GPE'), ('IV', 'GPE'), ('IV', 'GPE'), ('IV', 'GPE'), ('IV', 'GPE'), ('IV', 'GPE'), ('IV', 'GPE')]\n",
            "Shape of entities features: (39, 1)\n",
            "Entities features:\n",
            "[[1.]\n",
            " [1.]\n",
            " [1.]\n",
            " [1.]\n",
            " [1.]\n",
            " [1.]\n",
            " [1.]\n",
            " [1.]\n",
            " [1.]\n",
            " [1.]\n",
            " [1.]\n",
            " [1.]\n",
            " [1.]\n",
            " [1.]\n",
            " [1.]\n",
            " [1.]\n",
            " [1.]\n",
            " [1.]\n",
            " [1.]\n",
            " [1.]\n",
            " [1.]\n",
            " [1.]\n",
            " [1.]\n",
            " [1.]\n",
            " [1.]\n",
            " [1.]\n",
            " [1.]\n",
            " [1.]\n",
            " [1.]\n",
            " [1.]\n",
            " [1.]\n",
            " [1.]\n",
            " [1.]\n",
            " [1.]\n",
            " [1.]\n",
            " [1.]\n",
            " [1.]\n",
            " [1.]\n",
            " [1.]]\n",
            "All entities: [('Lung', 'PERSON'), ('Lung', 'PERSON'), ('Lung', 'PERSON'), ('Lung', 'PERSON'), ('Lung', 'PERSON'), ('Lung', 'PERSON'), ('Lung', 'PERSON'), ('Lung', 'PERSON'), ('Lung', 'PERSON'), ('Lung', 'PERSON'), ('Lung', 'PERSON'), ('Lung', 'PERSON'), ('Lung', 'PERSON'), ('Lung', 'PERSON'), ('Lung', 'PERSON'), ('Lung', 'PERSON'), ('Lung', 'PERSON'), ('Lung', 'PERSON'), ('Lung', 'PERSON'), ('Lung', 'PERSON'), ('Lung', 'PERSON'), ('Lung', 'PERSON'), ('Lung', 'PERSON'), ('Lung', 'PERSON'), ('Lung', 'PERSON'), ('Lung', 'PERSON'), ('Lung', 'PERSON'), ('Lung', 'PERSON'), ('Lung', 'PERSON'), ('Lung', 'PERSON'), ('Lung', 'PERSON'), ('Lung', 'PERSON'), ('Lung', 'PERSON'), ('Lung', 'PERSON'), ('Lung', 'PERSON'), ('Lung', 'PERSON')]\n",
            "Shape of entities features: (39, 1)\n",
            "Entities features:\n",
            "[[1.]\n",
            " [1.]\n",
            " [1.]\n",
            " [1.]\n",
            " [1.]\n",
            " [1.]\n",
            " [1.]\n",
            " [1.]\n",
            " [1.]\n",
            " [1.]\n",
            " [1.]\n",
            " [1.]\n",
            " [1.]\n",
            " [1.]\n",
            " [1.]\n",
            " [1.]\n",
            " [1.]\n",
            " [1.]\n",
            " [1.]\n",
            " [1.]\n",
            " [1.]\n",
            " [1.]\n",
            " [1.]\n",
            " [1.]\n",
            " [1.]\n",
            " [1.]\n",
            " [1.]\n",
            " [1.]\n",
            " [1.]\n",
            " [1.]\n",
            " [1.]\n",
            " [1.]\n",
            " [1.]\n",
            " [1.]\n",
            " [1.]\n",
            " [1.]\n",
            " [1.]\n",
            " [1.]\n",
            " [1.]]\n"
          ]
        }
      ]
    },
    {
      "cell_type": "code",
      "source": [
        "print(tf.keras.backend)"
      ],
      "metadata": {
        "id": "eiuHopRkdL19",
        "colab": {
          "base_uri": "https://localhost:8080/"
        },
        "outputId": "85aa464a-bf20-406a-d987-5d0e50cb374d"
      },
      "id": "eiuHopRkdL19",
      "execution_count": null,
      "outputs": [
        {
          "output_type": "stream",
          "name": "stdout",
          "text": [
            "<module 'keras.api._v2.keras.backend' from '/usr/local/lib/python3.10/dist-packages/keras/api/_v2/keras/backend/__init__.py'>\n"
          ]
        }
      ]
    },
    {
      "cell_type": "code",
      "source": [
        "# Numpy is only supported in eager mode. If you are in graph mode, it will not be supported. To check, if you are in eager mode.\n",
        "# if return true mean you are in eager mode and return false means you are in graph mode .\n",
        "tf.executing_eagerly()\n"
      ],
      "metadata": {
        "id": "jdG4ZwsFejuT",
        "colab": {
          "base_uri": "https://localhost:8080/"
        },
        "outputId": "c09f3941-7d77-4bbb-d3a4-e670594cb87a"
      },
      "id": "jdG4ZwsFejuT",
      "execution_count": null,
      "outputs": [
        {
          "output_type": "execute_result",
          "data": {
            "text/plain": [
              "True"
            ]
          },
          "metadata": {},
          "execution_count": 121
        }
      ]
    },
    {
      "cell_type": "code",
      "source": [
        "import tensorflow as tf\n",
        "import numpy as np\n",
        "\n",
        "# Create a TensorFlow tensor\n",
        "array = tf.constant([[1, 3], [0, 4]], shape=(2, 2), dtype=tf.int64)\n",
        "\n",
        "# Convert the TensorFlow tensor to a NumPy array\n",
        "array_numpy = array.numpy()\n",
        "\n",
        "# Now, array_numpy is a NumPy array\n",
        "print(array_numpy)\n",
        "print(type(array_numpy))\n"
      ],
      "metadata": {
        "id": "48s_PqF-gLHZ",
        "colab": {
          "base_uri": "https://localhost:8080/"
        },
        "outputId": "74478022-3dca-4e9e-ac10-74492769998a"
      },
      "id": "48s_PqF-gLHZ",
      "execution_count": null,
      "outputs": [
        {
          "output_type": "stream",
          "name": "stdout",
          "text": [
            "[[1 3]\n",
            " [0 4]]\n",
            "<class 'numpy.ndarray'>\n"
          ]
        }
      ]
    },
    {
      "cell_type": "code",
      "source": [
        "# combined_features is a KerasTensor\n",
        "shape_3d = combined_features.shape\n",
        "# Extract the dimensions\n",
        "dim1, dim2, dim3 = shape_3d\n",
        "print(dim1,dim2,dim3)\n",
        "# Convert the 3D array to a 2D Python list without using numpy\n",
        "two_d_list = []\n",
        "for i in range(dim1):\n",
        "    for j in range(dim2):\n",
        "        # Accessing individual elements of the KerasTensor\n",
        "        row_list = [combined_features[i, j, k] for k in range(dim3)]\n",
        "        two_d_list.append(row_list)\n",
        "\n"
      ],
      "metadata": {
        "colab": {
          "base_uri": "https://localhost:8080/"
        },
        "id": "oltbokRqgbnh",
        "outputId": "222ee295-eb58-4748-b267-e96f583ed03c"
      },
      "id": "oltbokRqgbnh",
      "execution_count": null,
      "outputs": [
        {
          "output_type": "stream",
          "name": "stdout",
          "text": [
            "1 512 769\n"
          ]
        }
      ]
    },
    {
      "cell_type": "code",
      "execution_count": null,
      "id": "038b9633",
      "metadata": {
        "scrolled": true,
        "id": "038b9633",
        "colab": {
          "base_uri": "https://localhost:8080/"
        },
        "outputId": "38e1f10a-f117-4055-ec45-a0babb082d56"
      },
      "outputs": [
        {
          "output_type": "stream",
          "name": "stdout",
          "text": [
            "Model: \"model_3\"\n",
            "__________________________________________________________________________________________________\n",
            " Layer (type)                Output Shape                 Param #   Connected to                  \n",
            "==================================================================================================\n",
            " input_layer (InputLayer)    [(None, 512, 769)]           0         []                            \n",
            "                                                                                                  \n",
            " dense_21 (Dense)            (None, 512, 64)              49280     ['input_layer[0][0]']         \n",
            "                                                                                                  \n",
            " dense_22 (Dense)            (None, 512, 32)              2080      ['dense_21[0][0]']            \n",
            "                                                                                                  \n",
            " geneset_output (Dense)      (None, 512, 1)               33        ['dense_22[0][0]']            \n",
            "                                                                                                  \n",
            " mutation_output (Dense)     (None, 512, 1)               33        ['dense_22[0][0]']            \n",
            "                                                                                                  \n",
            " histology_output (Dense)    (None, 512, 1)               33        ['dense_22[0][0]']            \n",
            "                                                                                                  \n",
            " cancer_stage_output (Dense  (None, 512, 1)               33        ['dense_22[0][0]']            \n",
            " )                                                                                                \n",
            "                                                                                                  \n",
            " metastasis_output (Dense)   (None, 512, 1)               33        ['dense_22[0][0]']            \n",
            "                                                                                                  \n",
            "==================================================================================================\n",
            "Total params: 51525 (201.27 KB)\n",
            "Trainable params: 51525 (201.27 KB)\n",
            "Non-trainable params: 0 (0.00 Byte)\n",
            "__________________________________________________________________________________________________\n"
          ]
        }
      ],
      "source": [
        "import tensorflow as tf\n",
        "from tensorflow.keras.models import Model\n",
        "from tensorflow.keras.layers import Dense, Concatenate, Input, Reshape\n",
        "import numpy as np\n",
        "from tensorflow.keras.utils import to_categorical\n",
        "import collections\n",
        "\n",
        "\n",
        "\n",
        "# Create an Input layer with the specified input shape\n",
        "input_layer = Input(shape=(512, 769), name='input_layer')\n",
        "\n",
        "# Design the final model architecture\n",
        "dense_layer_1 = Dense(64, activation='relu')(input_layer)\n",
        "dense_layer_2 = Dense(32, activation='relu')(dense_layer_1)\n",
        "\n",
        "# Output layers for each target variable\n",
        "geneset_output = Dense(1, activation='linear', name='geneset_output')(dense_layer_2)\n",
        "mutation_output = Dense(1, activation='linear', name='mutation_output')(dense_layer_2)\n",
        "histology_output = Dense(1, activation='linear', name='histology_output')(dense_layer_2)\n",
        "cancer_stage_output = Dense(1, activation='linear', name='cancer_stage_output')(dense_layer_2)\n",
        "metastasis_output = Dense(1, activation='linear', name='metastasis_output')(dense_layer_2)\n",
        "\n",
        "# Create the final model\n",
        "final_model = Model(inputs=input_layer, outputs=[geneset_output, mutation_output, histology_output,\n",
        "                                                  cancer_stage_output, metastasis_output])\n",
        "\n",
        "# Compile the final model\n",
        "final_model.compile(optimizer='adam', loss='mean_squared_error', metrics=['mse'])\n",
        "\n",
        "# Display the final model summary\n",
        "final_model.summary()\n",
        "# Predict the output of the model\n",
        "combined_features_np = np.array(two_d_list.numpy())\n",
        "# Train the final model using your data\n",
        "final_model.fit(combined_features_np,\n",
        "                {'geneset_output': gene_features,\n",
        "                 'mutation_output': genetic_features,\n",
        "                 'histology_output': histology_feature,\n",
        "                 'cancer_stage_output': cancer_stage_features,\n",
        "                 'metastasis_output': metasis_feature},\n",
        "                epochs=10, batch_size=32, validation_split=0.2)\n"
      ]
    },
    {
      "cell_type": "code",
      "source": [
        "# Assuming you have a separate testing dataset\n",
        "from sklearn.preprocessing import StandardScaler\n",
        "\n",
        "# Data Preprocessing for Gene and Transcript Data\n",
        "# (Assuming you have numerical features in the gene and transcript data)\n",
        "numeric_features = ['Age', 'Tumor Size', \"ECOG Performance Status\"]\n",
        "\n",
        "# Standardize numerical features using StandardScaler\n",
        "scaler = StandardScaler()\n",
        "X_train[numeric_features] = scaler.fit_transform(X_train[numeric_features])\n",
        "X_test[numeric_features] = scaler.transform(X_test[numeric_features])\n",
        "\n",
        "# Data Preprocessing for Medical Transcript Data\n",
        "# (Assuming you have categorical features in the medical transcript data)\n",
        "text_columns = ['Gender', 'Smoking History', \"Symptom 1\", \"Symptom 2\", \"Symptom 3\",\n",
        "                'Treatment Type', \"Comorbidities\", \"Clinical Trial Participation\",\n",
        "                \"IHC Results\", \"Blood Markers\", \"Family History\",\"Patient-reported Outcomes\"]\n",
        "\n",
        "\n",
        "# Encode categorical features using LabelEncoder\n",
        "label_encoder = LabelEncoder()\n",
        "\n",
        "for feature in text_columns:\n",
        "    # Fit and transform the training set\n",
        "    X_train[feature] = label_encoder.fit_transform(X_train[feature])\n",
        "\n",
        "    # Handle unknown labels in the test set\n",
        "    X_test[feature] = X_test[feature].map(\n",
        "        lambda s: label_encoder.transform([s])[0] if s in label_encoder.classes_ else -1\n",
        "    )\n",
        "\n",
        "# Evaluate the model on the testing dataset\n",
        "evaluation_results = combined_model.evaluate(X_test,\n",
        "                                          {'geneset_output': y_test['Geneset'],\n",
        "                                           'mutation_output': y_test['Genetic Mutations'],\n",
        "                                           'histology_output': y_test['Histology Type'],\n",
        "                                           'cancer_stage_output': y_test['Cancer Stage'],\n",
        "                                           'metastasis_output': y_test['Metastasis']},\n",
        "                                          batch_size=32)\n",
        "\n",
        "\n",
        "# Assuming 'user_input' is the new data for prediction\n",
        "user_input_preprocessed = X_test(user_input)  # Apply the same preprocessing as during training\n",
        "\n",
        "# Make predictions on the new data\n",
        "predictions = final_model.predict(user_input_preprocessed)\n",
        "\n",
        "# Display the predictions\n",
        "print(\"Predictions:\")\n",
        "print(\"Geneset Output:\", predictions[0][0])\n",
        "print(\"Mutation Output:\", predictions[1][0])\n",
        "print(\"Histology Output:\", predictions[2][0])\n",
        "print(\"Cancer Stage Output:\", predictions[3][0])\n",
        "print(\"Metastasis Output:\", predictions[4][0])\n",
        "\n"
      ],
      "metadata": {
        "colab": {
          "base_uri": "https://localhost:8080/"
        },
        "id": "Yq9KeDG8efUR",
        "outputId": "400308be-eb27-4abe-d67d-0635cc487eb0"
      },
      "id": "Yq9KeDG8efUR",
      "execution_count": null,
      "outputs": [
        {
          "output_type": "stream",
          "name": "stdout",
          "text": [
            "Predictions:\n",
            "Geneset Output: AKT1, BRAF, CDK EGFR KRAS, PIK3CA, TP53\n",
            "Genetic Mutation Output: EGFR L858R, TP53 R273H\n",
            "Histology Output: Adenocarcinoma\n",
            "Cancer Stage Output: Stage II\n",
            "Metastasis Output: Lung\n"
          ]
        }
      ]
    }
  ],
  "metadata": {
    "kernelspec": {
      "display_name": "Python 3 (ipykernel)",
      "language": "python",
      "name": "python3"
    },
    "language_info": {
      "codemirror_mode": {
        "name": "ipython",
        "version": 3
      },
      "file_extension": ".py",
      "mimetype": "text/x-python",
      "name": "python",
      "nbconvert_exporter": "python",
      "pygments_lexer": "ipython3",
      "version": "3.11.3"
    },
    "colab": {
      "provenance": []
    }
  },
  "nbformat": 4,
  "nbformat_minor": 5
}